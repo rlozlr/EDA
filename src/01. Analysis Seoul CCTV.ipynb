{
 "cells": [
  {
   "cell_type": "markdown",
   "id": "010d4f1d-bd33-4d70-9fc1-e795ab1a3f6b",
   "metadata": {},
   "source": [
    "## 1. 데이터 읽기"
   ]
  },
  {
   "cell_type": "code",
   "execution_count": 232,
   "id": "48660809-61be-48b1-bed1-87643eb57237",
   "metadata": {},
   "outputs": [],
   "source": [
    "import pandas as pd"
   ]
  },
  {
   "cell_type": "code",
   "execution_count": 233,
   "id": "5c8d98eb-1502-4c1e-92ef-a500f316c272",
   "metadata": {},
   "outputs": [],
   "source": [
    "# conda install -y pandas"
   ]
  },
  {
   "cell_type": "code",
   "execution_count": 234,
   "id": "333cd82d-d664-4551-8a96-d220bd14adfb",
   "metadata": {},
   "outputs": [],
   "source": [
    "CCTV_Seoul = pd.read_csv(\"../data/01. Seoul_CCTV.csv\", encoding=\"utf-8\")"
   ]
  },
  {
   "cell_type": "code",
   "execution_count": 235,
   "id": "cdebc1b1-3654-46af-a039-7992e9966db2",
   "metadata": {},
   "outputs": [
    {
     "data": {
      "text/html": [
       "<div>\n",
       "<style scoped>\n",
       "    .dataframe tbody tr th:only-of-type {\n",
       "        vertical-align: middle;\n",
       "    }\n",
       "\n",
       "    .dataframe tbody tr th {\n",
       "        vertical-align: top;\n",
       "    }\n",
       "\n",
       "    .dataframe thead th {\n",
       "        text-align: right;\n",
       "    }\n",
       "</style>\n",
       "<table border=\"1\" class=\"dataframe\">\n",
       "  <thead>\n",
       "    <tr style=\"text-align: right;\">\n",
       "      <th></th>\n",
       "      <th>기관명</th>\n",
       "      <th>소계</th>\n",
       "      <th>2013년도 이전</th>\n",
       "      <th>2014년</th>\n",
       "      <th>2015년</th>\n",
       "      <th>2016년</th>\n",
       "    </tr>\n",
       "  </thead>\n",
       "  <tbody>\n",
       "    <tr>\n",
       "      <th>0</th>\n",
       "      <td>강남구</td>\n",
       "      <td>3238</td>\n",
       "      <td>1292</td>\n",
       "      <td>430</td>\n",
       "      <td>584</td>\n",
       "      <td>932</td>\n",
       "    </tr>\n",
       "    <tr>\n",
       "      <th>1</th>\n",
       "      <td>강동구</td>\n",
       "      <td>1010</td>\n",
       "      <td>379</td>\n",
       "      <td>99</td>\n",
       "      <td>155</td>\n",
       "      <td>377</td>\n",
       "    </tr>\n",
       "    <tr>\n",
       "      <th>2</th>\n",
       "      <td>강북구</td>\n",
       "      <td>831</td>\n",
       "      <td>369</td>\n",
       "      <td>120</td>\n",
       "      <td>138</td>\n",
       "      <td>204</td>\n",
       "    </tr>\n",
       "    <tr>\n",
       "      <th>3</th>\n",
       "      <td>강서구</td>\n",
       "      <td>911</td>\n",
       "      <td>388</td>\n",
       "      <td>258</td>\n",
       "      <td>184</td>\n",
       "      <td>81</td>\n",
       "    </tr>\n",
       "    <tr>\n",
       "      <th>4</th>\n",
       "      <td>관악구</td>\n",
       "      <td>2109</td>\n",
       "      <td>846</td>\n",
       "      <td>260</td>\n",
       "      <td>390</td>\n",
       "      <td>613</td>\n",
       "    </tr>\n",
       "  </tbody>\n",
       "</table>\n",
       "</div>"
      ],
      "text/plain": [
       "   기관명    소계  2013년도 이전  2014년  2015년  2016년\n",
       "0  강남구  3238       1292    430    584    932\n",
       "1  강동구  1010        379     99    155    377\n",
       "2  강북구   831        369    120    138    204\n",
       "3  강서구   911        388    258    184     81\n",
       "4  관악구  2109        846    260    390    613"
      ]
     },
     "execution_count": 235,
     "metadata": {},
     "output_type": "execute_result"
    }
   ],
   "source": [
    "CCTV_Seoul.head()"
   ]
  },
  {
   "cell_type": "code",
   "execution_count": 236,
   "id": "9cde460e-b0d1-4d77-83a7-a8c0b0ea1920",
   "metadata": {},
   "outputs": [
    {
     "data": {
      "text/html": [
       "<div>\n",
       "<style scoped>\n",
       "    .dataframe tbody tr th:only-of-type {\n",
       "        vertical-align: middle;\n",
       "    }\n",
       "\n",
       "    .dataframe tbody tr th {\n",
       "        vertical-align: top;\n",
       "    }\n",
       "\n",
       "    .dataframe thead th {\n",
       "        text-align: right;\n",
       "    }\n",
       "</style>\n",
       "<table border=\"1\" class=\"dataframe\">\n",
       "  <thead>\n",
       "    <tr style=\"text-align: right;\">\n",
       "      <th></th>\n",
       "      <th>기관명</th>\n",
       "      <th>소계</th>\n",
       "      <th>2013년도 이전</th>\n",
       "      <th>2014년</th>\n",
       "      <th>2015년</th>\n",
       "      <th>2016년</th>\n",
       "    </tr>\n",
       "  </thead>\n",
       "  <tbody>\n",
       "    <tr>\n",
       "      <th>20</th>\n",
       "      <td>용산구</td>\n",
       "      <td>2096</td>\n",
       "      <td>1368</td>\n",
       "      <td>218</td>\n",
       "      <td>112</td>\n",
       "      <td>398</td>\n",
       "    </tr>\n",
       "    <tr>\n",
       "      <th>21</th>\n",
       "      <td>은평구</td>\n",
       "      <td>2108</td>\n",
       "      <td>1138</td>\n",
       "      <td>224</td>\n",
       "      <td>278</td>\n",
       "      <td>468</td>\n",
       "    </tr>\n",
       "    <tr>\n",
       "      <th>22</th>\n",
       "      <td>종로구</td>\n",
       "      <td>1619</td>\n",
       "      <td>464</td>\n",
       "      <td>314</td>\n",
       "      <td>211</td>\n",
       "      <td>630</td>\n",
       "    </tr>\n",
       "    <tr>\n",
       "      <th>23</th>\n",
       "      <td>중구</td>\n",
       "      <td>1023</td>\n",
       "      <td>413</td>\n",
       "      <td>190</td>\n",
       "      <td>72</td>\n",
       "      <td>348</td>\n",
       "    </tr>\n",
       "    <tr>\n",
       "      <th>24</th>\n",
       "      <td>중랑구</td>\n",
       "      <td>916</td>\n",
       "      <td>509</td>\n",
       "      <td>121</td>\n",
       "      <td>177</td>\n",
       "      <td>109</td>\n",
       "    </tr>\n",
       "  </tbody>\n",
       "</table>\n",
       "</div>"
      ],
      "text/plain": [
       "    기관명    소계  2013년도 이전  2014년  2015년  2016년\n",
       "20  용산구  2096       1368    218    112    398\n",
       "21  은평구  2108       1138    224    278    468\n",
       "22  종로구  1619        464    314    211    630\n",
       "23   중구  1023        413    190     72    348\n",
       "24  중랑구   916        509    121    177    109"
      ]
     },
     "execution_count": 236,
     "metadata": {},
     "output_type": "execute_result"
    }
   ],
   "source": [
    "CCTV_Seoul.tail()"
   ]
  },
  {
   "cell_type": "code",
   "execution_count": 237,
   "id": "40c2c8ee-ca44-4c42-af39-f8a2d07fabaf",
   "metadata": {},
   "outputs": [
    {
     "data": {
      "text/plain": [
       "Index(['기관명', '소계', '2013년도 이전', '2014년', '2015년', '2016년'], dtype='object')"
      ]
     },
     "execution_count": 237,
     "metadata": {},
     "output_type": "execute_result"
    }
   ],
   "source": [
    "CCTV_Seoul.columns"
   ]
  },
  {
   "cell_type": "code",
   "execution_count": 238,
   "id": "933cddeb-8071-4191-ae82-1a3ba73177eb",
   "metadata": {},
   "outputs": [
    {
     "data": {
      "text/plain": [
       "'기관명'"
      ]
     },
     "execution_count": 238,
     "metadata": {},
     "output_type": "execute_result"
    }
   ],
   "source": [
    "CCTV_Seoul.columns[0]"
   ]
  },
  {
   "cell_type": "code",
   "execution_count": 239,
   "id": "b8873927-adbc-450d-a342-ce4ce18a6f80",
   "metadata": {},
   "outputs": [],
   "source": [
    "CCTV_Seoul.rename(columns={CCTV_Seoul.columns[0]: \"구별\"}, inplace=True)"
   ]
  },
  {
   "cell_type": "code",
   "execution_count": 240,
   "id": "0ee1ed42-7667-40ea-93f9-4769a8cd1d1e",
   "metadata": {},
   "outputs": [
    {
     "data": {
      "text/html": [
       "<div>\n",
       "<style scoped>\n",
       "    .dataframe tbody tr th:only-of-type {\n",
       "        vertical-align: middle;\n",
       "    }\n",
       "\n",
       "    .dataframe tbody tr th {\n",
       "        vertical-align: top;\n",
       "    }\n",
       "\n",
       "    .dataframe thead th {\n",
       "        text-align: right;\n",
       "    }\n",
       "</style>\n",
       "<table border=\"1\" class=\"dataframe\">\n",
       "  <thead>\n",
       "    <tr style=\"text-align: right;\">\n",
       "      <th></th>\n",
       "      <th>구별</th>\n",
       "      <th>소계</th>\n",
       "      <th>2013년도 이전</th>\n",
       "      <th>2014년</th>\n",
       "      <th>2015년</th>\n",
       "      <th>2016년</th>\n",
       "    </tr>\n",
       "  </thead>\n",
       "  <tbody>\n",
       "    <tr>\n",
       "      <th>0</th>\n",
       "      <td>강남구</td>\n",
       "      <td>3238</td>\n",
       "      <td>1292</td>\n",
       "      <td>430</td>\n",
       "      <td>584</td>\n",
       "      <td>932</td>\n",
       "    </tr>\n",
       "    <tr>\n",
       "      <th>1</th>\n",
       "      <td>강동구</td>\n",
       "      <td>1010</td>\n",
       "      <td>379</td>\n",
       "      <td>99</td>\n",
       "      <td>155</td>\n",
       "      <td>377</td>\n",
       "    </tr>\n",
       "    <tr>\n",
       "      <th>2</th>\n",
       "      <td>강북구</td>\n",
       "      <td>831</td>\n",
       "      <td>369</td>\n",
       "      <td>120</td>\n",
       "      <td>138</td>\n",
       "      <td>204</td>\n",
       "    </tr>\n",
       "    <tr>\n",
       "      <th>3</th>\n",
       "      <td>강서구</td>\n",
       "      <td>911</td>\n",
       "      <td>388</td>\n",
       "      <td>258</td>\n",
       "      <td>184</td>\n",
       "      <td>81</td>\n",
       "    </tr>\n",
       "    <tr>\n",
       "      <th>4</th>\n",
       "      <td>관악구</td>\n",
       "      <td>2109</td>\n",
       "      <td>846</td>\n",
       "      <td>260</td>\n",
       "      <td>390</td>\n",
       "      <td>613</td>\n",
       "    </tr>\n",
       "  </tbody>\n",
       "</table>\n",
       "</div>"
      ],
      "text/plain": [
       "    구별    소계  2013년도 이전  2014년  2015년  2016년\n",
       "0  강남구  3238       1292    430    584    932\n",
       "1  강동구  1010        379     99    155    377\n",
       "2  강북구   831        369    120    138    204\n",
       "3  강서구   911        388    258    184     81\n",
       "4  관악구  2109        846    260    390    613"
      ]
     },
     "execution_count": 240,
     "metadata": {},
     "output_type": "execute_result"
    }
   ],
   "source": [
    "CCTV_Seoul.head()"
   ]
  },
  {
   "cell_type": "code",
   "execution_count": 241,
   "id": "3f2630aa-5f89-4a39-b1b5-696cb20aaf88",
   "metadata": {},
   "outputs": [],
   "source": [
    "pop_Seoul = pd.read_excel(\n",
    "    \"../data/01. Seoul_Population.xls\", header=2, usecols=\"B, D, G, J, N\"\n",
    ")"
   ]
  },
  {
   "cell_type": "code",
   "execution_count": 242,
   "id": "e9022e47-cee3-4002-b534-f77eb7cd0873",
   "metadata": {},
   "outputs": [
    {
     "data": {
      "text/html": [
       "<div>\n",
       "<style scoped>\n",
       "    .dataframe tbody tr th:only-of-type {\n",
       "        vertical-align: middle;\n",
       "    }\n",
       "\n",
       "    .dataframe tbody tr th {\n",
       "        vertical-align: top;\n",
       "    }\n",
       "\n",
       "    .dataframe thead th {\n",
       "        text-align: right;\n",
       "    }\n",
       "</style>\n",
       "<table border=\"1\" class=\"dataframe\">\n",
       "  <thead>\n",
       "    <tr style=\"text-align: right;\">\n",
       "      <th></th>\n",
       "      <th>동별(2)</th>\n",
       "      <th>소계.1</th>\n",
       "      <th>소계.2</th>\n",
       "      <th>소계.3</th>\n",
       "      <th>소계.5</th>\n",
       "    </tr>\n",
       "  </thead>\n",
       "  <tbody>\n",
       "    <tr>\n",
       "      <th>0</th>\n",
       "      <td>소계</td>\n",
       "      <td>9619861</td>\n",
       "      <td>9366283</td>\n",
       "      <td>253578</td>\n",
       "      <td>1785286</td>\n",
       "    </tr>\n",
       "    <tr>\n",
       "      <th>1</th>\n",
       "      <td>종로구</td>\n",
       "      <td>150204</td>\n",
       "      <td>139189</td>\n",
       "      <td>11015</td>\n",
       "      <td>29338</td>\n",
       "    </tr>\n",
       "    <tr>\n",
       "      <th>2</th>\n",
       "      <td>중구</td>\n",
       "      <td>131800</td>\n",
       "      <td>121475</td>\n",
       "      <td>10325</td>\n",
       "      <td>26516</td>\n",
       "    </tr>\n",
       "    <tr>\n",
       "      <th>3</th>\n",
       "      <td>용산구</td>\n",
       "      <td>219451</td>\n",
       "      <td>206061</td>\n",
       "      <td>13390</td>\n",
       "      <td>39021</td>\n",
       "    </tr>\n",
       "    <tr>\n",
       "      <th>4</th>\n",
       "      <td>성동구</td>\n",
       "      <td>283853</td>\n",
       "      <td>276597</td>\n",
       "      <td>7256</td>\n",
       "      <td>50534</td>\n",
       "    </tr>\n",
       "  </tbody>\n",
       "</table>\n",
       "</div>"
      ],
      "text/plain": [
       "  동별(2)     소계.1     소계.2    소계.3     소계.5\n",
       "0    소계  9619861  9366283  253578  1785286\n",
       "1   종로구   150204   139189   11015    29338\n",
       "2    중구   131800   121475   10325    26516\n",
       "3   용산구   219451   206061   13390    39021\n",
       "4   성동구   283853   276597    7256    50534"
      ]
     },
     "execution_count": 242,
     "metadata": {},
     "output_type": "execute_result"
    }
   ],
   "source": [
    "pop_Seoul.head()"
   ]
  },
  {
   "cell_type": "code",
   "execution_count": 243,
   "id": "b0961821-15fb-41e8-99f4-dca0409e9b03",
   "metadata": {},
   "outputs": [
    {
     "data": {
      "text/html": [
       "<div>\n",
       "<style scoped>\n",
       "    .dataframe tbody tr th:only-of-type {\n",
       "        vertical-align: middle;\n",
       "    }\n",
       "\n",
       "    .dataframe tbody tr th {\n",
       "        vertical-align: top;\n",
       "    }\n",
       "\n",
       "    .dataframe thead th {\n",
       "        text-align: right;\n",
       "    }\n",
       "</style>\n",
       "<table border=\"1\" class=\"dataframe\">\n",
       "  <thead>\n",
       "    <tr style=\"text-align: right;\">\n",
       "      <th></th>\n",
       "      <th>구별</th>\n",
       "      <th>인구수</th>\n",
       "      <th>한국인</th>\n",
       "      <th>외국인</th>\n",
       "      <th>고령자</th>\n",
       "    </tr>\n",
       "  </thead>\n",
       "  <tbody>\n",
       "    <tr>\n",
       "      <th>0</th>\n",
       "      <td>소계</td>\n",
       "      <td>9619861</td>\n",
       "      <td>9366283</td>\n",
       "      <td>253578</td>\n",
       "      <td>1785286</td>\n",
       "    </tr>\n",
       "    <tr>\n",
       "      <th>1</th>\n",
       "      <td>종로구</td>\n",
       "      <td>150204</td>\n",
       "      <td>139189</td>\n",
       "      <td>11015</td>\n",
       "      <td>29338</td>\n",
       "    </tr>\n",
       "    <tr>\n",
       "      <th>2</th>\n",
       "      <td>중구</td>\n",
       "      <td>131800</td>\n",
       "      <td>121475</td>\n",
       "      <td>10325</td>\n",
       "      <td>26516</td>\n",
       "    </tr>\n",
       "    <tr>\n",
       "      <th>3</th>\n",
       "      <td>용산구</td>\n",
       "      <td>219451</td>\n",
       "      <td>206061</td>\n",
       "      <td>13390</td>\n",
       "      <td>39021</td>\n",
       "    </tr>\n",
       "    <tr>\n",
       "      <th>4</th>\n",
       "      <td>성동구</td>\n",
       "      <td>283853</td>\n",
       "      <td>276597</td>\n",
       "      <td>7256</td>\n",
       "      <td>50534</td>\n",
       "    </tr>\n",
       "  </tbody>\n",
       "</table>\n",
       "</div>"
      ],
      "text/plain": [
       "    구별      인구수      한국인     외국인      고령자\n",
       "0   소계  9619861  9366283  253578  1785286\n",
       "1  종로구   150204   139189   11015    29338\n",
       "2   중구   131800   121475   10325    26516\n",
       "3  용산구   219451   206061   13390    39021\n",
       "4  성동구   283853   276597    7256    50534"
      ]
     },
     "execution_count": 243,
     "metadata": {},
     "output_type": "execute_result"
    }
   ],
   "source": [
    "pop_Seoul.rename(\n",
    "    columns={\n",
    "        pop_Seoul.columns[0]: \"구별\",\n",
    "        pop_Seoul.columns[1]: \"인구수\",\n",
    "        pop_Seoul.columns[2]: \"한국인\",\n",
    "        pop_Seoul.columns[3]: \"외국인\",\n",
    "        pop_Seoul.columns[4]: \"고령자\",\n",
    "    },\n",
    "    inplace=True,\n",
    ")\n",
    "\n",
    "pop_Seoul.head()"
   ]
  },
  {
   "cell_type": "markdown",
   "id": "626b26af-eb01-4247-98e1-66aa030e143f",
   "metadata": {},
   "source": [
    "---"
   ]
  },
  {
   "cell_type": "markdown",
   "id": "36ef67b4-7145-476a-bb87-5fe58e6a0913",
   "metadata": {},
   "source": [
    "# Pandas 기초\n",
    "- Python에서 R만큼의 강력한 데이터 한들링 성능을 제공하는 모듈\n",
    "- 단일 프로세스에서는 최대 효율\n",
    "- 코딩 가능하고 응용가능한 엑셀로 받아들여도 됨\n",
    "- 누군가 스테로이드를 맞은 엑셀로 표현함"
   ]
  },
  {
   "cell_type": "markdown",
   "id": "c6e852f3-6a7b-424c-8c1b-6557dac4648b",
   "metadata": {},
   "source": [
    "### Series\n",
    "- index와 value로 이루어져 있음\n",
    "- 한 가지 데이터 타입만 가질 수 있음"
   ]
  },
  {
   "cell_type": "code",
   "execution_count": 244,
   "id": "3a7be776-0ae7-4405-a875-91c3a66a7064",
   "metadata": {},
   "outputs": [],
   "source": [
    "import pandas as pd\n",
    "import numpy as np"
   ]
  },
  {
   "cell_type": "markdown",
   "id": "fbcc7fcb-2f9e-4dde-b183-ae768d03d54f",
   "metadata": {},
   "source": [
    "- pandas는 통상 pd\n",
    "- numpy는 통상 np"
   ]
  },
  {
   "cell_type": "code",
   "execution_count": 245,
   "id": "7b3c04a9-4f2d-4bbe-a8c7-95523837b40e",
   "metadata": {},
   "outputs": [
    {
     "data": {
      "text/plain": [
       "Series([], dtype: object)"
      ]
     },
     "execution_count": 245,
     "metadata": {},
     "output_type": "execute_result"
    }
   ],
   "source": [
    "pd.Series()"
   ]
  },
  {
   "cell_type": "code",
   "execution_count": 246,
   "id": "7119478c-d332-4523-b71c-5fb63a2cd7a3",
   "metadata": {},
   "outputs": [
    {
     "data": {
      "text/plain": [
       "0    1\n",
       "1    2\n",
       "2    3\n",
       "3    4\n",
       "dtype: int64"
      ]
     },
     "execution_count": 246,
     "metadata": {},
     "output_type": "execute_result"
    }
   ],
   "source": [
    "pd.Series([1, 2, 3, 4])"
   ]
  },
  {
   "cell_type": "code",
   "execution_count": 370,
   "id": "b23861d6-962c-4457-a7d6-92ea0db8e57d",
   "metadata": {},
   "outputs": [],
   "source": [
    "# pd.Series([1, 2, 3, 4], dtype=float64)"
   ]
  },
  {
   "cell_type": "code",
   "execution_count": 371,
   "id": "4d18e0d9-124f-46d7-b015-cb33f08a933b",
   "metadata": {},
   "outputs": [
    {
     "data": {
      "text/plain": [
       "0    1.0\n",
       "1    2.0\n",
       "2    3.0\n",
       "3    4.0\n",
       "dtype: float64"
      ]
     },
     "execution_count": 371,
     "metadata": {},
     "output_type": "execute_result"
    }
   ],
   "source": [
    "pd.Series([1, 2, 3, 4], dtype=np.float64)"
   ]
  },
  {
   "cell_type": "code",
   "execution_count": 372,
   "id": "4f146a8f-f056-4498-ac06-c9e7c41f111d",
   "metadata": {},
   "outputs": [
    {
     "data": {
      "text/plain": [
       "0    1\n",
       "1    2\n",
       "2    3\n",
       "3    4\n",
       "dtype: object"
      ]
     },
     "execution_count": 372,
     "metadata": {},
     "output_type": "execute_result"
    }
   ],
   "source": [
    "pd.Series([1, 2, 3, 4], dtype=str)"
   ]
  },
  {
   "cell_type": "code",
   "execution_count": 373,
   "id": "a9b90cbe-d47b-4e00-8058-d737d5d1f74a",
   "metadata": {},
   "outputs": [
    {
     "data": {
      "text/plain": [
       "0    1\n",
       "1    2\n",
       "2    3\n",
       "dtype: int32"
      ]
     },
     "execution_count": 373,
     "metadata": {},
     "output_type": "execute_result"
    }
   ],
   "source": [
    "pd.Series(np.array([1, 2, 3]))"
   ]
  },
  {
   "cell_type": "code",
   "execution_count": 374,
   "id": "0214d61f-62e2-4f60-99cb-199977a34a14",
   "metadata": {},
   "outputs": [
    {
     "data": {
      "text/plain": [
       "Key    Value\n",
       "dtype: object"
      ]
     },
     "execution_count": 374,
     "metadata": {},
     "output_type": "execute_result"
    }
   ],
   "source": [
    "pd.Series({\"Key\":\"Value\"})"
   ]
  },
  {
   "cell_type": "code",
   "execution_count": 375,
   "id": "b3740eb9-60bf-4db0-9803-07af8d05d6e5",
   "metadata": {},
   "outputs": [
    {
     "data": {
      "text/plain": [
       "0    1\n",
       "1    2\n",
       "2    3\n",
       "3    4\n",
       "4    5\n",
       "dtype: object"
      ]
     },
     "execution_count": 375,
     "metadata": {},
     "output_type": "execute_result"
    }
   ],
   "source": [
    "data = pd.Series([1, 2, 3, 4, \"5\"])\n",
    "data"
   ]
  },
  {
   "cell_type": "code",
   "execution_count": 406,
   "id": "2e782b3c-285f-43a2-b9af-7215eef213c3",
   "metadata": {},
   "outputs": [],
   "source": [
    "# 짝수 찾기\n",
    "# data % 2"
   ]
  },
  {
   "cell_type": "code",
   "execution_count": 407,
   "id": "9f87b61f-e253-4029-8e43-7c9661cb322e",
   "metadata": {},
   "outputs": [
    {
     "data": {
      "text/plain": [
       "0    1\n",
       "1    2\n",
       "2    3\n",
       "3    4\n",
       "dtype: int64"
      ]
     },
     "execution_count": 407,
     "metadata": {},
     "output_type": "execute_result"
    }
   ],
   "source": [
    "data = pd.Series([1, 2, 3, 4])\n",
    "data"
   ]
  },
  {
   "cell_type": "code",
   "execution_count": 408,
   "id": "4bb38bf5-1727-4eb7-86bd-732e2dc1ad6e",
   "metadata": {},
   "outputs": [
    {
     "data": {
      "text/plain": [
       "0    1\n",
       "1    0\n",
       "2    1\n",
       "3    0\n",
       "dtype: int64"
      ]
     },
     "execution_count": 408,
     "metadata": {},
     "output_type": "execute_result"
    }
   ],
   "source": [
    "data % 2"
   ]
  },
  {
   "cell_type": "markdown",
   "id": "9d8b3bd0-a24d-4b6a-a369-7afaebc45a35",
   "metadata": {},
   "source": [
    "### 날짜 데이터"
   ]
  },
  {
   "cell_type": "code",
   "execution_count": 409,
   "id": "19e8fec0-ec86-4d0f-a243-ca857e78bc0d",
   "metadata": {},
   "outputs": [
    {
     "data": {
      "text/plain": [
       "DatetimeIndex(['2021-01-01', '2021-01-02', '2021-01-03', '2021-01-04',\n",
       "               '2021-01-05', '2021-01-06'],\n",
       "              dtype='datetime64[ns]', freq='D')"
      ]
     },
     "execution_count": 409,
     "metadata": {},
     "output_type": "execute_result"
    }
   ],
   "source": [
    "dates = pd.date_range(\"20210101\", periods=6)\n",
    "dates"
   ]
  },
  {
   "cell_type": "markdown",
   "id": "e823ae50-c4f9-458d-9b88-244f94a8ec4f",
   "metadata": {},
   "source": [
    "### DataFrame\n",
    "- pd.Series()\n",
    "    - index, value\n",
    "- pd.DataFrame()\n",
    "    - index, value, column"
   ]
  },
  {
   "cell_type": "code",
   "execution_count": 410,
   "id": "ced64a3e-7dc4-465c-b955-e27f95d9f463",
   "metadata": {},
   "outputs": [
    {
     "data": {
      "text/plain": [
       "array([[-1.15514899,  0.23979641, -0.18984488, -0.9579065 ],\n",
       "       [ 0.21944461,  0.71216249,  0.43817907,  1.5081205 ],\n",
       "       [-0.83563904, -0.33294417, -0.10771869,  0.6828525 ],\n",
       "       [-1.63726424,  0.21508605,  0.62258286, -0.3257665 ],\n",
       "       [-0.05952802,  1.48341651,  0.55758867, -0.19330677],\n",
       "       [-1.43905772, -0.09341315, -0.06123106, -0.12120872]])"
      ]
     },
     "execution_count": 410,
     "metadata": {},
     "output_type": "execute_result"
    }
   ],
   "source": [
    "# 표준정규분포에서 샘플링한 난수 생성\n",
    "data = np.random.randn(6, 4)\n",
    "data"
   ]
  },
  {
   "cell_type": "code",
   "execution_count": 411,
   "id": "d9516225-9398-4d68-9fa7-ed02e1b440be",
   "metadata": {},
   "outputs": [
    {
     "data": {
      "text/html": [
       "<div>\n",
       "<style scoped>\n",
       "    .dataframe tbody tr th:only-of-type {\n",
       "        vertical-align: middle;\n",
       "    }\n",
       "\n",
       "    .dataframe tbody tr th {\n",
       "        vertical-align: top;\n",
       "    }\n",
       "\n",
       "    .dataframe thead th {\n",
       "        text-align: right;\n",
       "    }\n",
       "</style>\n",
       "<table border=\"1\" class=\"dataframe\">\n",
       "  <thead>\n",
       "    <tr style=\"text-align: right;\">\n",
       "      <th></th>\n",
       "      <th>A</th>\n",
       "      <th>B</th>\n",
       "      <th>C</th>\n",
       "      <th>D</th>\n",
       "    </tr>\n",
       "  </thead>\n",
       "  <tbody>\n",
       "    <tr>\n",
       "      <th>2021-01-01</th>\n",
       "      <td>-1.155149</td>\n",
       "      <td>0.239796</td>\n",
       "      <td>-0.189845</td>\n",
       "      <td>-0.957906</td>\n",
       "    </tr>\n",
       "    <tr>\n",
       "      <th>2021-01-02</th>\n",
       "      <td>0.219445</td>\n",
       "      <td>0.712162</td>\n",
       "      <td>0.438179</td>\n",
       "      <td>1.508120</td>\n",
       "    </tr>\n",
       "    <tr>\n",
       "      <th>2021-01-03</th>\n",
       "      <td>-0.835639</td>\n",
       "      <td>-0.332944</td>\n",
       "      <td>-0.107719</td>\n",
       "      <td>0.682853</td>\n",
       "    </tr>\n",
       "    <tr>\n",
       "      <th>2021-01-04</th>\n",
       "      <td>-1.637264</td>\n",
       "      <td>0.215086</td>\n",
       "      <td>0.622583</td>\n",
       "      <td>-0.325767</td>\n",
       "    </tr>\n",
       "    <tr>\n",
       "      <th>2021-01-05</th>\n",
       "      <td>-0.059528</td>\n",
       "      <td>1.483417</td>\n",
       "      <td>0.557589</td>\n",
       "      <td>-0.193307</td>\n",
       "    </tr>\n",
       "    <tr>\n",
       "      <th>2021-01-06</th>\n",
       "      <td>-1.439058</td>\n",
       "      <td>-0.093413</td>\n",
       "      <td>-0.061231</td>\n",
       "      <td>-0.121209</td>\n",
       "    </tr>\n",
       "  </tbody>\n",
       "</table>\n",
       "</div>"
      ],
      "text/plain": [
       "                   A         B         C         D\n",
       "2021-01-01 -1.155149  0.239796 -0.189845 -0.957906\n",
       "2021-01-02  0.219445  0.712162  0.438179  1.508120\n",
       "2021-01-03 -0.835639 -0.332944 -0.107719  0.682853\n",
       "2021-01-04 -1.637264  0.215086  0.622583 -0.325767\n",
       "2021-01-05 -0.059528  1.483417  0.557589 -0.193307\n",
       "2021-01-06 -1.439058 -0.093413 -0.061231 -0.121209"
      ]
     },
     "execution_count": 411,
     "metadata": {},
     "output_type": "execute_result"
    }
   ],
   "source": [
    "df = pd.DataFrame(data, index=dates, columns=[\"A\",\"B\",\"C\",\"D\"])\n",
    "df"
   ]
  },
  {
   "cell_type": "markdown",
   "id": "83da36d8-ef02-42e9-a334-c7873d8de5e8",
   "metadata": {},
   "source": [
    "### 데이터 프레임 정보 탐색\n",
    "- df.head()"
   ]
  },
  {
   "cell_type": "code",
   "execution_count": 412,
   "id": "6e6c89fe-3f4a-4562-b200-991092547198",
   "metadata": {},
   "outputs": [
    {
     "data": {
      "text/html": [
       "<div>\n",
       "<style scoped>\n",
       "    .dataframe tbody tr th:only-of-type {\n",
       "        vertical-align: middle;\n",
       "    }\n",
       "\n",
       "    .dataframe tbody tr th {\n",
       "        vertical-align: top;\n",
       "    }\n",
       "\n",
       "    .dataframe thead th {\n",
       "        text-align: right;\n",
       "    }\n",
       "</style>\n",
       "<table border=\"1\" class=\"dataframe\">\n",
       "  <thead>\n",
       "    <tr style=\"text-align: right;\">\n",
       "      <th></th>\n",
       "      <th>A</th>\n",
       "      <th>B</th>\n",
       "      <th>C</th>\n",
       "      <th>D</th>\n",
       "    </tr>\n",
       "  </thead>\n",
       "  <tbody>\n",
       "    <tr>\n",
       "      <th>2021-01-01</th>\n",
       "      <td>-1.155149</td>\n",
       "      <td>0.239796</td>\n",
       "      <td>-0.189845</td>\n",
       "      <td>-0.957906</td>\n",
       "    </tr>\n",
       "    <tr>\n",
       "      <th>2021-01-02</th>\n",
       "      <td>0.219445</td>\n",
       "      <td>0.712162</td>\n",
       "      <td>0.438179</td>\n",
       "      <td>1.508120</td>\n",
       "    </tr>\n",
       "    <tr>\n",
       "      <th>2021-01-03</th>\n",
       "      <td>-0.835639</td>\n",
       "      <td>-0.332944</td>\n",
       "      <td>-0.107719</td>\n",
       "      <td>0.682853</td>\n",
       "    </tr>\n",
       "    <tr>\n",
       "      <th>2021-01-04</th>\n",
       "      <td>-1.637264</td>\n",
       "      <td>0.215086</td>\n",
       "      <td>0.622583</td>\n",
       "      <td>-0.325767</td>\n",
       "    </tr>\n",
       "    <tr>\n",
       "      <th>2021-01-05</th>\n",
       "      <td>-0.059528</td>\n",
       "      <td>1.483417</td>\n",
       "      <td>0.557589</td>\n",
       "      <td>-0.193307</td>\n",
       "    </tr>\n",
       "  </tbody>\n",
       "</table>\n",
       "</div>"
      ],
      "text/plain": [
       "                   A         B         C         D\n",
       "2021-01-01 -1.155149  0.239796 -0.189845 -0.957906\n",
       "2021-01-02  0.219445  0.712162  0.438179  1.508120\n",
       "2021-01-03 -0.835639 -0.332944 -0.107719  0.682853\n",
       "2021-01-04 -1.637264  0.215086  0.622583 -0.325767\n",
       "2021-01-05 -0.059528  1.483417  0.557589 -0.193307"
      ]
     },
     "execution_count": 412,
     "metadata": {},
     "output_type": "execute_result"
    }
   ],
   "source": [
    "df.head()"
   ]
  },
  {
   "cell_type": "markdown",
   "id": "8a5114aa-5fff-4bc1-8bb0-e34c40fe78cf",
   "metadata": {},
   "source": [
    "- df.tail()"
   ]
  },
  {
   "cell_type": "code",
   "execution_count": 413,
   "id": "f4dc0e5f-bcf9-488d-bace-d798a3b5ea0c",
   "metadata": {},
   "outputs": [
    {
     "data": {
      "text/html": [
       "<div>\n",
       "<style scoped>\n",
       "    .dataframe tbody tr th:only-of-type {\n",
       "        vertical-align: middle;\n",
       "    }\n",
       "\n",
       "    .dataframe tbody tr th {\n",
       "        vertical-align: top;\n",
       "    }\n",
       "\n",
       "    .dataframe thead th {\n",
       "        text-align: right;\n",
       "    }\n",
       "</style>\n",
       "<table border=\"1\" class=\"dataframe\">\n",
       "  <thead>\n",
       "    <tr style=\"text-align: right;\">\n",
       "      <th></th>\n",
       "      <th>A</th>\n",
       "      <th>B</th>\n",
       "      <th>C</th>\n",
       "      <th>D</th>\n",
       "    </tr>\n",
       "  </thead>\n",
       "  <tbody>\n",
       "    <tr>\n",
       "      <th>2021-01-02</th>\n",
       "      <td>0.219445</td>\n",
       "      <td>0.712162</td>\n",
       "      <td>0.438179</td>\n",
       "      <td>1.508120</td>\n",
       "    </tr>\n",
       "    <tr>\n",
       "      <th>2021-01-03</th>\n",
       "      <td>-0.835639</td>\n",
       "      <td>-0.332944</td>\n",
       "      <td>-0.107719</td>\n",
       "      <td>0.682853</td>\n",
       "    </tr>\n",
       "    <tr>\n",
       "      <th>2021-01-04</th>\n",
       "      <td>-1.637264</td>\n",
       "      <td>0.215086</td>\n",
       "      <td>0.622583</td>\n",
       "      <td>-0.325767</td>\n",
       "    </tr>\n",
       "    <tr>\n",
       "      <th>2021-01-05</th>\n",
       "      <td>-0.059528</td>\n",
       "      <td>1.483417</td>\n",
       "      <td>0.557589</td>\n",
       "      <td>-0.193307</td>\n",
       "    </tr>\n",
       "    <tr>\n",
       "      <th>2021-01-06</th>\n",
       "      <td>-1.439058</td>\n",
       "      <td>-0.093413</td>\n",
       "      <td>-0.061231</td>\n",
       "      <td>-0.121209</td>\n",
       "    </tr>\n",
       "  </tbody>\n",
       "</table>\n",
       "</div>"
      ],
      "text/plain": [
       "                   A         B         C         D\n",
       "2021-01-02  0.219445  0.712162  0.438179  1.508120\n",
       "2021-01-03 -0.835639 -0.332944 -0.107719  0.682853\n",
       "2021-01-04 -1.637264  0.215086  0.622583 -0.325767\n",
       "2021-01-05 -0.059528  1.483417  0.557589 -0.193307\n",
       "2021-01-06 -1.439058 -0.093413 -0.061231 -0.121209"
      ]
     },
     "execution_count": 413,
     "metadata": {},
     "output_type": "execute_result"
    }
   ],
   "source": [
    "df.tail()"
   ]
  },
  {
   "cell_type": "markdown",
   "id": "246ef807-37d6-4e5e-8ef1-2ec1eff7a5e1",
   "metadata": {},
   "source": [
    "- df.index"
   ]
  },
  {
   "cell_type": "code",
   "execution_count": 414,
   "id": "436e2485-1d62-4e4b-8d9e-7fba4f0e98da",
   "metadata": {},
   "outputs": [
    {
     "data": {
      "text/plain": [
       "DatetimeIndex(['2021-01-01', '2021-01-02', '2021-01-03', '2021-01-04',\n",
       "               '2021-01-05', '2021-01-06'],\n",
       "              dtype='datetime64[ns]', freq='D')"
      ]
     },
     "execution_count": 414,
     "metadata": {},
     "output_type": "execute_result"
    }
   ],
   "source": [
    "df.index"
   ]
  },
  {
   "cell_type": "code",
   "execution_count": 415,
   "id": "1c567bcc-a609-4d9a-a245-0c807ea4d881",
   "metadata": {},
   "outputs": [
    {
     "data": {
      "text/plain": [
       "Index(['A', 'B', 'C', 'D'], dtype='object')"
      ]
     },
     "execution_count": 415,
     "metadata": {},
     "output_type": "execute_result"
    }
   ],
   "source": [
    "df.columns"
   ]
  },
  {
   "cell_type": "code",
   "execution_count": 416,
   "id": "8646cc22-d5ae-4876-a01c-6bd4ae4169ab",
   "metadata": {},
   "outputs": [
    {
     "data": {
      "text/plain": [
       "array([[-1.15514899,  0.23979641, -0.18984488, -0.9579065 ],\n",
       "       [ 0.21944461,  0.71216249,  0.43817907,  1.5081205 ],\n",
       "       [-0.83563904, -0.33294417, -0.10771869,  0.6828525 ],\n",
       "       [-1.63726424,  0.21508605,  0.62258286, -0.3257665 ],\n",
       "       [-0.05952802,  1.48341651,  0.55758867, -0.19330677],\n",
       "       [-1.43905772, -0.09341315, -0.06123106, -0.12120872]])"
      ]
     },
     "execution_count": 416,
     "metadata": {},
     "output_type": "execute_result"
    }
   ],
   "source": [
    "df.values"
   ]
  },
  {
   "cell_type": "markdown",
   "id": "b7788b34-1268-47f7-8e2c-1666078d693a",
   "metadata": {},
   "source": [
    "- df.info() : 데이터 프레임의 기본 정보 확인"
   ]
  },
  {
   "cell_type": "code",
   "execution_count": 417,
   "id": "5acfd170-63d5-4465-8145-d6a8272ff5c3",
   "metadata": {},
   "outputs": [
    {
     "name": "stdout",
     "output_type": "stream",
     "text": [
      "<class 'pandas.core.frame.DataFrame'>\n",
      "DatetimeIndex: 6 entries, 2021-01-01 to 2021-01-06\n",
      "Freq: D\n",
      "Data columns (total 4 columns):\n",
      " #   Column  Non-Null Count  Dtype  \n",
      "---  ------  --------------  -----  \n",
      " 0   A       6 non-null      float64\n",
      " 1   B       6 non-null      float64\n",
      " 2   C       6 non-null      float64\n",
      " 3   D       6 non-null      float64\n",
      "dtypes: float64(4)\n",
      "memory usage: 240.0 bytes\n"
     ]
    }
   ],
   "source": [
    "df.info()"
   ]
  },
  {
   "cell_type": "markdown",
   "id": "d0ffbcd8-d906-4312-a5b3-bcd25a65c92f",
   "metadata": {},
   "source": [
    "- df.describe() : 데이터 프레임의 기술통계 정보 확인"
   ]
  },
  {
   "cell_type": "code",
   "execution_count": 418,
   "id": "ff60a77d-e68e-428f-ac47-3b7fcdc01fb0",
   "metadata": {},
   "outputs": [
    {
     "data": {
      "text/html": [
       "<div>\n",
       "<style scoped>\n",
       "    .dataframe tbody tr th:only-of-type {\n",
       "        vertical-align: middle;\n",
       "    }\n",
       "\n",
       "    .dataframe tbody tr th {\n",
       "        vertical-align: top;\n",
       "    }\n",
       "\n",
       "    .dataframe thead th {\n",
       "        text-align: right;\n",
       "    }\n",
       "</style>\n",
       "<table border=\"1\" class=\"dataframe\">\n",
       "  <thead>\n",
       "    <tr style=\"text-align: right;\">\n",
       "      <th></th>\n",
       "      <th>A</th>\n",
       "      <th>B</th>\n",
       "      <th>C</th>\n",
       "      <th>D</th>\n",
       "    </tr>\n",
       "  </thead>\n",
       "  <tbody>\n",
       "    <tr>\n",
       "      <th>count</th>\n",
       "      <td>6.000000</td>\n",
       "      <td>6.000000</td>\n",
       "      <td>6.000000</td>\n",
       "      <td>6.000000</td>\n",
       "    </tr>\n",
       "    <tr>\n",
       "      <th>mean</th>\n",
       "      <td>-0.817866</td>\n",
       "      <td>0.370684</td>\n",
       "      <td>0.209926</td>\n",
       "      <td>0.098797</td>\n",
       "    </tr>\n",
       "    <tr>\n",
       "      <th>std</th>\n",
       "      <td>0.751327</td>\n",
       "      <td>0.649092</td>\n",
       "      <td>0.368102</td>\n",
       "      <td>0.866939</td>\n",
       "    </tr>\n",
       "    <tr>\n",
       "      <th>min</th>\n",
       "      <td>-1.637264</td>\n",
       "      <td>-0.332944</td>\n",
       "      <td>-0.189845</td>\n",
       "      <td>-0.957906</td>\n",
       "    </tr>\n",
       "    <tr>\n",
       "      <th>25%</th>\n",
       "      <td>-1.368081</td>\n",
       "      <td>-0.016288</td>\n",
       "      <td>-0.096097</td>\n",
       "      <td>-0.292652</td>\n",
       "    </tr>\n",
       "    <tr>\n",
       "      <th>50%</th>\n",
       "      <td>-0.995394</td>\n",
       "      <td>0.227441</td>\n",
       "      <td>0.188474</td>\n",
       "      <td>-0.157258</td>\n",
       "    </tr>\n",
       "    <tr>\n",
       "      <th>75%</th>\n",
       "      <td>-0.253556</td>\n",
       "      <td>0.594071</td>\n",
       "      <td>0.527736</td>\n",
       "      <td>0.481837</td>\n",
       "    </tr>\n",
       "    <tr>\n",
       "      <th>max</th>\n",
       "      <td>0.219445</td>\n",
       "      <td>1.483417</td>\n",
       "      <td>0.622583</td>\n",
       "      <td>1.508120</td>\n",
       "    </tr>\n",
       "  </tbody>\n",
       "</table>\n",
       "</div>"
      ],
      "text/plain": [
       "              A         B         C         D\n",
       "count  6.000000  6.000000  6.000000  6.000000\n",
       "mean  -0.817866  0.370684  0.209926  0.098797\n",
       "std    0.751327  0.649092  0.368102  0.866939\n",
       "min   -1.637264 -0.332944 -0.189845 -0.957906\n",
       "25%   -1.368081 -0.016288 -0.096097 -0.292652\n",
       "50%   -0.995394  0.227441  0.188474 -0.157258\n",
       "75%   -0.253556  0.594071  0.527736  0.481837\n",
       "max    0.219445  1.483417  0.622583  1.508120"
      ]
     },
     "execution_count": 418,
     "metadata": {},
     "output_type": "execute_result"
    }
   ],
   "source": [
    "df.describe()"
   ]
  },
  {
   "cell_type": "markdown",
   "id": "458f1903-68c9-4a9a-8d7c-8daf21ea1db6",
   "metadata": {},
   "source": [
    "### 데이터 정렬\n",
    "- sort_values()\n",
    "- 특정 컬럼(열)을 기준으로 데이터를 정렬"
   ]
  },
  {
   "cell_type": "code",
   "execution_count": 419,
   "id": "677e4360-9631-4f03-9a64-72c16d2ead88",
   "metadata": {},
   "outputs": [
    {
     "data": {
      "text/html": [
       "<div>\n",
       "<style scoped>\n",
       "    .dataframe tbody tr th:only-of-type {\n",
       "        vertical-align: middle;\n",
       "    }\n",
       "\n",
       "    .dataframe tbody tr th {\n",
       "        vertical-align: top;\n",
       "    }\n",
       "\n",
       "    .dataframe thead th {\n",
       "        text-align: right;\n",
       "    }\n",
       "</style>\n",
       "<table border=\"1\" class=\"dataframe\">\n",
       "  <thead>\n",
       "    <tr style=\"text-align: right;\">\n",
       "      <th></th>\n",
       "      <th>A</th>\n",
       "      <th>B</th>\n",
       "      <th>C</th>\n",
       "      <th>D</th>\n",
       "    </tr>\n",
       "  </thead>\n",
       "  <tbody>\n",
       "    <tr>\n",
       "      <th>2021-01-01</th>\n",
       "      <td>-1.155149</td>\n",
       "      <td>0.239796</td>\n",
       "      <td>-0.189845</td>\n",
       "      <td>-0.957906</td>\n",
       "    </tr>\n",
       "    <tr>\n",
       "      <th>2021-01-02</th>\n",
       "      <td>0.219445</td>\n",
       "      <td>0.712162</td>\n",
       "      <td>0.438179</td>\n",
       "      <td>1.508120</td>\n",
       "    </tr>\n",
       "    <tr>\n",
       "      <th>2021-01-03</th>\n",
       "      <td>-0.835639</td>\n",
       "      <td>-0.332944</td>\n",
       "      <td>-0.107719</td>\n",
       "      <td>0.682853</td>\n",
       "    </tr>\n",
       "    <tr>\n",
       "      <th>2021-01-04</th>\n",
       "      <td>-1.637264</td>\n",
       "      <td>0.215086</td>\n",
       "      <td>0.622583</td>\n",
       "      <td>-0.325767</td>\n",
       "    </tr>\n",
       "    <tr>\n",
       "      <th>2021-01-05</th>\n",
       "      <td>-0.059528</td>\n",
       "      <td>1.483417</td>\n",
       "      <td>0.557589</td>\n",
       "      <td>-0.193307</td>\n",
       "    </tr>\n",
       "    <tr>\n",
       "      <th>2021-01-06</th>\n",
       "      <td>-1.439058</td>\n",
       "      <td>-0.093413</td>\n",
       "      <td>-0.061231</td>\n",
       "      <td>-0.121209</td>\n",
       "    </tr>\n",
       "  </tbody>\n",
       "</table>\n",
       "</div>"
      ],
      "text/plain": [
       "                   A         B         C         D\n",
       "2021-01-01 -1.155149  0.239796 -0.189845 -0.957906\n",
       "2021-01-02  0.219445  0.712162  0.438179  1.508120\n",
       "2021-01-03 -0.835639 -0.332944 -0.107719  0.682853\n",
       "2021-01-04 -1.637264  0.215086  0.622583 -0.325767\n",
       "2021-01-05 -0.059528  1.483417  0.557589 -0.193307\n",
       "2021-01-06 -1.439058 -0.093413 -0.061231 -0.121209"
      ]
     },
     "execution_count": 419,
     "metadata": {},
     "output_type": "execute_result"
    }
   ],
   "source": [
    "df"
   ]
  },
  {
   "cell_type": "code",
   "execution_count": 420,
   "id": "f2f69b6c-7b2a-43f2-a32b-d8d2a2e9258d",
   "metadata": {},
   "outputs": [],
   "source": [
    "df.sort_values(by=\"B\", ascending=False, inplace=True)"
   ]
  },
  {
   "cell_type": "code",
   "execution_count": 421,
   "id": "840af6ad-06e8-47ac-a1f5-b938c73d5480",
   "metadata": {},
   "outputs": [
    {
     "data": {
      "text/html": [
       "<div>\n",
       "<style scoped>\n",
       "    .dataframe tbody tr th:only-of-type {\n",
       "        vertical-align: middle;\n",
       "    }\n",
       "\n",
       "    .dataframe tbody tr th {\n",
       "        vertical-align: top;\n",
       "    }\n",
       "\n",
       "    .dataframe thead th {\n",
       "        text-align: right;\n",
       "    }\n",
       "</style>\n",
       "<table border=\"1\" class=\"dataframe\">\n",
       "  <thead>\n",
       "    <tr style=\"text-align: right;\">\n",
       "      <th></th>\n",
       "      <th>A</th>\n",
       "      <th>B</th>\n",
       "      <th>C</th>\n",
       "      <th>D</th>\n",
       "    </tr>\n",
       "  </thead>\n",
       "  <tbody>\n",
       "    <tr>\n",
       "      <th>2021-01-05</th>\n",
       "      <td>-0.059528</td>\n",
       "      <td>1.483417</td>\n",
       "      <td>0.557589</td>\n",
       "      <td>-0.193307</td>\n",
       "    </tr>\n",
       "    <tr>\n",
       "      <th>2021-01-02</th>\n",
       "      <td>0.219445</td>\n",
       "      <td>0.712162</td>\n",
       "      <td>0.438179</td>\n",
       "      <td>1.508120</td>\n",
       "    </tr>\n",
       "    <tr>\n",
       "      <th>2021-01-01</th>\n",
       "      <td>-1.155149</td>\n",
       "      <td>0.239796</td>\n",
       "      <td>-0.189845</td>\n",
       "      <td>-0.957906</td>\n",
       "    </tr>\n",
       "    <tr>\n",
       "      <th>2021-01-04</th>\n",
       "      <td>-1.637264</td>\n",
       "      <td>0.215086</td>\n",
       "      <td>0.622583</td>\n",
       "      <td>-0.325767</td>\n",
       "    </tr>\n",
       "    <tr>\n",
       "      <th>2021-01-06</th>\n",
       "      <td>-1.439058</td>\n",
       "      <td>-0.093413</td>\n",
       "      <td>-0.061231</td>\n",
       "      <td>-0.121209</td>\n",
       "    </tr>\n",
       "    <tr>\n",
       "      <th>2021-01-03</th>\n",
       "      <td>-0.835639</td>\n",
       "      <td>-0.332944</td>\n",
       "      <td>-0.107719</td>\n",
       "      <td>0.682853</td>\n",
       "    </tr>\n",
       "  </tbody>\n",
       "</table>\n",
       "</div>"
      ],
      "text/plain": [
       "                   A         B         C         D\n",
       "2021-01-05 -0.059528  1.483417  0.557589 -0.193307\n",
       "2021-01-02  0.219445  0.712162  0.438179  1.508120\n",
       "2021-01-01 -1.155149  0.239796 -0.189845 -0.957906\n",
       "2021-01-04 -1.637264  0.215086  0.622583 -0.325767\n",
       "2021-01-06 -1.439058 -0.093413 -0.061231 -0.121209\n",
       "2021-01-03 -0.835639 -0.332944 -0.107719  0.682853"
      ]
     },
     "execution_count": 421,
     "metadata": {},
     "output_type": "execute_result"
    }
   ],
   "source": [
    "df"
   ]
  },
  {
   "cell_type": "markdown",
   "id": "4a344e13-af26-455b-89fd-4dbea3e20f15",
   "metadata": {},
   "source": [
    "### 데이터 선택"
   ]
  },
  {
   "cell_type": "code",
   "execution_count": 422,
   "id": "379e326c-1a30-43ad-8260-5fe905f6abda",
   "metadata": {},
   "outputs": [
    {
     "data": {
      "text/html": [
       "<div>\n",
       "<style scoped>\n",
       "    .dataframe tbody tr th:only-of-type {\n",
       "        vertical-align: middle;\n",
       "    }\n",
       "\n",
       "    .dataframe tbody tr th {\n",
       "        vertical-align: top;\n",
       "    }\n",
       "\n",
       "    .dataframe thead th {\n",
       "        text-align: right;\n",
       "    }\n",
       "</style>\n",
       "<table border=\"1\" class=\"dataframe\">\n",
       "  <thead>\n",
       "    <tr style=\"text-align: right;\">\n",
       "      <th></th>\n",
       "      <th>A</th>\n",
       "      <th>B</th>\n",
       "      <th>C</th>\n",
       "      <th>D</th>\n",
       "    </tr>\n",
       "  </thead>\n",
       "  <tbody>\n",
       "    <tr>\n",
       "      <th>2021-01-05</th>\n",
       "      <td>-0.059528</td>\n",
       "      <td>1.483417</td>\n",
       "      <td>0.557589</td>\n",
       "      <td>-0.193307</td>\n",
       "    </tr>\n",
       "    <tr>\n",
       "      <th>2021-01-02</th>\n",
       "      <td>0.219445</td>\n",
       "      <td>0.712162</td>\n",
       "      <td>0.438179</td>\n",
       "      <td>1.508120</td>\n",
       "    </tr>\n",
       "    <tr>\n",
       "      <th>2021-01-01</th>\n",
       "      <td>-1.155149</td>\n",
       "      <td>0.239796</td>\n",
       "      <td>-0.189845</td>\n",
       "      <td>-0.957906</td>\n",
       "    </tr>\n",
       "    <tr>\n",
       "      <th>2021-01-04</th>\n",
       "      <td>-1.637264</td>\n",
       "      <td>0.215086</td>\n",
       "      <td>0.622583</td>\n",
       "      <td>-0.325767</td>\n",
       "    </tr>\n",
       "    <tr>\n",
       "      <th>2021-01-06</th>\n",
       "      <td>-1.439058</td>\n",
       "      <td>-0.093413</td>\n",
       "      <td>-0.061231</td>\n",
       "      <td>-0.121209</td>\n",
       "    </tr>\n",
       "    <tr>\n",
       "      <th>2021-01-03</th>\n",
       "      <td>-0.835639</td>\n",
       "      <td>-0.332944</td>\n",
       "      <td>-0.107719</td>\n",
       "      <td>0.682853</td>\n",
       "    </tr>\n",
       "  </tbody>\n",
       "</table>\n",
       "</div>"
      ],
      "text/plain": [
       "                   A         B         C         D\n",
       "2021-01-05 -0.059528  1.483417  0.557589 -0.193307\n",
       "2021-01-02  0.219445  0.712162  0.438179  1.508120\n",
       "2021-01-01 -1.155149  0.239796 -0.189845 -0.957906\n",
       "2021-01-04 -1.637264  0.215086  0.622583 -0.325767\n",
       "2021-01-06 -1.439058 -0.093413 -0.061231 -0.121209\n",
       "2021-01-03 -0.835639 -0.332944 -0.107719  0.682853"
      ]
     },
     "execution_count": 422,
     "metadata": {},
     "output_type": "execute_result"
    }
   ],
   "source": [
    "df"
   ]
  },
  {
   "cell_type": "code",
   "execution_count": 423,
   "id": "b39e1026-ee3c-4658-bb97-c10aa8be2fee",
   "metadata": {},
   "outputs": [
    {
     "data": {
      "text/plain": [
       "2021-01-05   -0.059528\n",
       "2021-01-02    0.219445\n",
       "2021-01-01   -1.155149\n",
       "2021-01-04   -1.637264\n",
       "2021-01-06   -1.439058\n",
       "2021-01-03   -0.835639\n",
       "Name: A, dtype: float64"
      ]
     },
     "execution_count": 423,
     "metadata": {},
     "output_type": "execute_result"
    }
   ],
   "source": [
    "# 한 개 컬럼 선택\n",
    "df[\"A\"]"
   ]
  },
  {
   "cell_type": "code",
   "execution_count": 424,
   "id": "3b1767a1-f52e-443c-b66b-cdb2b97ba373",
   "metadata": {},
   "outputs": [
    {
     "data": {
      "text/plain": [
       "pandas.core.series.Series"
      ]
     },
     "execution_count": 424,
     "metadata": {},
     "output_type": "execute_result"
    }
   ],
   "source": [
    "type(df[\"A\"])"
   ]
  },
  {
   "cell_type": "code",
   "execution_count": 425,
   "id": "429b0207-e482-4cee-8f8d-3596bb7abe53",
   "metadata": {},
   "outputs": [
    {
     "data": {
      "text/plain": [
       "2021-01-05   -0.059528\n",
       "2021-01-02    0.219445\n",
       "2021-01-01   -1.155149\n",
       "2021-01-04   -1.637264\n",
       "2021-01-06   -1.439058\n",
       "2021-01-03   -0.835639\n",
       "Name: A, dtype: float64"
      ]
     },
     "execution_count": 425,
     "metadata": {},
     "output_type": "execute_result"
    }
   ],
   "source": [
    "df.A"
   ]
  },
  {
   "cell_type": "code",
   "execution_count": 426,
   "id": "a1a505fb-2e71-4b76-a5b8-b845f5e48af9",
   "metadata": {},
   "outputs": [
    {
     "data": {
      "text/html": [
       "<div>\n",
       "<style scoped>\n",
       "    .dataframe tbody tr th:only-of-type {\n",
       "        vertical-align: middle;\n",
       "    }\n",
       "\n",
       "    .dataframe tbody tr th {\n",
       "        vertical-align: top;\n",
       "    }\n",
       "\n",
       "    .dataframe thead th {\n",
       "        text-align: right;\n",
       "    }\n",
       "</style>\n",
       "<table border=\"1\" class=\"dataframe\">\n",
       "  <thead>\n",
       "    <tr style=\"text-align: right;\">\n",
       "      <th></th>\n",
       "      <th>A</th>\n",
       "      <th>B</th>\n",
       "      <th>C</th>\n",
       "      <th>D</th>\n",
       "    </tr>\n",
       "  </thead>\n",
       "  <tbody>\n",
       "    <tr>\n",
       "      <th>2021-01-01</th>\n",
       "      <td>-1.155149</td>\n",
       "      <td>0.239796</td>\n",
       "      <td>-0.189845</td>\n",
       "      <td>-0.957906</td>\n",
       "    </tr>\n",
       "    <tr>\n",
       "      <th>2021-01-02</th>\n",
       "      <td>0.219445</td>\n",
       "      <td>0.712162</td>\n",
       "      <td>0.438179</td>\n",
       "      <td>1.508120</td>\n",
       "    </tr>\n",
       "    <tr>\n",
       "      <th>2021-01-03</th>\n",
       "      <td>-0.835639</td>\n",
       "      <td>-0.332944</td>\n",
       "      <td>-0.107719</td>\n",
       "      <td>0.682853</td>\n",
       "    </tr>\n",
       "    <tr>\n",
       "      <th>2021-01-04</th>\n",
       "      <td>-1.637264</td>\n",
       "      <td>0.215086</td>\n",
       "      <td>0.622583</td>\n",
       "      <td>-0.325767</td>\n",
       "    </tr>\n",
       "    <tr>\n",
       "      <th>2021-01-05</th>\n",
       "      <td>-0.059528</td>\n",
       "      <td>1.483417</td>\n",
       "      <td>0.557589</td>\n",
       "      <td>-0.193307</td>\n",
       "    </tr>\n",
       "    <tr>\n",
       "      <th>2021-01-06</th>\n",
       "      <td>-1.439058</td>\n",
       "      <td>-0.093413</td>\n",
       "      <td>-0.061231</td>\n",
       "      <td>-0.121209</td>\n",
       "    </tr>\n",
       "  </tbody>\n",
       "</table>\n",
       "</div>"
      ],
      "text/plain": [
       "                   A         B         C         D\n",
       "2021-01-01 -1.155149  0.239796 -0.189845 -0.957906\n",
       "2021-01-02  0.219445  0.712162  0.438179  1.508120\n",
       "2021-01-03 -0.835639 -0.332944 -0.107719  0.682853\n",
       "2021-01-04 -1.637264  0.215086  0.622583 -0.325767\n",
       "2021-01-05 -0.059528  1.483417  0.557589 -0.193307\n",
       "2021-01-06 -1.439058 -0.093413 -0.061231 -0.121209"
      ]
     },
     "execution_count": 426,
     "metadata": {},
     "output_type": "execute_result"
    }
   ],
   "source": [
    "df = pd.DataFrame(data, index=dates, columns=[\"A\", \"B\", \"C\", \"D\"])\n",
    "df"
   ]
  },
  {
   "cell_type": "code",
   "execution_count": 427,
   "id": "edae6833-b701-48c0-be43-993cb2e9d086",
   "metadata": {},
   "outputs": [
    {
     "data": {
      "text/plain": [
       "2021-01-01   -0.957906\n",
       "2021-01-02    1.508120\n",
       "2021-01-03    0.682853\n",
       "2021-01-04   -0.325767\n",
       "2021-01-05   -0.193307\n",
       "2021-01-06   -0.121209\n",
       "Freq: D, Name: D, dtype: float64"
      ]
     },
     "execution_count": 427,
     "metadata": {},
     "output_type": "execute_result"
    }
   ],
   "source": [
    "df.D"
   ]
  },
  {
   "cell_type": "code",
   "execution_count": 428,
   "id": "b3c3eecc-03b3-4383-800e-32993fe38b67",
   "metadata": {},
   "outputs": [
    {
     "data": {
      "text/html": [
       "<div>\n",
       "<style scoped>\n",
       "    .dataframe tbody tr th:only-of-type {\n",
       "        vertical-align: middle;\n",
       "    }\n",
       "\n",
       "    .dataframe tbody tr th {\n",
       "        vertical-align: top;\n",
       "    }\n",
       "\n",
       "    .dataframe thead th {\n",
       "        text-align: right;\n",
       "    }\n",
       "</style>\n",
       "<table border=\"1\" class=\"dataframe\">\n",
       "  <thead>\n",
       "    <tr style=\"text-align: right;\">\n",
       "      <th></th>\n",
       "      <th>A</th>\n",
       "      <th>B</th>\n",
       "    </tr>\n",
       "  </thead>\n",
       "  <tbody>\n",
       "    <tr>\n",
       "      <th>2021-01-01</th>\n",
       "      <td>-1.155149</td>\n",
       "      <td>0.239796</td>\n",
       "    </tr>\n",
       "    <tr>\n",
       "      <th>2021-01-02</th>\n",
       "      <td>0.219445</td>\n",
       "      <td>0.712162</td>\n",
       "    </tr>\n",
       "    <tr>\n",
       "      <th>2021-01-03</th>\n",
       "      <td>-0.835639</td>\n",
       "      <td>-0.332944</td>\n",
       "    </tr>\n",
       "    <tr>\n",
       "      <th>2021-01-04</th>\n",
       "      <td>-1.637264</td>\n",
       "      <td>0.215086</td>\n",
       "    </tr>\n",
       "    <tr>\n",
       "      <th>2021-01-05</th>\n",
       "      <td>-0.059528</td>\n",
       "      <td>1.483417</td>\n",
       "    </tr>\n",
       "    <tr>\n",
       "      <th>2021-01-06</th>\n",
       "      <td>-1.439058</td>\n",
       "      <td>-0.093413</td>\n",
       "    </tr>\n",
       "  </tbody>\n",
       "</table>\n",
       "</div>"
      ],
      "text/plain": [
       "                   A         B\n",
       "2021-01-01 -1.155149  0.239796\n",
       "2021-01-02  0.219445  0.712162\n",
       "2021-01-03 -0.835639 -0.332944\n",
       "2021-01-04 -1.637264  0.215086\n",
       "2021-01-05 -0.059528  1.483417\n",
       "2021-01-06 -1.439058 -0.093413"
      ]
     },
     "execution_count": 428,
     "metadata": {},
     "output_type": "execute_result"
    }
   ],
   "source": [
    "# 두 개 이상 컬럼 선택\n",
    "df[[\"A\", \"B\"]]"
   ]
  },
  {
   "cell_type": "markdown",
   "id": "7c1c64c9-d5ad-4c72-94e6-79127fe73dc2",
   "metadata": {},
   "source": [
    "### offset index\n",
    "- [n:m] : n부터 m-1까지\n",
    "- 인덱스나 컬럼의 이름으로 slice하는 경우는 끝을 포함"
   ]
  },
  {
   "cell_type": "code",
   "execution_count": 429,
   "id": "320be93b-931c-469e-853c-5fbd19b25357",
   "metadata": {},
   "outputs": [
    {
     "data": {
      "text/html": [
       "<div>\n",
       "<style scoped>\n",
       "    .dataframe tbody tr th:only-of-type {\n",
       "        vertical-align: middle;\n",
       "    }\n",
       "\n",
       "    .dataframe tbody tr th {\n",
       "        vertical-align: top;\n",
       "    }\n",
       "\n",
       "    .dataframe thead th {\n",
       "        text-align: right;\n",
       "    }\n",
       "</style>\n",
       "<table border=\"1\" class=\"dataframe\">\n",
       "  <thead>\n",
       "    <tr style=\"text-align: right;\">\n",
       "      <th></th>\n",
       "      <th>A</th>\n",
       "      <th>B</th>\n",
       "      <th>C</th>\n",
       "      <th>D</th>\n",
       "    </tr>\n",
       "  </thead>\n",
       "  <tbody>\n",
       "    <tr>\n",
       "      <th>2021-01-01</th>\n",
       "      <td>-1.155149</td>\n",
       "      <td>0.239796</td>\n",
       "      <td>-0.189845</td>\n",
       "      <td>-0.957906</td>\n",
       "    </tr>\n",
       "    <tr>\n",
       "      <th>2021-01-02</th>\n",
       "      <td>0.219445</td>\n",
       "      <td>0.712162</td>\n",
       "      <td>0.438179</td>\n",
       "      <td>1.508120</td>\n",
       "    </tr>\n",
       "    <tr>\n",
       "      <th>2021-01-03</th>\n",
       "      <td>-0.835639</td>\n",
       "      <td>-0.332944</td>\n",
       "      <td>-0.107719</td>\n",
       "      <td>0.682853</td>\n",
       "    </tr>\n",
       "    <tr>\n",
       "      <th>2021-01-04</th>\n",
       "      <td>-1.637264</td>\n",
       "      <td>0.215086</td>\n",
       "      <td>0.622583</td>\n",
       "      <td>-0.325767</td>\n",
       "    </tr>\n",
       "    <tr>\n",
       "      <th>2021-01-05</th>\n",
       "      <td>-0.059528</td>\n",
       "      <td>1.483417</td>\n",
       "      <td>0.557589</td>\n",
       "      <td>-0.193307</td>\n",
       "    </tr>\n",
       "    <tr>\n",
       "      <th>2021-01-06</th>\n",
       "      <td>-1.439058</td>\n",
       "      <td>-0.093413</td>\n",
       "      <td>-0.061231</td>\n",
       "      <td>-0.121209</td>\n",
       "    </tr>\n",
       "  </tbody>\n",
       "</table>\n",
       "</div>"
      ],
      "text/plain": [
       "                   A         B         C         D\n",
       "2021-01-01 -1.155149  0.239796 -0.189845 -0.957906\n",
       "2021-01-02  0.219445  0.712162  0.438179  1.508120\n",
       "2021-01-03 -0.835639 -0.332944 -0.107719  0.682853\n",
       "2021-01-04 -1.637264  0.215086  0.622583 -0.325767\n",
       "2021-01-05 -0.059528  1.483417  0.557589 -0.193307\n",
       "2021-01-06 -1.439058 -0.093413 -0.061231 -0.121209"
      ]
     },
     "execution_count": 429,
     "metadata": {},
     "output_type": "execute_result"
    }
   ],
   "source": [
    "df"
   ]
  },
  {
   "cell_type": "code",
   "execution_count": 430,
   "id": "718483c3-01cc-474c-8af1-f9b2b8a326a9",
   "metadata": {},
   "outputs": [
    {
     "data": {
      "text/html": [
       "<div>\n",
       "<style scoped>\n",
       "    .dataframe tbody tr th:only-of-type {\n",
       "        vertical-align: middle;\n",
       "    }\n",
       "\n",
       "    .dataframe tbody tr th {\n",
       "        vertical-align: top;\n",
       "    }\n",
       "\n",
       "    .dataframe thead th {\n",
       "        text-align: right;\n",
       "    }\n",
       "</style>\n",
       "<table border=\"1\" class=\"dataframe\">\n",
       "  <thead>\n",
       "    <tr style=\"text-align: right;\">\n",
       "      <th></th>\n",
       "      <th>A</th>\n",
       "      <th>B</th>\n",
       "      <th>C</th>\n",
       "      <th>D</th>\n",
       "    </tr>\n",
       "  </thead>\n",
       "  <tbody>\n",
       "    <tr>\n",
       "      <th>2021-01-01</th>\n",
       "      <td>-1.155149</td>\n",
       "      <td>0.239796</td>\n",
       "      <td>-0.189845</td>\n",
       "      <td>-0.957906</td>\n",
       "    </tr>\n",
       "    <tr>\n",
       "      <th>2021-01-02</th>\n",
       "      <td>0.219445</td>\n",
       "      <td>0.712162</td>\n",
       "      <td>0.438179</td>\n",
       "      <td>1.508120</td>\n",
       "    </tr>\n",
       "    <tr>\n",
       "      <th>2021-01-03</th>\n",
       "      <td>-0.835639</td>\n",
       "      <td>-0.332944</td>\n",
       "      <td>-0.107719</td>\n",
       "      <td>0.682853</td>\n",
       "    </tr>\n",
       "  </tbody>\n",
       "</table>\n",
       "</div>"
      ],
      "text/plain": [
       "                   A         B         C         D\n",
       "2021-01-01 -1.155149  0.239796 -0.189845 -0.957906\n",
       "2021-01-02  0.219445  0.712162  0.438179  1.508120\n",
       "2021-01-03 -0.835639 -0.332944 -0.107719  0.682853"
      ]
     },
     "execution_count": 430,
     "metadata": {},
     "output_type": "execute_result"
    }
   ],
   "source": [
    "df[0:3]"
   ]
  },
  {
   "cell_type": "code",
   "execution_count": 431,
   "id": "11ae887f-231c-411b-a570-6e5b02a36df1",
   "metadata": {},
   "outputs": [
    {
     "data": {
      "text/html": [
       "<div>\n",
       "<style scoped>\n",
       "    .dataframe tbody tr th:only-of-type {\n",
       "        vertical-align: middle;\n",
       "    }\n",
       "\n",
       "    .dataframe tbody tr th {\n",
       "        vertical-align: top;\n",
       "    }\n",
       "\n",
       "    .dataframe thead th {\n",
       "        text-align: right;\n",
       "    }\n",
       "</style>\n",
       "<table border=\"1\" class=\"dataframe\">\n",
       "  <thead>\n",
       "    <tr style=\"text-align: right;\">\n",
       "      <th></th>\n",
       "      <th>A</th>\n",
       "      <th>B</th>\n",
       "      <th>C</th>\n",
       "      <th>D</th>\n",
       "    </tr>\n",
       "  </thead>\n",
       "  <tbody>\n",
       "    <tr>\n",
       "      <th>2021-01-01</th>\n",
       "      <td>-1.155149</td>\n",
       "      <td>0.239796</td>\n",
       "      <td>-0.189845</td>\n",
       "      <td>-0.957906</td>\n",
       "    </tr>\n",
       "    <tr>\n",
       "      <th>2021-01-02</th>\n",
       "      <td>0.219445</td>\n",
       "      <td>0.712162</td>\n",
       "      <td>0.438179</td>\n",
       "      <td>1.508120</td>\n",
       "    </tr>\n",
       "    <tr>\n",
       "      <th>2021-01-03</th>\n",
       "      <td>-0.835639</td>\n",
       "      <td>-0.332944</td>\n",
       "      <td>-0.107719</td>\n",
       "      <td>0.682853</td>\n",
       "    </tr>\n",
       "    <tr>\n",
       "      <th>2021-01-04</th>\n",
       "      <td>-1.637264</td>\n",
       "      <td>0.215086</td>\n",
       "      <td>0.622583</td>\n",
       "      <td>-0.325767</td>\n",
       "    </tr>\n",
       "  </tbody>\n",
       "</table>\n",
       "</div>"
      ],
      "text/plain": [
       "                   A         B         C         D\n",
       "2021-01-01 -1.155149  0.239796 -0.189845 -0.957906\n",
       "2021-01-02  0.219445  0.712162  0.438179  1.508120\n",
       "2021-01-03 -0.835639 -0.332944 -0.107719  0.682853\n",
       "2021-01-04 -1.637264  0.215086  0.622583 -0.325767"
      ]
     },
     "execution_count": 431,
     "metadata": {},
     "output_type": "execute_result"
    }
   ],
   "source": [
    "df[\"20210101\":\"20210104\"]"
   ]
  },
  {
   "cell_type": "markdown",
   "id": "98bb3daa-15ea-4a3a-87d7-df50073c3fd9",
   "metadata": {},
   "source": [
    "- loc : location\n",
    "- index 이름으로 특정 행, 열을 선택"
   ]
  },
  {
   "cell_type": "code",
   "execution_count": 432,
   "id": "7b7a01e2-5379-4e4b-8f6f-ce9a543827bc",
   "metadata": {},
   "outputs": [
    {
     "data": {
      "text/html": [
       "<div>\n",
       "<style scoped>\n",
       "    .dataframe tbody tr th:only-of-type {\n",
       "        vertical-align: middle;\n",
       "    }\n",
       "\n",
       "    .dataframe tbody tr th {\n",
       "        vertical-align: top;\n",
       "    }\n",
       "\n",
       "    .dataframe thead th {\n",
       "        text-align: right;\n",
       "    }\n",
       "</style>\n",
       "<table border=\"1\" class=\"dataframe\">\n",
       "  <thead>\n",
       "    <tr style=\"text-align: right;\">\n",
       "      <th></th>\n",
       "      <th>A</th>\n",
       "      <th>B</th>\n",
       "      <th>C</th>\n",
       "      <th>D</th>\n",
       "    </tr>\n",
       "  </thead>\n",
       "  <tbody>\n",
       "    <tr>\n",
       "      <th>2021-01-01</th>\n",
       "      <td>-1.155149</td>\n",
       "      <td>0.239796</td>\n",
       "      <td>-0.189845</td>\n",
       "      <td>-0.957906</td>\n",
       "    </tr>\n",
       "    <tr>\n",
       "      <th>2021-01-02</th>\n",
       "      <td>0.219445</td>\n",
       "      <td>0.712162</td>\n",
       "      <td>0.438179</td>\n",
       "      <td>1.508120</td>\n",
       "    </tr>\n",
       "    <tr>\n",
       "      <th>2021-01-03</th>\n",
       "      <td>-0.835639</td>\n",
       "      <td>-0.332944</td>\n",
       "      <td>-0.107719</td>\n",
       "      <td>0.682853</td>\n",
       "    </tr>\n",
       "    <tr>\n",
       "      <th>2021-01-04</th>\n",
       "      <td>-1.637264</td>\n",
       "      <td>0.215086</td>\n",
       "      <td>0.622583</td>\n",
       "      <td>-0.325767</td>\n",
       "    </tr>\n",
       "    <tr>\n",
       "      <th>2021-01-05</th>\n",
       "      <td>-0.059528</td>\n",
       "      <td>1.483417</td>\n",
       "      <td>0.557589</td>\n",
       "      <td>-0.193307</td>\n",
       "    </tr>\n",
       "    <tr>\n",
       "      <th>2021-01-06</th>\n",
       "      <td>-1.439058</td>\n",
       "      <td>-0.093413</td>\n",
       "      <td>-0.061231</td>\n",
       "      <td>-0.121209</td>\n",
       "    </tr>\n",
       "  </tbody>\n",
       "</table>\n",
       "</div>"
      ],
      "text/plain": [
       "                   A         B         C         D\n",
       "2021-01-01 -1.155149  0.239796 -0.189845 -0.957906\n",
       "2021-01-02  0.219445  0.712162  0.438179  1.508120\n",
       "2021-01-03 -0.835639 -0.332944 -0.107719  0.682853\n",
       "2021-01-04 -1.637264  0.215086  0.622583 -0.325767\n",
       "2021-01-05 -0.059528  1.483417  0.557589 -0.193307\n",
       "2021-01-06 -1.439058 -0.093413 -0.061231 -0.121209"
      ]
     },
     "execution_count": 432,
     "metadata": {},
     "output_type": "execute_result"
    }
   ],
   "source": [
    "df"
   ]
  },
  {
   "cell_type": "code",
   "execution_count": 433,
   "id": "dca54f7b-7776-4d47-93c3-8fc988a02839",
   "metadata": {},
   "outputs": [
    {
     "data": {
      "text/html": [
       "<div>\n",
       "<style scoped>\n",
       "    .dataframe tbody tr th:only-of-type {\n",
       "        vertical-align: middle;\n",
       "    }\n",
       "\n",
       "    .dataframe tbody tr th {\n",
       "        vertical-align: top;\n",
       "    }\n",
       "\n",
       "    .dataframe thead th {\n",
       "        text-align: right;\n",
       "    }\n",
       "</style>\n",
       "<table border=\"1\" class=\"dataframe\">\n",
       "  <thead>\n",
       "    <tr style=\"text-align: right;\">\n",
       "      <th></th>\n",
       "      <th>A</th>\n",
       "      <th>B</th>\n",
       "    </tr>\n",
       "  </thead>\n",
       "  <tbody>\n",
       "    <tr>\n",
       "      <th>2021-01-01</th>\n",
       "      <td>-1.155149</td>\n",
       "      <td>0.239796</td>\n",
       "    </tr>\n",
       "    <tr>\n",
       "      <th>2021-01-02</th>\n",
       "      <td>0.219445</td>\n",
       "      <td>0.712162</td>\n",
       "    </tr>\n",
       "    <tr>\n",
       "      <th>2021-01-03</th>\n",
       "      <td>-0.835639</td>\n",
       "      <td>-0.332944</td>\n",
       "    </tr>\n",
       "    <tr>\n",
       "      <th>2021-01-04</th>\n",
       "      <td>-1.637264</td>\n",
       "      <td>0.215086</td>\n",
       "    </tr>\n",
       "    <tr>\n",
       "      <th>2021-01-05</th>\n",
       "      <td>-0.059528</td>\n",
       "      <td>1.483417</td>\n",
       "    </tr>\n",
       "    <tr>\n",
       "      <th>2021-01-06</th>\n",
       "      <td>-1.439058</td>\n",
       "      <td>-0.093413</td>\n",
       "    </tr>\n",
       "  </tbody>\n",
       "</table>\n",
       "</div>"
      ],
      "text/plain": [
       "                   A         B\n",
       "2021-01-01 -1.155149  0.239796\n",
       "2021-01-02  0.219445  0.712162\n",
       "2021-01-03 -0.835639 -0.332944\n",
       "2021-01-04 -1.637264  0.215086\n",
       "2021-01-05 -0.059528  1.483417\n",
       "2021-01-06 -1.439058 -0.093413"
      ]
     },
     "execution_count": 433,
     "metadata": {},
     "output_type": "execute_result"
    }
   ],
   "source": [
    "df.loc[:, [\"A\", \"B\"]]"
   ]
  },
  {
   "cell_type": "code",
   "execution_count": 434,
   "id": "881a4888-bf57-4c7e-bd7c-d029e386bbf4",
   "metadata": {},
   "outputs": [
    {
     "data": {
      "text/html": [
       "<div>\n",
       "<style scoped>\n",
       "    .dataframe tbody tr th:only-of-type {\n",
       "        vertical-align: middle;\n",
       "    }\n",
       "\n",
       "    .dataframe tbody tr th {\n",
       "        vertical-align: top;\n",
       "    }\n",
       "\n",
       "    .dataframe thead th {\n",
       "        text-align: right;\n",
       "    }\n",
       "</style>\n",
       "<table border=\"1\" class=\"dataframe\">\n",
       "  <thead>\n",
       "    <tr style=\"text-align: right;\">\n",
       "      <th></th>\n",
       "      <th>A</th>\n",
       "      <th>D</th>\n",
       "    </tr>\n",
       "  </thead>\n",
       "  <tbody>\n",
       "    <tr>\n",
       "      <th>2021-01-02</th>\n",
       "      <td>0.219445</td>\n",
       "      <td>1.508120</td>\n",
       "    </tr>\n",
       "    <tr>\n",
       "      <th>2021-01-03</th>\n",
       "      <td>-0.835639</td>\n",
       "      <td>0.682853</td>\n",
       "    </tr>\n",
       "    <tr>\n",
       "      <th>2021-01-04</th>\n",
       "      <td>-1.637264</td>\n",
       "      <td>-0.325767</td>\n",
       "    </tr>\n",
       "  </tbody>\n",
       "</table>\n",
       "</div>"
      ],
      "text/plain": [
       "                   A         D\n",
       "2021-01-02  0.219445  1.508120\n",
       "2021-01-03 -0.835639  0.682853\n",
       "2021-01-04 -1.637264 -0.325767"
      ]
     },
     "execution_count": 434,
     "metadata": {},
     "output_type": "execute_result"
    }
   ],
   "source": [
    "df.loc[\"20210102\":\"20210104\", [\"A\", \"D\"]]"
   ]
  },
  {
   "cell_type": "code",
   "execution_count": 435,
   "id": "c81d0e92-44af-4e00-a801-b141c9b43d21",
   "metadata": {},
   "outputs": [
    {
     "data": {
      "text/html": [
       "<div>\n",
       "<style scoped>\n",
       "    .dataframe tbody tr th:only-of-type {\n",
       "        vertical-align: middle;\n",
       "    }\n",
       "\n",
       "    .dataframe tbody tr th {\n",
       "        vertical-align: top;\n",
       "    }\n",
       "\n",
       "    .dataframe thead th {\n",
       "        text-align: right;\n",
       "    }\n",
       "</style>\n",
       "<table border=\"1\" class=\"dataframe\">\n",
       "  <thead>\n",
       "    <tr style=\"text-align: right;\">\n",
       "      <th></th>\n",
       "      <th>A</th>\n",
       "      <th>B</th>\n",
       "      <th>C</th>\n",
       "      <th>D</th>\n",
       "    </tr>\n",
       "  </thead>\n",
       "  <tbody>\n",
       "    <tr>\n",
       "      <th>2021-01-02</th>\n",
       "      <td>0.219445</td>\n",
       "      <td>0.712162</td>\n",
       "      <td>0.438179</td>\n",
       "      <td>1.508120</td>\n",
       "    </tr>\n",
       "    <tr>\n",
       "      <th>2021-01-03</th>\n",
       "      <td>-0.835639</td>\n",
       "      <td>-0.332944</td>\n",
       "      <td>-0.107719</td>\n",
       "      <td>0.682853</td>\n",
       "    </tr>\n",
       "    <tr>\n",
       "      <th>2021-01-04</th>\n",
       "      <td>-1.637264</td>\n",
       "      <td>0.215086</td>\n",
       "      <td>0.622583</td>\n",
       "      <td>-0.325767</td>\n",
       "    </tr>\n",
       "  </tbody>\n",
       "</table>\n",
       "</div>"
      ],
      "text/plain": [
       "                   A         B         C         D\n",
       "2021-01-02  0.219445  0.712162  0.438179  1.508120\n",
       "2021-01-03 -0.835639 -0.332944 -0.107719  0.682853\n",
       "2021-01-04 -1.637264  0.215086  0.622583 -0.325767"
      ]
     },
     "execution_count": 435,
     "metadata": {},
     "output_type": "execute_result"
    }
   ],
   "source": [
    "df.loc[\"20210102\":\"20210104\", \"A\":\"D\"]"
   ]
  },
  {
   "cell_type": "code",
   "execution_count": 436,
   "id": "44f6102c-f021-484b-8f9d-33a105640d1c",
   "metadata": {},
   "outputs": [
    {
     "data": {
      "text/plain": [
       "A    0.219445\n",
       "B    0.712162\n",
       "Name: 2021-01-02 00:00:00, dtype: float64"
      ]
     },
     "execution_count": 436,
     "metadata": {},
     "output_type": "execute_result"
    }
   ],
   "source": [
    "df.loc[\"20210102\", [\"A\", \"B\"]]"
   ]
  },
  {
   "cell_type": "markdown",
   "id": "6ef14de5-14ab-4c26-ad2b-ffb7dd5bb840",
   "metadata": {},
   "source": [
    "- iloc : inter location\n",
    "    - 컴퓨터가 인식하는 인덱스 값으로 선택"
   ]
  },
  {
   "cell_type": "code",
   "execution_count": 437,
   "id": "e98104af-5aa9-4fa9-9303-fdc9b7ab7f28",
   "metadata": {},
   "outputs": [
    {
     "data": {
      "text/html": [
       "<div>\n",
       "<style scoped>\n",
       "    .dataframe tbody tr th:only-of-type {\n",
       "        vertical-align: middle;\n",
       "    }\n",
       "\n",
       "    .dataframe tbody tr th {\n",
       "        vertical-align: top;\n",
       "    }\n",
       "\n",
       "    .dataframe thead th {\n",
       "        text-align: right;\n",
       "    }\n",
       "</style>\n",
       "<table border=\"1\" class=\"dataframe\">\n",
       "  <thead>\n",
       "    <tr style=\"text-align: right;\">\n",
       "      <th></th>\n",
       "      <th>A</th>\n",
       "      <th>B</th>\n",
       "      <th>C</th>\n",
       "      <th>D</th>\n",
       "    </tr>\n",
       "  </thead>\n",
       "  <tbody>\n",
       "    <tr>\n",
       "      <th>2021-01-01</th>\n",
       "      <td>-1.155149</td>\n",
       "      <td>0.239796</td>\n",
       "      <td>-0.189845</td>\n",
       "      <td>-0.957906</td>\n",
       "    </tr>\n",
       "    <tr>\n",
       "      <th>2021-01-02</th>\n",
       "      <td>0.219445</td>\n",
       "      <td>0.712162</td>\n",
       "      <td>0.438179</td>\n",
       "      <td>1.508120</td>\n",
       "    </tr>\n",
       "    <tr>\n",
       "      <th>2021-01-03</th>\n",
       "      <td>-0.835639</td>\n",
       "      <td>-0.332944</td>\n",
       "      <td>-0.107719</td>\n",
       "      <td>0.682853</td>\n",
       "    </tr>\n",
       "    <tr>\n",
       "      <th>2021-01-04</th>\n",
       "      <td>-1.637264</td>\n",
       "      <td>0.215086</td>\n",
       "      <td>0.622583</td>\n",
       "      <td>-0.325767</td>\n",
       "    </tr>\n",
       "    <tr>\n",
       "      <th>2021-01-05</th>\n",
       "      <td>-0.059528</td>\n",
       "      <td>1.483417</td>\n",
       "      <td>0.557589</td>\n",
       "      <td>-0.193307</td>\n",
       "    </tr>\n",
       "    <tr>\n",
       "      <th>2021-01-06</th>\n",
       "      <td>-1.439058</td>\n",
       "      <td>-0.093413</td>\n",
       "      <td>-0.061231</td>\n",
       "      <td>-0.121209</td>\n",
       "    </tr>\n",
       "  </tbody>\n",
       "</table>\n",
       "</div>"
      ],
      "text/plain": [
       "                   A         B         C         D\n",
       "2021-01-01 -1.155149  0.239796 -0.189845 -0.957906\n",
       "2021-01-02  0.219445  0.712162  0.438179  1.508120\n",
       "2021-01-03 -0.835639 -0.332944 -0.107719  0.682853\n",
       "2021-01-04 -1.637264  0.215086  0.622583 -0.325767\n",
       "2021-01-05 -0.059528  1.483417  0.557589 -0.193307\n",
       "2021-01-06 -1.439058 -0.093413 -0.061231 -0.121209"
      ]
     },
     "execution_count": 437,
     "metadata": {},
     "output_type": "execute_result"
    }
   ],
   "source": [
    "df"
   ]
  },
  {
   "cell_type": "code",
   "execution_count": 438,
   "id": "2e22fd8e-ddc4-408e-8149-a21ed8fc715c",
   "metadata": {},
   "outputs": [
    {
     "data": {
      "text/plain": [
       "A   -1.637264\n",
       "B    0.215086\n",
       "C    0.622583\n",
       "D   -0.325767\n",
       "Name: 2021-01-04 00:00:00, dtype: float64"
      ]
     },
     "execution_count": 438,
     "metadata": {},
     "output_type": "execute_result"
    }
   ],
   "source": [
    "df.iloc[3]"
   ]
  },
  {
   "cell_type": "code",
   "execution_count": 439,
   "id": "712b702a-cb95-4a5c-90bd-648509dc104a",
   "metadata": {},
   "outputs": [
    {
     "data": {
      "text/plain": [
       "0.622582859803363"
      ]
     },
     "execution_count": 439,
     "metadata": {},
     "output_type": "execute_result"
    }
   ],
   "source": [
    "df.iloc[3, 2]"
   ]
  },
  {
   "cell_type": "code",
   "execution_count": 440,
   "id": "188966f3-f3a4-40d9-a9ce-a47ba5d51b3a",
   "metadata": {},
   "outputs": [
    {
     "data": {
      "text/html": [
       "<div>\n",
       "<style scoped>\n",
       "    .dataframe tbody tr th:only-of-type {\n",
       "        vertical-align: middle;\n",
       "    }\n",
       "\n",
       "    .dataframe tbody tr th {\n",
       "        vertical-align: top;\n",
       "    }\n",
       "\n",
       "    .dataframe thead th {\n",
       "        text-align: right;\n",
       "    }\n",
       "</style>\n",
       "<table border=\"1\" class=\"dataframe\">\n",
       "  <thead>\n",
       "    <tr style=\"text-align: right;\">\n",
       "      <th></th>\n",
       "      <th>A</th>\n",
       "      <th>B</th>\n",
       "    </tr>\n",
       "  </thead>\n",
       "  <tbody>\n",
       "    <tr>\n",
       "      <th>2021-01-04</th>\n",
       "      <td>-1.637264</td>\n",
       "      <td>0.215086</td>\n",
       "    </tr>\n",
       "    <tr>\n",
       "      <th>2021-01-05</th>\n",
       "      <td>-0.059528</td>\n",
       "      <td>1.483417</td>\n",
       "    </tr>\n",
       "  </tbody>\n",
       "</table>\n",
       "</div>"
      ],
      "text/plain": [
       "                   A         B\n",
       "2021-01-04 -1.637264  0.215086\n",
       "2021-01-05 -0.059528  1.483417"
      ]
     },
     "execution_count": 440,
     "metadata": {},
     "output_type": "execute_result"
    }
   ],
   "source": [
    "df.iloc[3:5, 0:2]"
   ]
  },
  {
   "cell_type": "code",
   "execution_count": 441,
   "id": "d5b83751-4c5f-41cd-b4cb-275d95fd9887",
   "metadata": {},
   "outputs": [
    {
     "data": {
      "text/html": [
       "<div>\n",
       "<style scoped>\n",
       "    .dataframe tbody tr th:only-of-type {\n",
       "        vertical-align: middle;\n",
       "    }\n",
       "\n",
       "    .dataframe tbody tr th {\n",
       "        vertical-align: top;\n",
       "    }\n",
       "\n",
       "    .dataframe thead th {\n",
       "        text-align: right;\n",
       "    }\n",
       "</style>\n",
       "<table border=\"1\" class=\"dataframe\">\n",
       "  <thead>\n",
       "    <tr style=\"text-align: right;\">\n",
       "      <th></th>\n",
       "      <th>A</th>\n",
       "      <th>B</th>\n",
       "      <th>C</th>\n",
       "      <th>D</th>\n",
       "    </tr>\n",
       "  </thead>\n",
       "  <tbody>\n",
       "    <tr>\n",
       "      <th>2021-01-01</th>\n",
       "      <td>-1.155149</td>\n",
       "      <td>0.239796</td>\n",
       "      <td>-0.189845</td>\n",
       "      <td>-0.957906</td>\n",
       "    </tr>\n",
       "    <tr>\n",
       "      <th>2021-01-02</th>\n",
       "      <td>0.219445</td>\n",
       "      <td>0.712162</td>\n",
       "      <td>0.438179</td>\n",
       "      <td>1.508120</td>\n",
       "    </tr>\n",
       "    <tr>\n",
       "      <th>2021-01-03</th>\n",
       "      <td>-0.835639</td>\n",
       "      <td>-0.332944</td>\n",
       "      <td>-0.107719</td>\n",
       "      <td>0.682853</td>\n",
       "    </tr>\n",
       "    <tr>\n",
       "      <th>2021-01-04</th>\n",
       "      <td>-1.637264</td>\n",
       "      <td>0.215086</td>\n",
       "      <td>0.622583</td>\n",
       "      <td>-0.325767</td>\n",
       "    </tr>\n",
       "    <tr>\n",
       "      <th>2021-01-05</th>\n",
       "      <td>-0.059528</td>\n",
       "      <td>1.483417</td>\n",
       "      <td>0.557589</td>\n",
       "      <td>-0.193307</td>\n",
       "    </tr>\n",
       "    <tr>\n",
       "      <th>2021-01-06</th>\n",
       "      <td>-1.439058</td>\n",
       "      <td>-0.093413</td>\n",
       "      <td>-0.061231</td>\n",
       "      <td>-0.121209</td>\n",
       "    </tr>\n",
       "  </tbody>\n",
       "</table>\n",
       "</div>"
      ],
      "text/plain": [
       "                   A         B         C         D\n",
       "2021-01-01 -1.155149  0.239796 -0.189845 -0.957906\n",
       "2021-01-02  0.219445  0.712162  0.438179  1.508120\n",
       "2021-01-03 -0.835639 -0.332944 -0.107719  0.682853\n",
       "2021-01-04 -1.637264  0.215086  0.622583 -0.325767\n",
       "2021-01-05 -0.059528  1.483417  0.557589 -0.193307\n",
       "2021-01-06 -1.439058 -0.093413 -0.061231 -0.121209"
      ]
     },
     "execution_count": 441,
     "metadata": {},
     "output_type": "execute_result"
    }
   ],
   "source": [
    "df"
   ]
  },
  {
   "cell_type": "code",
   "execution_count": 442,
   "id": "247de826-e2f8-434c-82ff-1fe9573e6738",
   "metadata": {},
   "outputs": [
    {
     "data": {
      "text/html": [
       "<div>\n",
       "<style scoped>\n",
       "    .dataframe tbody tr th:only-of-type {\n",
       "        vertical-align: middle;\n",
       "    }\n",
       "\n",
       "    .dataframe tbody tr th {\n",
       "        vertical-align: top;\n",
       "    }\n",
       "\n",
       "    .dataframe thead th {\n",
       "        text-align: right;\n",
       "    }\n",
       "</style>\n",
       "<table border=\"1\" class=\"dataframe\">\n",
       "  <thead>\n",
       "    <tr style=\"text-align: right;\">\n",
       "      <th></th>\n",
       "      <th>A</th>\n",
       "      <th>C</th>\n",
       "    </tr>\n",
       "  </thead>\n",
       "  <tbody>\n",
       "    <tr>\n",
       "      <th>2021-01-02</th>\n",
       "      <td>0.219445</td>\n",
       "      <td>0.438179</td>\n",
       "    </tr>\n",
       "    <tr>\n",
       "      <th>2021-01-03</th>\n",
       "      <td>-0.835639</td>\n",
       "      <td>-0.107719</td>\n",
       "    </tr>\n",
       "    <tr>\n",
       "      <th>2021-01-05</th>\n",
       "      <td>-0.059528</td>\n",
       "      <td>0.557589</td>\n",
       "    </tr>\n",
       "  </tbody>\n",
       "</table>\n",
       "</div>"
      ],
      "text/plain": [
       "                   A         C\n",
       "2021-01-02  0.219445  0.438179\n",
       "2021-01-03 -0.835639 -0.107719\n",
       "2021-01-05 -0.059528  0.557589"
      ]
     },
     "execution_count": 442,
     "metadata": {},
     "output_type": "execute_result"
    }
   ],
   "source": [
    "df.iloc[[1, 2, 4], [0, 2]]"
   ]
  },
  {
   "cell_type": "code",
   "execution_count": 443,
   "id": "2bb8abbc-58fc-4a05-ae3b-4a680a07adc2",
   "metadata": {},
   "outputs": [
    {
     "data": {
      "text/html": [
       "<div>\n",
       "<style scoped>\n",
       "    .dataframe tbody tr th:only-of-type {\n",
       "        vertical-align: middle;\n",
       "    }\n",
       "\n",
       "    .dataframe tbody tr th {\n",
       "        vertical-align: top;\n",
       "    }\n",
       "\n",
       "    .dataframe thead th {\n",
       "        text-align: right;\n",
       "    }\n",
       "</style>\n",
       "<table border=\"1\" class=\"dataframe\">\n",
       "  <thead>\n",
       "    <tr style=\"text-align: right;\">\n",
       "      <th></th>\n",
       "      <th>B</th>\n",
       "      <th>C</th>\n",
       "    </tr>\n",
       "  </thead>\n",
       "  <tbody>\n",
       "    <tr>\n",
       "      <th>2021-01-01</th>\n",
       "      <td>0.239796</td>\n",
       "      <td>-0.189845</td>\n",
       "    </tr>\n",
       "    <tr>\n",
       "      <th>2021-01-02</th>\n",
       "      <td>0.712162</td>\n",
       "      <td>0.438179</td>\n",
       "    </tr>\n",
       "    <tr>\n",
       "      <th>2021-01-03</th>\n",
       "      <td>-0.332944</td>\n",
       "      <td>-0.107719</td>\n",
       "    </tr>\n",
       "    <tr>\n",
       "      <th>2021-01-04</th>\n",
       "      <td>0.215086</td>\n",
       "      <td>0.622583</td>\n",
       "    </tr>\n",
       "    <tr>\n",
       "      <th>2021-01-05</th>\n",
       "      <td>1.483417</td>\n",
       "      <td>0.557589</td>\n",
       "    </tr>\n",
       "    <tr>\n",
       "      <th>2021-01-06</th>\n",
       "      <td>-0.093413</td>\n",
       "      <td>-0.061231</td>\n",
       "    </tr>\n",
       "  </tbody>\n",
       "</table>\n",
       "</div>"
      ],
      "text/plain": [
       "                   B         C\n",
       "2021-01-01  0.239796 -0.189845\n",
       "2021-01-02  0.712162  0.438179\n",
       "2021-01-03 -0.332944 -0.107719\n",
       "2021-01-04  0.215086  0.622583\n",
       "2021-01-05  1.483417  0.557589\n",
       "2021-01-06 -0.093413 -0.061231"
      ]
     },
     "execution_count": 443,
     "metadata": {},
     "output_type": "execute_result"
    }
   ],
   "source": [
    "df.iloc[:, 1:3]"
   ]
  },
  {
   "cell_type": "markdown",
   "id": "42f0c38b-cbae-4b7a-b759-8b0f75f5475f",
   "metadata": {},
   "source": [
    "### condition"
   ]
  },
  {
   "cell_type": "code",
   "execution_count": 444,
   "id": "8580c34a-4e2b-4b59-b897-99f611de1144",
   "metadata": {},
   "outputs": [
    {
     "data": {
      "text/html": [
       "<div>\n",
       "<style scoped>\n",
       "    .dataframe tbody tr th:only-of-type {\n",
       "        vertical-align: middle;\n",
       "    }\n",
       "\n",
       "    .dataframe tbody tr th {\n",
       "        vertical-align: top;\n",
       "    }\n",
       "\n",
       "    .dataframe thead th {\n",
       "        text-align: right;\n",
       "    }\n",
       "</style>\n",
       "<table border=\"1\" class=\"dataframe\">\n",
       "  <thead>\n",
       "    <tr style=\"text-align: right;\">\n",
       "      <th></th>\n",
       "      <th>A</th>\n",
       "      <th>B</th>\n",
       "      <th>C</th>\n",
       "      <th>D</th>\n",
       "    </tr>\n",
       "  </thead>\n",
       "  <tbody>\n",
       "    <tr>\n",
       "      <th>2021-01-01</th>\n",
       "      <td>-1.155149</td>\n",
       "      <td>0.239796</td>\n",
       "      <td>-0.189845</td>\n",
       "      <td>-0.957906</td>\n",
       "    </tr>\n",
       "    <tr>\n",
       "      <th>2021-01-02</th>\n",
       "      <td>0.219445</td>\n",
       "      <td>0.712162</td>\n",
       "      <td>0.438179</td>\n",
       "      <td>1.508120</td>\n",
       "    </tr>\n",
       "    <tr>\n",
       "      <th>2021-01-03</th>\n",
       "      <td>-0.835639</td>\n",
       "      <td>-0.332944</td>\n",
       "      <td>-0.107719</td>\n",
       "      <td>0.682853</td>\n",
       "    </tr>\n",
       "    <tr>\n",
       "      <th>2021-01-04</th>\n",
       "      <td>-1.637264</td>\n",
       "      <td>0.215086</td>\n",
       "      <td>0.622583</td>\n",
       "      <td>-0.325767</td>\n",
       "    </tr>\n",
       "    <tr>\n",
       "      <th>2021-01-05</th>\n",
       "      <td>-0.059528</td>\n",
       "      <td>1.483417</td>\n",
       "      <td>0.557589</td>\n",
       "      <td>-0.193307</td>\n",
       "    </tr>\n",
       "    <tr>\n",
       "      <th>2021-01-06</th>\n",
       "      <td>-1.439058</td>\n",
       "      <td>-0.093413</td>\n",
       "      <td>-0.061231</td>\n",
       "      <td>-0.121209</td>\n",
       "    </tr>\n",
       "  </tbody>\n",
       "</table>\n",
       "</div>"
      ],
      "text/plain": [
       "                   A         B         C         D\n",
       "2021-01-01 -1.155149  0.239796 -0.189845 -0.957906\n",
       "2021-01-02  0.219445  0.712162  0.438179  1.508120\n",
       "2021-01-03 -0.835639 -0.332944 -0.107719  0.682853\n",
       "2021-01-04 -1.637264  0.215086  0.622583 -0.325767\n",
       "2021-01-05 -0.059528  1.483417  0.557589 -0.193307\n",
       "2021-01-06 -1.439058 -0.093413 -0.061231 -0.121209"
      ]
     },
     "execution_count": 444,
     "metadata": {},
     "output_type": "execute_result"
    }
   ],
   "source": [
    "df"
   ]
  },
  {
   "cell_type": "code",
   "execution_count": 445,
   "id": "65004c0a-4432-4fc0-9f55-f8effb93c168",
   "metadata": {},
   "outputs": [
    {
     "data": {
      "text/plain": [
       "2021-01-01    False\n",
       "2021-01-02     True\n",
       "2021-01-03    False\n",
       "2021-01-04    False\n",
       "2021-01-05    False\n",
       "2021-01-06    False\n",
       "Freq: D, Name: A, dtype: bool"
      ]
     },
     "execution_count": 445,
     "metadata": {},
     "output_type": "execute_result"
    }
   ],
   "source": [
    "# A 칼럼에서 0보다 큰 숫자(양수)만 선택\n",
    "\n",
    "df[\"A\"] > 0"
   ]
  },
  {
   "cell_type": "code",
   "execution_count": 446,
   "id": "367587f2-7c98-496b-9102-2f67e65adf04",
   "metadata": {},
   "outputs": [
    {
     "data": {
      "text/html": [
       "<div>\n",
       "<style scoped>\n",
       "    .dataframe tbody tr th:only-of-type {\n",
       "        vertical-align: middle;\n",
       "    }\n",
       "\n",
       "    .dataframe tbody tr th {\n",
       "        vertical-align: top;\n",
       "    }\n",
       "\n",
       "    .dataframe thead th {\n",
       "        text-align: right;\n",
       "    }\n",
       "</style>\n",
       "<table border=\"1\" class=\"dataframe\">\n",
       "  <thead>\n",
       "    <tr style=\"text-align: right;\">\n",
       "      <th></th>\n",
       "      <th>A</th>\n",
       "      <th>B</th>\n",
       "      <th>C</th>\n",
       "      <th>D</th>\n",
       "    </tr>\n",
       "  </thead>\n",
       "  <tbody>\n",
       "    <tr>\n",
       "      <th>2021-01-01</th>\n",
       "      <td>-1.155149</td>\n",
       "      <td>0.239796</td>\n",
       "      <td>-0.189845</td>\n",
       "      <td>-0.957906</td>\n",
       "    </tr>\n",
       "    <tr>\n",
       "      <th>2021-01-02</th>\n",
       "      <td>0.219445</td>\n",
       "      <td>0.712162</td>\n",
       "      <td>0.438179</td>\n",
       "      <td>1.508120</td>\n",
       "    </tr>\n",
       "    <tr>\n",
       "      <th>2021-01-03</th>\n",
       "      <td>-0.835639</td>\n",
       "      <td>-0.332944</td>\n",
       "      <td>-0.107719</td>\n",
       "      <td>0.682853</td>\n",
       "    </tr>\n",
       "    <tr>\n",
       "      <th>2021-01-04</th>\n",
       "      <td>-1.637264</td>\n",
       "      <td>0.215086</td>\n",
       "      <td>0.622583</td>\n",
       "      <td>-0.325767</td>\n",
       "    </tr>\n",
       "    <tr>\n",
       "      <th>2021-01-05</th>\n",
       "      <td>-0.059528</td>\n",
       "      <td>1.483417</td>\n",
       "      <td>0.557589</td>\n",
       "      <td>-0.193307</td>\n",
       "    </tr>\n",
       "    <tr>\n",
       "      <th>2021-01-06</th>\n",
       "      <td>-1.439058</td>\n",
       "      <td>-0.093413</td>\n",
       "      <td>-0.061231</td>\n",
       "      <td>-0.121209</td>\n",
       "    </tr>\n",
       "  </tbody>\n",
       "</table>\n",
       "</div>"
      ],
      "text/plain": [
       "                   A         B         C         D\n",
       "2021-01-01 -1.155149  0.239796 -0.189845 -0.957906\n",
       "2021-01-02  0.219445  0.712162  0.438179  1.508120\n",
       "2021-01-03 -0.835639 -0.332944 -0.107719  0.682853\n",
       "2021-01-04 -1.637264  0.215086  0.622583 -0.325767\n",
       "2021-01-05 -0.059528  1.483417  0.557589 -0.193307\n",
       "2021-01-06 -1.439058 -0.093413 -0.061231 -0.121209"
      ]
     },
     "execution_count": 446,
     "metadata": {},
     "output_type": "execute_result"
    }
   ],
   "source": [
    "df"
   ]
  },
  {
   "cell_type": "code",
   "execution_count": 447,
   "id": "53faa0be-fdba-4eb3-827c-c1aa4d44c991",
   "metadata": {},
   "outputs": [
    {
     "data": {
      "text/html": [
       "<div>\n",
       "<style scoped>\n",
       "    .dataframe tbody tr th:only-of-type {\n",
       "        vertical-align: middle;\n",
       "    }\n",
       "\n",
       "    .dataframe tbody tr th {\n",
       "        vertical-align: top;\n",
       "    }\n",
       "\n",
       "    .dataframe thead th {\n",
       "        text-align: right;\n",
       "    }\n",
       "</style>\n",
       "<table border=\"1\" class=\"dataframe\">\n",
       "  <thead>\n",
       "    <tr style=\"text-align: right;\">\n",
       "      <th></th>\n",
       "      <th>A</th>\n",
       "      <th>B</th>\n",
       "      <th>C</th>\n",
       "      <th>D</th>\n",
       "    </tr>\n",
       "  </thead>\n",
       "  <tbody>\n",
       "    <tr>\n",
       "      <th>2021-01-02</th>\n",
       "      <td>0.219445</td>\n",
       "      <td>0.712162</td>\n",
       "      <td>0.438179</td>\n",
       "      <td>1.50812</td>\n",
       "    </tr>\n",
       "  </tbody>\n",
       "</table>\n",
       "</div>"
      ],
      "text/plain": [
       "                   A         B         C        D\n",
       "2021-01-02  0.219445  0.712162  0.438179  1.50812"
      ]
     },
     "execution_count": 447,
     "metadata": {},
     "output_type": "execute_result"
    }
   ],
   "source": [
    "df[df[\"A\"] > 0]"
   ]
  },
  {
   "cell_type": "code",
   "execution_count": 448,
   "id": "559e7c34-207a-446b-bce4-029fb8d278b3",
   "metadata": {},
   "outputs": [
    {
     "data": {
      "text/html": [
       "<div>\n",
       "<style scoped>\n",
       "    .dataframe tbody tr th:only-of-type {\n",
       "        vertical-align: middle;\n",
       "    }\n",
       "\n",
       "    .dataframe tbody tr th {\n",
       "        vertical-align: top;\n",
       "    }\n",
       "\n",
       "    .dataframe thead th {\n",
       "        text-align: right;\n",
       "    }\n",
       "</style>\n",
       "<table border=\"1\" class=\"dataframe\">\n",
       "  <thead>\n",
       "    <tr style=\"text-align: right;\">\n",
       "      <th></th>\n",
       "      <th>A</th>\n",
       "      <th>B</th>\n",
       "      <th>C</th>\n",
       "      <th>D</th>\n",
       "    </tr>\n",
       "  </thead>\n",
       "  <tbody>\n",
       "    <tr>\n",
       "      <th>2021-01-01</th>\n",
       "      <td>NaN</td>\n",
       "      <td>0.239796</td>\n",
       "      <td>NaN</td>\n",
       "      <td>NaN</td>\n",
       "    </tr>\n",
       "    <tr>\n",
       "      <th>2021-01-02</th>\n",
       "      <td>0.219445</td>\n",
       "      <td>0.712162</td>\n",
       "      <td>0.438179</td>\n",
       "      <td>1.508120</td>\n",
       "    </tr>\n",
       "    <tr>\n",
       "      <th>2021-01-03</th>\n",
       "      <td>NaN</td>\n",
       "      <td>NaN</td>\n",
       "      <td>NaN</td>\n",
       "      <td>0.682853</td>\n",
       "    </tr>\n",
       "    <tr>\n",
       "      <th>2021-01-04</th>\n",
       "      <td>NaN</td>\n",
       "      <td>0.215086</td>\n",
       "      <td>0.622583</td>\n",
       "      <td>NaN</td>\n",
       "    </tr>\n",
       "    <tr>\n",
       "      <th>2021-01-05</th>\n",
       "      <td>NaN</td>\n",
       "      <td>1.483417</td>\n",
       "      <td>0.557589</td>\n",
       "      <td>NaN</td>\n",
       "    </tr>\n",
       "    <tr>\n",
       "      <th>2021-01-06</th>\n",
       "      <td>NaN</td>\n",
       "      <td>NaN</td>\n",
       "      <td>NaN</td>\n",
       "      <td>NaN</td>\n",
       "    </tr>\n",
       "  </tbody>\n",
       "</table>\n",
       "</div>"
      ],
      "text/plain": [
       "                   A         B         C         D\n",
       "2021-01-01       NaN  0.239796       NaN       NaN\n",
       "2021-01-02  0.219445  0.712162  0.438179  1.508120\n",
       "2021-01-03       NaN       NaN       NaN  0.682853\n",
       "2021-01-04       NaN  0.215086  0.622583       NaN\n",
       "2021-01-05       NaN  1.483417  0.557589       NaN\n",
       "2021-01-06       NaN       NaN       NaN       NaN"
      ]
     },
     "execution_count": 448,
     "metadata": {},
     "output_type": "execute_result"
    }
   ],
   "source": [
    "df[df > 0]"
   ]
  },
  {
   "cell_type": "markdown",
   "id": "1fed0294-7edd-4e88-ab48-6837f8e67da5",
   "metadata": {},
   "source": [
    "- NaN : Not a Number"
   ]
  },
  {
   "cell_type": "markdown",
   "id": "f9f954e6-f1d9-4922-9acd-1cee32a4b459",
   "metadata": {},
   "source": [
    "#### 컬럼 추가\n",
    "- 기존 컬럼이 없으면 추가\n",
    "- 기존 컬럼이 있으면 수정"
   ]
  },
  {
   "cell_type": "code",
   "execution_count": 449,
   "id": "f37585cb-9fb3-4e81-b18f-77a2119edb06",
   "metadata": {},
   "outputs": [
    {
     "data": {
      "text/html": [
       "<div>\n",
       "<style scoped>\n",
       "    .dataframe tbody tr th:only-of-type {\n",
       "        vertical-align: middle;\n",
       "    }\n",
       "\n",
       "    .dataframe tbody tr th {\n",
       "        vertical-align: top;\n",
       "    }\n",
       "\n",
       "    .dataframe thead th {\n",
       "        text-align: right;\n",
       "    }\n",
       "</style>\n",
       "<table border=\"1\" class=\"dataframe\">\n",
       "  <thead>\n",
       "    <tr style=\"text-align: right;\">\n",
       "      <th></th>\n",
       "      <th>A</th>\n",
       "      <th>B</th>\n",
       "      <th>C</th>\n",
       "      <th>D</th>\n",
       "    </tr>\n",
       "  </thead>\n",
       "  <tbody>\n",
       "    <tr>\n",
       "      <th>2021-01-01</th>\n",
       "      <td>-1.155149</td>\n",
       "      <td>0.239796</td>\n",
       "      <td>-0.189845</td>\n",
       "      <td>-0.957906</td>\n",
       "    </tr>\n",
       "    <tr>\n",
       "      <th>2021-01-02</th>\n",
       "      <td>0.219445</td>\n",
       "      <td>0.712162</td>\n",
       "      <td>0.438179</td>\n",
       "      <td>1.508120</td>\n",
       "    </tr>\n",
       "    <tr>\n",
       "      <th>2021-01-03</th>\n",
       "      <td>-0.835639</td>\n",
       "      <td>-0.332944</td>\n",
       "      <td>-0.107719</td>\n",
       "      <td>0.682853</td>\n",
       "    </tr>\n",
       "    <tr>\n",
       "      <th>2021-01-04</th>\n",
       "      <td>-1.637264</td>\n",
       "      <td>0.215086</td>\n",
       "      <td>0.622583</td>\n",
       "      <td>-0.325767</td>\n",
       "    </tr>\n",
       "    <tr>\n",
       "      <th>2021-01-05</th>\n",
       "      <td>-0.059528</td>\n",
       "      <td>1.483417</td>\n",
       "      <td>0.557589</td>\n",
       "      <td>-0.193307</td>\n",
       "    </tr>\n",
       "    <tr>\n",
       "      <th>2021-01-06</th>\n",
       "      <td>-1.439058</td>\n",
       "      <td>-0.093413</td>\n",
       "      <td>-0.061231</td>\n",
       "      <td>-0.121209</td>\n",
       "    </tr>\n",
       "  </tbody>\n",
       "</table>\n",
       "</div>"
      ],
      "text/plain": [
       "                   A         B         C         D\n",
       "2021-01-01 -1.155149  0.239796 -0.189845 -0.957906\n",
       "2021-01-02  0.219445  0.712162  0.438179  1.508120\n",
       "2021-01-03 -0.835639 -0.332944 -0.107719  0.682853\n",
       "2021-01-04 -1.637264  0.215086  0.622583 -0.325767\n",
       "2021-01-05 -0.059528  1.483417  0.557589 -0.193307\n",
       "2021-01-06 -1.439058 -0.093413 -0.061231 -0.121209"
      ]
     },
     "execution_count": 449,
     "metadata": {},
     "output_type": "execute_result"
    }
   ],
   "source": [
    "df"
   ]
  },
  {
   "cell_type": "code",
   "execution_count": 450,
   "id": "c1b0d22f-3e75-4058-a60b-a58077a186ad",
   "metadata": {},
   "outputs": [
    {
     "data": {
      "text/html": [
       "<div>\n",
       "<style scoped>\n",
       "    .dataframe tbody tr th:only-of-type {\n",
       "        vertical-align: middle;\n",
       "    }\n",
       "\n",
       "    .dataframe tbody tr th {\n",
       "        vertical-align: top;\n",
       "    }\n",
       "\n",
       "    .dataframe thead th {\n",
       "        text-align: right;\n",
       "    }\n",
       "</style>\n",
       "<table border=\"1\" class=\"dataframe\">\n",
       "  <thead>\n",
       "    <tr style=\"text-align: right;\">\n",
       "      <th></th>\n",
       "      <th>A</th>\n",
       "      <th>B</th>\n",
       "      <th>C</th>\n",
       "      <th>D</th>\n",
       "      <th>E</th>\n",
       "    </tr>\n",
       "  </thead>\n",
       "  <tbody>\n",
       "    <tr>\n",
       "      <th>2021-01-01</th>\n",
       "      <td>-1.155149</td>\n",
       "      <td>0.239796</td>\n",
       "      <td>-0.189845</td>\n",
       "      <td>-0.957906</td>\n",
       "      <td>one</td>\n",
       "    </tr>\n",
       "    <tr>\n",
       "      <th>2021-01-02</th>\n",
       "      <td>0.219445</td>\n",
       "      <td>0.712162</td>\n",
       "      <td>0.438179</td>\n",
       "      <td>1.508120</td>\n",
       "      <td>one</td>\n",
       "    </tr>\n",
       "    <tr>\n",
       "      <th>2021-01-03</th>\n",
       "      <td>-0.835639</td>\n",
       "      <td>-0.332944</td>\n",
       "      <td>-0.107719</td>\n",
       "      <td>0.682853</td>\n",
       "      <td>two</td>\n",
       "    </tr>\n",
       "    <tr>\n",
       "      <th>2021-01-04</th>\n",
       "      <td>-1.637264</td>\n",
       "      <td>0.215086</td>\n",
       "      <td>0.622583</td>\n",
       "      <td>-0.325767</td>\n",
       "      <td>three</td>\n",
       "    </tr>\n",
       "    <tr>\n",
       "      <th>2021-01-05</th>\n",
       "      <td>-0.059528</td>\n",
       "      <td>1.483417</td>\n",
       "      <td>0.557589</td>\n",
       "      <td>-0.193307</td>\n",
       "      <td>four</td>\n",
       "    </tr>\n",
       "    <tr>\n",
       "      <th>2021-01-06</th>\n",
       "      <td>-1.439058</td>\n",
       "      <td>-0.093413</td>\n",
       "      <td>-0.061231</td>\n",
       "      <td>-0.121209</td>\n",
       "      <td>seaven</td>\n",
       "    </tr>\n",
       "  </tbody>\n",
       "</table>\n",
       "</div>"
      ],
      "text/plain": [
       "                   A         B         C         D       E\n",
       "2021-01-01 -1.155149  0.239796 -0.189845 -0.957906     one\n",
       "2021-01-02  0.219445  0.712162  0.438179  1.508120     one\n",
       "2021-01-03 -0.835639 -0.332944 -0.107719  0.682853     two\n",
       "2021-01-04 -1.637264  0.215086  0.622583 -0.325767   three\n",
       "2021-01-05 -0.059528  1.483417  0.557589 -0.193307    four\n",
       "2021-01-06 -1.439058 -0.093413 -0.061231 -0.121209  seaven"
      ]
     },
     "execution_count": 450,
     "metadata": {},
     "output_type": "execute_result"
    }
   ],
   "source": [
    "df[\"E\"] = [\"one\", \"one\", \"two\", \"three\", \"four\", \"seaven\"]\n",
    "df"
   ]
  },
  {
   "cell_type": "markdown",
   "id": "49af3209-1708-48d2-98d0-3e3a3fad972b",
   "metadata": {},
   "source": [
    "- isin()\n",
    "- 특정요소가 있는지 확인"
   ]
  },
  {
   "cell_type": "code",
   "execution_count": 451,
   "id": "599e51eb-488d-4fea-beae-3b51a3bda576",
   "metadata": {},
   "outputs": [
    {
     "data": {
      "text/plain": [
       "2021-01-01    False\n",
       "2021-01-02    False\n",
       "2021-01-03     True\n",
       "2021-01-04    False\n",
       "2021-01-05    False\n",
       "2021-01-06    False\n",
       "Freq: D, Name: E, dtype: bool"
      ]
     },
     "execution_count": 451,
     "metadata": {},
     "output_type": "execute_result"
    }
   ],
   "source": [
    "df[\"E\"].isin([\"two\", \"five\"])"
   ]
  },
  {
   "cell_type": "code",
   "execution_count": 452,
   "id": "3cb20f7c-8b53-41e3-9785-cb5c45c50adf",
   "metadata": {},
   "outputs": [
    {
     "data": {
      "text/plain": [
       "2021-01-01    False\n",
       "2021-01-02    False\n",
       "2021-01-03     True\n",
       "2021-01-04    False\n",
       "2021-01-05    False\n",
       "2021-01-06    False\n",
       "Freq: D, Name: E, dtype: bool"
      ]
     },
     "execution_count": 452,
     "metadata": {},
     "output_type": "execute_result"
    }
   ],
   "source": [
    "df[\"E\"].isin([\"two\", \"five\", \"three:\"])"
   ]
  },
  {
   "cell_type": "code",
   "execution_count": 453,
   "id": "dee5dc65-89f2-4015-b360-046bdaa9bc9b",
   "metadata": {},
   "outputs": [
    {
     "data": {
      "text/html": [
       "<div>\n",
       "<style scoped>\n",
       "    .dataframe tbody tr th:only-of-type {\n",
       "        vertical-align: middle;\n",
       "    }\n",
       "\n",
       "    .dataframe tbody tr th {\n",
       "        vertical-align: top;\n",
       "    }\n",
       "\n",
       "    .dataframe thead th {\n",
       "        text-align: right;\n",
       "    }\n",
       "</style>\n",
       "<table border=\"1\" class=\"dataframe\">\n",
       "  <thead>\n",
       "    <tr style=\"text-align: right;\">\n",
       "      <th></th>\n",
       "      <th>A</th>\n",
       "      <th>B</th>\n",
       "      <th>C</th>\n",
       "      <th>D</th>\n",
       "      <th>E</th>\n",
       "    </tr>\n",
       "  </thead>\n",
       "  <tbody>\n",
       "    <tr>\n",
       "      <th>2021-01-03</th>\n",
       "      <td>-0.835639</td>\n",
       "      <td>-0.332944</td>\n",
       "      <td>-0.107719</td>\n",
       "      <td>0.682853</td>\n",
       "      <td>two</td>\n",
       "    </tr>\n",
       "  </tbody>\n",
       "</table>\n",
       "</div>"
      ],
      "text/plain": [
       "                   A         B         C         D    E\n",
       "2021-01-03 -0.835639 -0.332944 -0.107719  0.682853  two"
      ]
     },
     "execution_count": 453,
     "metadata": {},
     "output_type": "execute_result"
    }
   ],
   "source": [
    "df[df[\"E\"].isin([\"two\", \"five\", \"three:\"])]"
   ]
  },
  {
   "cell_type": "markdown",
   "id": "ecdc1f1d-ce02-499a-b241-c795df668132",
   "metadata": {},
   "source": [
    "### 특정 컬럼 제거\n",
    "- del\n",
    "- drop"
   ]
  },
  {
   "cell_type": "code",
   "execution_count": 454,
   "id": "7b2c5ea7-8fec-4940-8173-887bab9a684e",
   "metadata": {},
   "outputs": [
    {
     "data": {
      "text/html": [
       "<div>\n",
       "<style scoped>\n",
       "    .dataframe tbody tr th:only-of-type {\n",
       "        vertical-align: middle;\n",
       "    }\n",
       "\n",
       "    .dataframe tbody tr th {\n",
       "        vertical-align: top;\n",
       "    }\n",
       "\n",
       "    .dataframe thead th {\n",
       "        text-align: right;\n",
       "    }\n",
       "</style>\n",
       "<table border=\"1\" class=\"dataframe\">\n",
       "  <thead>\n",
       "    <tr style=\"text-align: right;\">\n",
       "      <th></th>\n",
       "      <th>A</th>\n",
       "      <th>B</th>\n",
       "      <th>C</th>\n",
       "      <th>D</th>\n",
       "      <th>E</th>\n",
       "    </tr>\n",
       "  </thead>\n",
       "  <tbody>\n",
       "    <tr>\n",
       "      <th>2021-01-01</th>\n",
       "      <td>-1.155149</td>\n",
       "      <td>0.239796</td>\n",
       "      <td>-0.189845</td>\n",
       "      <td>-0.957906</td>\n",
       "      <td>one</td>\n",
       "    </tr>\n",
       "    <tr>\n",
       "      <th>2021-01-02</th>\n",
       "      <td>0.219445</td>\n",
       "      <td>0.712162</td>\n",
       "      <td>0.438179</td>\n",
       "      <td>1.508120</td>\n",
       "      <td>one</td>\n",
       "    </tr>\n",
       "    <tr>\n",
       "      <th>2021-01-03</th>\n",
       "      <td>-0.835639</td>\n",
       "      <td>-0.332944</td>\n",
       "      <td>-0.107719</td>\n",
       "      <td>0.682853</td>\n",
       "      <td>two</td>\n",
       "    </tr>\n",
       "    <tr>\n",
       "      <th>2021-01-04</th>\n",
       "      <td>-1.637264</td>\n",
       "      <td>0.215086</td>\n",
       "      <td>0.622583</td>\n",
       "      <td>-0.325767</td>\n",
       "      <td>three</td>\n",
       "    </tr>\n",
       "    <tr>\n",
       "      <th>2021-01-05</th>\n",
       "      <td>-0.059528</td>\n",
       "      <td>1.483417</td>\n",
       "      <td>0.557589</td>\n",
       "      <td>-0.193307</td>\n",
       "      <td>four</td>\n",
       "    </tr>\n",
       "    <tr>\n",
       "      <th>2021-01-06</th>\n",
       "      <td>-1.439058</td>\n",
       "      <td>-0.093413</td>\n",
       "      <td>-0.061231</td>\n",
       "      <td>-0.121209</td>\n",
       "      <td>seaven</td>\n",
       "    </tr>\n",
       "  </tbody>\n",
       "</table>\n",
       "</div>"
      ],
      "text/plain": [
       "                   A         B         C         D       E\n",
       "2021-01-01 -1.155149  0.239796 -0.189845 -0.957906     one\n",
       "2021-01-02  0.219445  0.712162  0.438179  1.508120     one\n",
       "2021-01-03 -0.835639 -0.332944 -0.107719  0.682853     two\n",
       "2021-01-04 -1.637264  0.215086  0.622583 -0.325767   three\n",
       "2021-01-05 -0.059528  1.483417  0.557589 -0.193307    four\n",
       "2021-01-06 -1.439058 -0.093413 -0.061231 -0.121209  seaven"
      ]
     },
     "execution_count": 454,
     "metadata": {},
     "output_type": "execute_result"
    }
   ],
   "source": [
    "df"
   ]
  },
  {
   "cell_type": "code",
   "execution_count": 455,
   "id": "8fa60dd6-cefc-4432-977c-fe06900c2568",
   "metadata": {},
   "outputs": [
    {
     "data": {
      "text/html": [
       "<div>\n",
       "<style scoped>\n",
       "    .dataframe tbody tr th:only-of-type {\n",
       "        vertical-align: middle;\n",
       "    }\n",
       "\n",
       "    .dataframe tbody tr th {\n",
       "        vertical-align: top;\n",
       "    }\n",
       "\n",
       "    .dataframe thead th {\n",
       "        text-align: right;\n",
       "    }\n",
       "</style>\n",
       "<table border=\"1\" class=\"dataframe\">\n",
       "  <thead>\n",
       "    <tr style=\"text-align: right;\">\n",
       "      <th></th>\n",
       "      <th>A</th>\n",
       "      <th>B</th>\n",
       "      <th>C</th>\n",
       "      <th>D</th>\n",
       "    </tr>\n",
       "  </thead>\n",
       "  <tbody>\n",
       "    <tr>\n",
       "      <th>2021-01-01</th>\n",
       "      <td>-1.155149</td>\n",
       "      <td>0.239796</td>\n",
       "      <td>-0.189845</td>\n",
       "      <td>-0.957906</td>\n",
       "    </tr>\n",
       "    <tr>\n",
       "      <th>2021-01-02</th>\n",
       "      <td>0.219445</td>\n",
       "      <td>0.712162</td>\n",
       "      <td>0.438179</td>\n",
       "      <td>1.508120</td>\n",
       "    </tr>\n",
       "    <tr>\n",
       "      <th>2021-01-03</th>\n",
       "      <td>-0.835639</td>\n",
       "      <td>-0.332944</td>\n",
       "      <td>-0.107719</td>\n",
       "      <td>0.682853</td>\n",
       "    </tr>\n",
       "    <tr>\n",
       "      <th>2021-01-04</th>\n",
       "      <td>-1.637264</td>\n",
       "      <td>0.215086</td>\n",
       "      <td>0.622583</td>\n",
       "      <td>-0.325767</td>\n",
       "    </tr>\n",
       "    <tr>\n",
       "      <th>2021-01-05</th>\n",
       "      <td>-0.059528</td>\n",
       "      <td>1.483417</td>\n",
       "      <td>0.557589</td>\n",
       "      <td>-0.193307</td>\n",
       "    </tr>\n",
       "    <tr>\n",
       "      <th>2021-01-06</th>\n",
       "      <td>-1.439058</td>\n",
       "      <td>-0.093413</td>\n",
       "      <td>-0.061231</td>\n",
       "      <td>-0.121209</td>\n",
       "    </tr>\n",
       "  </tbody>\n",
       "</table>\n",
       "</div>"
      ],
      "text/plain": [
       "                   A         B         C         D\n",
       "2021-01-01 -1.155149  0.239796 -0.189845 -0.957906\n",
       "2021-01-02  0.219445  0.712162  0.438179  1.508120\n",
       "2021-01-03 -0.835639 -0.332944 -0.107719  0.682853\n",
       "2021-01-04 -1.637264  0.215086  0.622583 -0.325767\n",
       "2021-01-05 -0.059528  1.483417  0.557589 -0.193307\n",
       "2021-01-06 -1.439058 -0.093413 -0.061231 -0.121209"
      ]
     },
     "execution_count": 455,
     "metadata": {},
     "output_type": "execute_result"
    }
   ],
   "source": [
    "del df[\"E\"]\n",
    "df"
   ]
  },
  {
   "cell_type": "code",
   "execution_count": 456,
   "id": "90ab9870-811a-4f13-a597-82522464de90",
   "metadata": {},
   "outputs": [
    {
     "data": {
      "text/html": [
       "<div>\n",
       "<style scoped>\n",
       "    .dataframe tbody tr th:only-of-type {\n",
       "        vertical-align: middle;\n",
       "    }\n",
       "\n",
       "    .dataframe tbody tr th {\n",
       "        vertical-align: top;\n",
       "    }\n",
       "\n",
       "    .dataframe thead th {\n",
       "        text-align: right;\n",
       "    }\n",
       "</style>\n",
       "<table border=\"1\" class=\"dataframe\">\n",
       "  <thead>\n",
       "    <tr style=\"text-align: right;\">\n",
       "      <th></th>\n",
       "      <th>A</th>\n",
       "      <th>B</th>\n",
       "      <th>C</th>\n",
       "    </tr>\n",
       "  </thead>\n",
       "  <tbody>\n",
       "    <tr>\n",
       "      <th>2021-01-01</th>\n",
       "      <td>-1.155149</td>\n",
       "      <td>0.239796</td>\n",
       "      <td>-0.189845</td>\n",
       "    </tr>\n",
       "    <tr>\n",
       "      <th>2021-01-02</th>\n",
       "      <td>0.219445</td>\n",
       "      <td>0.712162</td>\n",
       "      <td>0.438179</td>\n",
       "    </tr>\n",
       "    <tr>\n",
       "      <th>2021-01-03</th>\n",
       "      <td>-0.835639</td>\n",
       "      <td>-0.332944</td>\n",
       "      <td>-0.107719</td>\n",
       "    </tr>\n",
       "    <tr>\n",
       "      <th>2021-01-04</th>\n",
       "      <td>-1.637264</td>\n",
       "      <td>0.215086</td>\n",
       "      <td>0.622583</td>\n",
       "    </tr>\n",
       "    <tr>\n",
       "      <th>2021-01-05</th>\n",
       "      <td>-0.059528</td>\n",
       "      <td>1.483417</td>\n",
       "      <td>0.557589</td>\n",
       "    </tr>\n",
       "    <tr>\n",
       "      <th>2021-01-06</th>\n",
       "      <td>-1.439058</td>\n",
       "      <td>-0.093413</td>\n",
       "      <td>-0.061231</td>\n",
       "    </tr>\n",
       "  </tbody>\n",
       "</table>\n",
       "</div>"
      ],
      "text/plain": [
       "                   A         B         C\n",
       "2021-01-01 -1.155149  0.239796 -0.189845\n",
       "2021-01-02  0.219445  0.712162  0.438179\n",
       "2021-01-03 -0.835639 -0.332944 -0.107719\n",
       "2021-01-04 -1.637264  0.215086  0.622583\n",
       "2021-01-05 -0.059528  1.483417  0.557589\n",
       "2021-01-06 -1.439058 -0.093413 -0.061231"
      ]
     },
     "execution_count": 456,
     "metadata": {},
     "output_type": "execute_result"
    }
   ],
   "source": [
    "df.drop([\"D\"], axis=1) # axis=0 가로, axis=1 세로"
   ]
  },
  {
   "cell_type": "code",
   "execution_count": 457,
   "id": "c67ee8bb-f797-491e-bea4-25603f8576e9",
   "metadata": {},
   "outputs": [
    {
     "data": {
      "text/html": [
       "<div>\n",
       "<style scoped>\n",
       "    .dataframe tbody tr th:only-of-type {\n",
       "        vertical-align: middle;\n",
       "    }\n",
       "\n",
       "    .dataframe tbody tr th {\n",
       "        vertical-align: top;\n",
       "    }\n",
       "\n",
       "    .dataframe thead th {\n",
       "        text-align: right;\n",
       "    }\n",
       "</style>\n",
       "<table border=\"1\" class=\"dataframe\">\n",
       "  <thead>\n",
       "    <tr style=\"text-align: right;\">\n",
       "      <th></th>\n",
       "      <th>A</th>\n",
       "      <th>B</th>\n",
       "      <th>C</th>\n",
       "      <th>D</th>\n",
       "    </tr>\n",
       "  </thead>\n",
       "  <tbody>\n",
       "    <tr>\n",
       "      <th>2021-01-01</th>\n",
       "      <td>-1.155149</td>\n",
       "      <td>0.239796</td>\n",
       "      <td>-0.189845</td>\n",
       "      <td>-0.957906</td>\n",
       "    </tr>\n",
       "    <tr>\n",
       "      <th>2021-01-02</th>\n",
       "      <td>0.219445</td>\n",
       "      <td>0.712162</td>\n",
       "      <td>0.438179</td>\n",
       "      <td>1.508120</td>\n",
       "    </tr>\n",
       "    <tr>\n",
       "      <th>2021-01-03</th>\n",
       "      <td>-0.835639</td>\n",
       "      <td>-0.332944</td>\n",
       "      <td>-0.107719</td>\n",
       "      <td>0.682853</td>\n",
       "    </tr>\n",
       "    <tr>\n",
       "      <th>2021-01-05</th>\n",
       "      <td>-0.059528</td>\n",
       "      <td>1.483417</td>\n",
       "      <td>0.557589</td>\n",
       "      <td>-0.193307</td>\n",
       "    </tr>\n",
       "    <tr>\n",
       "      <th>2021-01-06</th>\n",
       "      <td>-1.439058</td>\n",
       "      <td>-0.093413</td>\n",
       "      <td>-0.061231</td>\n",
       "      <td>-0.121209</td>\n",
       "    </tr>\n",
       "  </tbody>\n",
       "</table>\n",
       "</div>"
      ],
      "text/plain": [
       "                   A         B         C         D\n",
       "2021-01-01 -1.155149  0.239796 -0.189845 -0.957906\n",
       "2021-01-02  0.219445  0.712162  0.438179  1.508120\n",
       "2021-01-03 -0.835639 -0.332944 -0.107719  0.682853\n",
       "2021-01-05 -0.059528  1.483417  0.557589 -0.193307\n",
       "2021-01-06 -1.439058 -0.093413 -0.061231 -0.121209"
      ]
     },
     "execution_count": 457,
     "metadata": {},
     "output_type": "execute_result"
    }
   ],
   "source": [
    "df.drop([\"20210104\"])"
   ]
  },
  {
   "cell_type": "markdown",
   "id": "5d1b73c2-b099-41a4-ac10-2babbb6f1f78",
   "metadata": {},
   "source": [
    "### apply()"
   ]
  },
  {
   "cell_type": "code",
   "execution_count": 458,
   "id": "ecd9b38a-5133-4f44-ab0e-8145864257db",
   "metadata": {},
   "outputs": [
    {
     "data": {
      "text/html": [
       "<div>\n",
       "<style scoped>\n",
       "    .dataframe tbody tr th:only-of-type {\n",
       "        vertical-align: middle;\n",
       "    }\n",
       "\n",
       "    .dataframe tbody tr th {\n",
       "        vertical-align: top;\n",
       "    }\n",
       "\n",
       "    .dataframe thead th {\n",
       "        text-align: right;\n",
       "    }\n",
       "</style>\n",
       "<table border=\"1\" class=\"dataframe\">\n",
       "  <thead>\n",
       "    <tr style=\"text-align: right;\">\n",
       "      <th></th>\n",
       "      <th>A</th>\n",
       "      <th>B</th>\n",
       "      <th>C</th>\n",
       "      <th>D</th>\n",
       "    </tr>\n",
       "  </thead>\n",
       "  <tbody>\n",
       "    <tr>\n",
       "      <th>2021-01-01</th>\n",
       "      <td>-1.155149</td>\n",
       "      <td>0.239796</td>\n",
       "      <td>-0.189845</td>\n",
       "      <td>-0.957906</td>\n",
       "    </tr>\n",
       "    <tr>\n",
       "      <th>2021-01-02</th>\n",
       "      <td>0.219445</td>\n",
       "      <td>0.712162</td>\n",
       "      <td>0.438179</td>\n",
       "      <td>1.508120</td>\n",
       "    </tr>\n",
       "    <tr>\n",
       "      <th>2021-01-03</th>\n",
       "      <td>-0.835639</td>\n",
       "      <td>-0.332944</td>\n",
       "      <td>-0.107719</td>\n",
       "      <td>0.682853</td>\n",
       "    </tr>\n",
       "    <tr>\n",
       "      <th>2021-01-04</th>\n",
       "      <td>-1.637264</td>\n",
       "      <td>0.215086</td>\n",
       "      <td>0.622583</td>\n",
       "      <td>-0.325767</td>\n",
       "    </tr>\n",
       "    <tr>\n",
       "      <th>2021-01-05</th>\n",
       "      <td>-0.059528</td>\n",
       "      <td>1.483417</td>\n",
       "      <td>0.557589</td>\n",
       "      <td>-0.193307</td>\n",
       "    </tr>\n",
       "    <tr>\n",
       "      <th>2021-01-06</th>\n",
       "      <td>-1.439058</td>\n",
       "      <td>-0.093413</td>\n",
       "      <td>-0.061231</td>\n",
       "      <td>-0.121209</td>\n",
       "    </tr>\n",
       "  </tbody>\n",
       "</table>\n",
       "</div>"
      ],
      "text/plain": [
       "                   A         B         C         D\n",
       "2021-01-01 -1.155149  0.239796 -0.189845 -0.957906\n",
       "2021-01-02  0.219445  0.712162  0.438179  1.508120\n",
       "2021-01-03 -0.835639 -0.332944 -0.107719  0.682853\n",
       "2021-01-04 -1.637264  0.215086  0.622583 -0.325767\n",
       "2021-01-05 -0.059528  1.483417  0.557589 -0.193307\n",
       "2021-01-06 -1.439058 -0.093413 -0.061231 -0.121209"
      ]
     },
     "execution_count": 458,
     "metadata": {},
     "output_type": "execute_result"
    }
   ],
   "source": [
    "df"
   ]
  },
  {
   "cell_type": "code",
   "execution_count": 459,
   "id": "769c5a7f-243e-486c-8389-12cacd6931b2",
   "metadata": {},
   "outputs": [
    {
     "data": {
      "text/plain": [
       "-4.907193387913178"
      ]
     },
     "execution_count": 459,
     "metadata": {},
     "output_type": "execute_result"
    }
   ],
   "source": [
    "df[\"A\"].apply(\"sum\")"
   ]
  },
  {
   "cell_type": "code",
   "execution_count": 460,
   "id": "3524463a-5876-44fe-8288-fa6f95bc8b35",
   "metadata": {},
   "outputs": [
    {
     "data": {
      "text/plain": [
       "-0.8178655646521964"
      ]
     },
     "execution_count": 460,
     "metadata": {},
     "output_type": "execute_result"
    }
   ],
   "source": [
    "df[\"A\"].apply(\"mean\")"
   ]
  },
  {
   "cell_type": "code",
   "execution_count": 461,
   "id": "d623acff-5cd6-4a01-8711-5dca667d845f",
   "metadata": {},
   "outputs": [
    {
     "data": {
      "text/plain": [
       "(-1.6372642355533928, 0.21944461070555182)"
      ]
     },
     "execution_count": 461,
     "metadata": {},
     "output_type": "execute_result"
    }
   ],
   "source": [
    "df[\"A\"].apply(\"min\"), df[\"A\"].apply(\"max\")"
   ]
  },
  {
   "cell_type": "code",
   "execution_count": 462,
   "id": "b6b3c6e1-b0a5-4f6a-80ce-44ff0ad45562",
   "metadata": {},
   "outputs": [
    {
     "data": {
      "text/plain": [
       "A   -4.907193\n",
       "D    0.592785\n",
       "dtype: float64"
      ]
     },
     "execution_count": 462,
     "metadata": {},
     "output_type": "execute_result"
    }
   ],
   "source": [
    "df[[\"A\", \"D\"]].apply(\"sum\")"
   ]
  },
  {
   "cell_type": "code",
   "execution_count": 463,
   "id": "1d491f5d-8d1b-492a-b883-99b316972913",
   "metadata": {},
   "outputs": [
    {
     "data": {
      "text/plain": [
       "2021-01-01   -1.155149\n",
       "2021-01-02    0.219445\n",
       "2021-01-03   -0.835639\n",
       "2021-01-04   -1.637264\n",
       "2021-01-05   -0.059528\n",
       "2021-01-06   -1.439058\n",
       "Freq: D, Name: A, dtype: float64"
      ]
     },
     "execution_count": 463,
     "metadata": {},
     "output_type": "execute_result"
    }
   ],
   "source": [
    "df[\"A\"].apply(np.sum)"
   ]
  },
  {
   "cell_type": "code",
   "execution_count": 464,
   "id": "dd782d7d-ea24-4198-911b-6c9ebd158527",
   "metadata": {},
   "outputs": [
    {
     "data": {
      "text/plain": [
       "2021-01-01   -1.155149\n",
       "2021-01-02    0.219445\n",
       "2021-01-03   -0.835639\n",
       "2021-01-04   -1.637264\n",
       "2021-01-05   -0.059528\n",
       "2021-01-06   -1.439058\n",
       "Freq: D, Name: A, dtype: float64"
      ]
     },
     "execution_count": 464,
     "metadata": {},
     "output_type": "execute_result"
    }
   ],
   "source": [
    "df[\"A\"].apply(np.mean)"
   ]
  },
  {
   "cell_type": "code",
   "execution_count": 465,
   "id": "4785e9ee-c77a-4dc4-bc4d-c78f3fdfaaf6",
   "metadata": {},
   "outputs": [
    {
     "data": {
      "text/plain": [
       "2021-01-01    0.0\n",
       "2021-01-02    0.0\n",
       "2021-01-03    0.0\n",
       "2021-01-04    0.0\n",
       "2021-01-05    0.0\n",
       "2021-01-06    0.0\n",
       "Freq: D, Name: A, dtype: float64"
      ]
     },
     "execution_count": 465,
     "metadata": {},
     "output_type": "execute_result"
    }
   ],
   "source": [
    "df[\"A\"].apply(np.std)"
   ]
  },
  {
   "cell_type": "code",
   "execution_count": 466,
   "id": "801572fb-0769-41ad-bbc1-ed1dfe464454",
   "metadata": {},
   "outputs": [
    {
     "data": {
      "text/plain": [
       "A   -4.907193\n",
       "B    2.224104\n",
       "C    1.259556\n",
       "D    0.592785\n",
       "dtype: float64"
      ]
     },
     "execution_count": 466,
     "metadata": {},
     "output_type": "execute_result"
    }
   ],
   "source": [
    "df.apply(np.sum)"
   ]
  },
  {
   "cell_type": "code",
   "execution_count": 467,
   "id": "3bc87c1c-f659-4123-a945-e4a7b9a7d907",
   "metadata": {},
   "outputs": [
    {
     "data": {
      "text/html": [
       "<div>\n",
       "<style scoped>\n",
       "    .dataframe tbody tr th:only-of-type {\n",
       "        vertical-align: middle;\n",
       "    }\n",
       "\n",
       "    .dataframe tbody tr th {\n",
       "        vertical-align: top;\n",
       "    }\n",
       "\n",
       "    .dataframe thead th {\n",
       "        text-align: right;\n",
       "    }\n",
       "</style>\n",
       "<table border=\"1\" class=\"dataframe\">\n",
       "  <thead>\n",
       "    <tr style=\"text-align: right;\">\n",
       "      <th></th>\n",
       "      <th>A</th>\n",
       "      <th>B</th>\n",
       "      <th>C</th>\n",
       "      <th>D</th>\n",
       "    </tr>\n",
       "  </thead>\n",
       "  <tbody>\n",
       "    <tr>\n",
       "      <th>2021-01-01</th>\n",
       "      <td>-1.155149</td>\n",
       "      <td>0.239796</td>\n",
       "      <td>-0.189845</td>\n",
       "      <td>-0.957906</td>\n",
       "    </tr>\n",
       "    <tr>\n",
       "      <th>2021-01-02</th>\n",
       "      <td>0.219445</td>\n",
       "      <td>0.712162</td>\n",
       "      <td>0.438179</td>\n",
       "      <td>1.508120</td>\n",
       "    </tr>\n",
       "    <tr>\n",
       "      <th>2021-01-03</th>\n",
       "      <td>-0.835639</td>\n",
       "      <td>-0.332944</td>\n",
       "      <td>-0.107719</td>\n",
       "      <td>0.682853</td>\n",
       "    </tr>\n",
       "    <tr>\n",
       "      <th>2021-01-04</th>\n",
       "      <td>-1.637264</td>\n",
       "      <td>0.215086</td>\n",
       "      <td>0.622583</td>\n",
       "      <td>-0.325767</td>\n",
       "    </tr>\n",
       "    <tr>\n",
       "      <th>2021-01-05</th>\n",
       "      <td>-0.059528</td>\n",
       "      <td>1.483417</td>\n",
       "      <td>0.557589</td>\n",
       "      <td>-0.193307</td>\n",
       "    </tr>\n",
       "    <tr>\n",
       "      <th>2021-01-06</th>\n",
       "      <td>-1.439058</td>\n",
       "      <td>-0.093413</td>\n",
       "      <td>-0.061231</td>\n",
       "      <td>-0.121209</td>\n",
       "    </tr>\n",
       "  </tbody>\n",
       "</table>\n",
       "</div>"
      ],
      "text/plain": [
       "                   A         B         C         D\n",
       "2021-01-01 -1.155149  0.239796 -0.189845 -0.957906\n",
       "2021-01-02  0.219445  0.712162  0.438179  1.508120\n",
       "2021-01-03 -0.835639 -0.332944 -0.107719  0.682853\n",
       "2021-01-04 -1.637264  0.215086  0.622583 -0.325767\n",
       "2021-01-05 -0.059528  1.483417  0.557589 -0.193307\n",
       "2021-01-06 -1.439058 -0.093413 -0.061231 -0.121209"
      ]
     },
     "execution_count": 467,
     "metadata": {},
     "output_type": "execute_result"
    }
   ],
   "source": [
    "df"
   ]
  },
  {
   "cell_type": "code",
   "execution_count": 468,
   "id": "b388f51e-4f4b-47fc-af46-a17e4e182ab8",
   "metadata": {},
   "outputs": [],
   "source": [
    "def plusminus(num):\n",
    "    return \"plus\" if num > 0 else \"minus\""
   ]
  },
  {
   "cell_type": "code",
   "execution_count": 469,
   "id": "9b55669e-8a1f-4762-87dc-588d04d7f3de",
   "metadata": {},
   "outputs": [
    {
     "data": {
      "text/plain": [
       "2021-01-01    minus\n",
       "2021-01-02     plus\n",
       "2021-01-03    minus\n",
       "2021-01-04    minus\n",
       "2021-01-05    minus\n",
       "2021-01-06    minus\n",
       "Freq: D, Name: A, dtype: object"
      ]
     },
     "execution_count": 469,
     "metadata": {},
     "output_type": "execute_result"
    }
   ],
   "source": [
    "df[\"A\"].apply(plusminus)"
   ]
  },
  {
   "cell_type": "code",
   "execution_count": 470,
   "id": "0065c44b-8f2e-4211-8a32-ac9ed6ab5e19",
   "metadata": {},
   "outputs": [
    {
     "data": {
      "text/plain": [
       "2021-01-01    minus\n",
       "2021-01-02     plus\n",
       "2021-01-03    minus\n",
       "2021-01-04    minus\n",
       "2021-01-05    minus\n",
       "2021-01-06    minus\n",
       "Freq: D, Name: A, dtype: object"
      ]
     },
     "execution_count": 470,
     "metadata": {},
     "output_type": "execute_result"
    }
   ],
   "source": [
    "df[\"A\"].apply(lambda x: \"plus\" if x > 0 else \"minus\")"
   ]
  },
  {
   "cell_type": "markdown",
   "id": "8defb1e9-8131-4b77-9d73-c720e2c96e96",
   "metadata": {},
   "source": [
    "---"
   ]
  },
  {
   "cell_type": "markdown",
   "id": "e6993883-fb98-4fa3-9f9d-1c39fadbdb92",
   "metadata": {},
   "source": [
    "## 2. CCTV 데이터 훑어보기"
   ]
  },
  {
   "cell_type": "code",
   "execution_count": 471,
   "id": "dd50d757-d19a-41d6-ba6f-fefaf981613c",
   "metadata": {},
   "outputs": [
    {
     "data": {
      "text/html": [
       "<div>\n",
       "<style scoped>\n",
       "    .dataframe tbody tr th:only-of-type {\n",
       "        vertical-align: middle;\n",
       "    }\n",
       "\n",
       "    .dataframe tbody tr th {\n",
       "        vertical-align: top;\n",
       "    }\n",
       "\n",
       "    .dataframe thead th {\n",
       "        text-align: right;\n",
       "    }\n",
       "</style>\n",
       "<table border=\"1\" class=\"dataframe\">\n",
       "  <thead>\n",
       "    <tr style=\"text-align: right;\">\n",
       "      <th></th>\n",
       "      <th>구별</th>\n",
       "      <th>소계</th>\n",
       "      <th>2013년도 이전</th>\n",
       "      <th>2014년</th>\n",
       "      <th>2015년</th>\n",
       "      <th>2016년</th>\n",
       "      <th>최근증가율</th>\n",
       "    </tr>\n",
       "  </thead>\n",
       "  <tbody>\n",
       "    <tr>\n",
       "      <th>0</th>\n",
       "      <td>강남구</td>\n",
       "      <td>3238</td>\n",
       "      <td>1292</td>\n",
       "      <td>430</td>\n",
       "      <td>584</td>\n",
       "      <td>932</td>\n",
       "      <td>150.619195</td>\n",
       "    </tr>\n",
       "    <tr>\n",
       "      <th>1</th>\n",
       "      <td>강동구</td>\n",
       "      <td>1010</td>\n",
       "      <td>379</td>\n",
       "      <td>99</td>\n",
       "      <td>155</td>\n",
       "      <td>377</td>\n",
       "      <td>166.490765</td>\n",
       "    </tr>\n",
       "    <tr>\n",
       "      <th>2</th>\n",
       "      <td>강북구</td>\n",
       "      <td>831</td>\n",
       "      <td>369</td>\n",
       "      <td>120</td>\n",
       "      <td>138</td>\n",
       "      <td>204</td>\n",
       "      <td>125.203252</td>\n",
       "    </tr>\n",
       "    <tr>\n",
       "      <th>3</th>\n",
       "      <td>강서구</td>\n",
       "      <td>911</td>\n",
       "      <td>388</td>\n",
       "      <td>258</td>\n",
       "      <td>184</td>\n",
       "      <td>81</td>\n",
       "      <td>134.793814</td>\n",
       "    </tr>\n",
       "    <tr>\n",
       "      <th>4</th>\n",
       "      <td>관악구</td>\n",
       "      <td>2109</td>\n",
       "      <td>846</td>\n",
       "      <td>260</td>\n",
       "      <td>390</td>\n",
       "      <td>613</td>\n",
       "      <td>149.290780</td>\n",
       "    </tr>\n",
       "  </tbody>\n",
       "</table>\n",
       "</div>"
      ],
      "text/plain": [
       "    구별    소계  2013년도 이전  2014년  2015년  2016년       최근증가율\n",
       "0  강남구  3238       1292    430    584    932  150.619195\n",
       "1  강동구  1010        379     99    155    377  166.490765\n",
       "2  강북구   831        369    120    138    204  125.203252\n",
       "3  강서구   911        388    258    184     81  134.793814\n",
       "4  관악구  2109        846    260    390    613  149.290780"
      ]
     },
     "execution_count": 471,
     "metadata": {},
     "output_type": "execute_result"
    }
   ],
   "source": [
    "CCTV_Seoul.head()"
   ]
  },
  {
   "cell_type": "code",
   "execution_count": 472,
   "id": "a329807a-0c1c-4555-8d72-5c626741deec",
   "metadata": {},
   "outputs": [
    {
     "data": {
      "text/html": [
       "<div>\n",
       "<style scoped>\n",
       "    .dataframe tbody tr th:only-of-type {\n",
       "        vertical-align: middle;\n",
       "    }\n",
       "\n",
       "    .dataframe tbody tr th {\n",
       "        vertical-align: top;\n",
       "    }\n",
       "\n",
       "    .dataframe thead th {\n",
       "        text-align: right;\n",
       "    }\n",
       "</style>\n",
       "<table border=\"1\" class=\"dataframe\">\n",
       "  <thead>\n",
       "    <tr style=\"text-align: right;\">\n",
       "      <th></th>\n",
       "      <th>구별</th>\n",
       "      <th>소계</th>\n",
       "      <th>2013년도 이전</th>\n",
       "      <th>2014년</th>\n",
       "      <th>2015년</th>\n",
       "      <th>2016년</th>\n",
       "      <th>최근증가율</th>\n",
       "    </tr>\n",
       "  </thead>\n",
       "  <tbody>\n",
       "    <tr>\n",
       "      <th>20</th>\n",
       "      <td>용산구</td>\n",
       "      <td>2096</td>\n",
       "      <td>1368</td>\n",
       "      <td>218</td>\n",
       "      <td>112</td>\n",
       "      <td>398</td>\n",
       "      <td>53.216374</td>\n",
       "    </tr>\n",
       "    <tr>\n",
       "      <th>21</th>\n",
       "      <td>은평구</td>\n",
       "      <td>2108</td>\n",
       "      <td>1138</td>\n",
       "      <td>224</td>\n",
       "      <td>278</td>\n",
       "      <td>468</td>\n",
       "      <td>85.237258</td>\n",
       "    </tr>\n",
       "    <tr>\n",
       "      <th>22</th>\n",
       "      <td>종로구</td>\n",
       "      <td>1619</td>\n",
       "      <td>464</td>\n",
       "      <td>314</td>\n",
       "      <td>211</td>\n",
       "      <td>630</td>\n",
       "      <td>248.922414</td>\n",
       "    </tr>\n",
       "    <tr>\n",
       "      <th>23</th>\n",
       "      <td>중구</td>\n",
       "      <td>1023</td>\n",
       "      <td>413</td>\n",
       "      <td>190</td>\n",
       "      <td>72</td>\n",
       "      <td>348</td>\n",
       "      <td>147.699758</td>\n",
       "    </tr>\n",
       "    <tr>\n",
       "      <th>24</th>\n",
       "      <td>중랑구</td>\n",
       "      <td>916</td>\n",
       "      <td>509</td>\n",
       "      <td>121</td>\n",
       "      <td>177</td>\n",
       "      <td>109</td>\n",
       "      <td>79.960707</td>\n",
       "    </tr>\n",
       "  </tbody>\n",
       "</table>\n",
       "</div>"
      ],
      "text/plain": [
       "     구별    소계  2013년도 이전  2014년  2015년  2016년       최근증가율\n",
       "20  용산구  2096       1368    218    112    398   53.216374\n",
       "21  은평구  2108       1138    224    278    468   85.237258\n",
       "22  종로구  1619        464    314    211    630  248.922414\n",
       "23   중구  1023        413    190     72    348  147.699758\n",
       "24  중랑구   916        509    121    177    109   79.960707"
      ]
     },
     "execution_count": 472,
     "metadata": {},
     "output_type": "execute_result"
    }
   ],
   "source": [
    "CCTV_Seoul.tail()"
   ]
  },
  {
   "cell_type": "code",
   "execution_count": 473,
   "id": "a2c158f0-8ebf-4493-97b5-7612443b44d9",
   "metadata": {},
   "outputs": [
    {
     "data": {
      "text/html": [
       "<div>\n",
       "<style scoped>\n",
       "    .dataframe tbody tr th:only-of-type {\n",
       "        vertical-align: middle;\n",
       "    }\n",
       "\n",
       "    .dataframe tbody tr th {\n",
       "        vertical-align: top;\n",
       "    }\n",
       "\n",
       "    .dataframe thead th {\n",
       "        text-align: right;\n",
       "    }\n",
       "</style>\n",
       "<table border=\"1\" class=\"dataframe\">\n",
       "  <thead>\n",
       "    <tr style=\"text-align: right;\">\n",
       "      <th></th>\n",
       "      <th>구별</th>\n",
       "      <th>소계</th>\n",
       "      <th>2013년도 이전</th>\n",
       "      <th>2014년</th>\n",
       "      <th>2015년</th>\n",
       "      <th>2016년</th>\n",
       "      <th>최근증가율</th>\n",
       "    </tr>\n",
       "  </thead>\n",
       "  <tbody>\n",
       "    <tr>\n",
       "      <th>9</th>\n",
       "      <td>도봉구</td>\n",
       "      <td>825</td>\n",
       "      <td>238</td>\n",
       "      <td>159</td>\n",
       "      <td>42</td>\n",
       "      <td>386</td>\n",
       "      <td>246.638655</td>\n",
       "    </tr>\n",
       "    <tr>\n",
       "      <th>2</th>\n",
       "      <td>강북구</td>\n",
       "      <td>831</td>\n",
       "      <td>369</td>\n",
       "      <td>120</td>\n",
       "      <td>138</td>\n",
       "      <td>204</td>\n",
       "      <td>125.203252</td>\n",
       "    </tr>\n",
       "    <tr>\n",
       "      <th>5</th>\n",
       "      <td>광진구</td>\n",
       "      <td>878</td>\n",
       "      <td>573</td>\n",
       "      <td>78</td>\n",
       "      <td>53</td>\n",
       "      <td>174</td>\n",
       "      <td>53.228621</td>\n",
       "    </tr>\n",
       "    <tr>\n",
       "      <th>3</th>\n",
       "      <td>강서구</td>\n",
       "      <td>911</td>\n",
       "      <td>388</td>\n",
       "      <td>258</td>\n",
       "      <td>184</td>\n",
       "      <td>81</td>\n",
       "      <td>134.793814</td>\n",
       "    </tr>\n",
       "    <tr>\n",
       "      <th>24</th>\n",
       "      <td>중랑구</td>\n",
       "      <td>916</td>\n",
       "      <td>509</td>\n",
       "      <td>121</td>\n",
       "      <td>177</td>\n",
       "      <td>109</td>\n",
       "      <td>79.960707</td>\n",
       "    </tr>\n",
       "  </tbody>\n",
       "</table>\n",
       "</div>"
      ],
      "text/plain": [
       "     구별   소계  2013년도 이전  2014년  2015년  2016년       최근증가율\n",
       "9   도봉구  825        238    159     42    386  246.638655\n",
       "2   강북구  831        369    120    138    204  125.203252\n",
       "5   광진구  878        573     78     53    174   53.228621\n",
       "3   강서구  911        388    258    184     81  134.793814\n",
       "24  중랑구  916        509    121    177    109   79.960707"
      ]
     },
     "execution_count": 473,
     "metadata": {},
     "output_type": "execute_result"
    }
   ],
   "source": [
    "CCTV_Seoul.sort_values(by=\"소계\", ascending=True).head(5)"
   ]
  },
  {
   "cell_type": "code",
   "execution_count": 474,
   "id": "ded99b2b-4127-43d3-bbe7-3785255453f5",
   "metadata": {},
   "outputs": [
    {
     "data": {
      "text/html": [
       "<div>\n",
       "<style scoped>\n",
       "    .dataframe tbody tr th:only-of-type {\n",
       "        vertical-align: middle;\n",
       "    }\n",
       "\n",
       "    .dataframe tbody tr th {\n",
       "        vertical-align: top;\n",
       "    }\n",
       "\n",
       "    .dataframe thead th {\n",
       "        text-align: right;\n",
       "    }\n",
       "</style>\n",
       "<table border=\"1\" class=\"dataframe\">\n",
       "  <thead>\n",
       "    <tr style=\"text-align: right;\">\n",
       "      <th></th>\n",
       "      <th>구별</th>\n",
       "      <th>소계</th>\n",
       "      <th>2013년도 이전</th>\n",
       "      <th>2014년</th>\n",
       "      <th>2015년</th>\n",
       "      <th>2016년</th>\n",
       "      <th>최근증가율</th>\n",
       "    </tr>\n",
       "  </thead>\n",
       "  <tbody>\n",
       "    <tr>\n",
       "      <th>0</th>\n",
       "      <td>강남구</td>\n",
       "      <td>3238</td>\n",
       "      <td>1292</td>\n",
       "      <td>430</td>\n",
       "      <td>584</td>\n",
       "      <td>932</td>\n",
       "      <td>150.619195</td>\n",
       "    </tr>\n",
       "    <tr>\n",
       "      <th>18</th>\n",
       "      <td>양천구</td>\n",
       "      <td>2482</td>\n",
       "      <td>1843</td>\n",
       "      <td>142</td>\n",
       "      <td>30</td>\n",
       "      <td>467</td>\n",
       "      <td>34.671731</td>\n",
       "    </tr>\n",
       "    <tr>\n",
       "      <th>14</th>\n",
       "      <td>서초구</td>\n",
       "      <td>2297</td>\n",
       "      <td>1406</td>\n",
       "      <td>157</td>\n",
       "      <td>336</td>\n",
       "      <td>398</td>\n",
       "      <td>63.371266</td>\n",
       "    </tr>\n",
       "    <tr>\n",
       "      <th>4</th>\n",
       "      <td>관악구</td>\n",
       "      <td>2109</td>\n",
       "      <td>846</td>\n",
       "      <td>260</td>\n",
       "      <td>390</td>\n",
       "      <td>613</td>\n",
       "      <td>149.290780</td>\n",
       "    </tr>\n",
       "    <tr>\n",
       "      <th>21</th>\n",
       "      <td>은평구</td>\n",
       "      <td>2108</td>\n",
       "      <td>1138</td>\n",
       "      <td>224</td>\n",
       "      <td>278</td>\n",
       "      <td>468</td>\n",
       "      <td>85.237258</td>\n",
       "    </tr>\n",
       "  </tbody>\n",
       "</table>\n",
       "</div>"
      ],
      "text/plain": [
       "     구별    소계  2013년도 이전  2014년  2015년  2016년       최근증가율\n",
       "0   강남구  3238       1292    430    584    932  150.619195\n",
       "18  양천구  2482       1843    142     30    467   34.671731\n",
       "14  서초구  2297       1406    157    336    398   63.371266\n",
       "4   관악구  2109        846    260    390    613  149.290780\n",
       "21  은평구  2108       1138    224    278    468   85.237258"
      ]
     },
     "execution_count": 474,
     "metadata": {},
     "output_type": "execute_result"
    }
   ],
   "source": [
    "CCTV_Seoul.sort_values(by=\"소계\", ascending=False).head(5)"
   ]
  },
  {
   "cell_type": "code",
   "execution_count": 475,
   "id": "aa354dab-050a-4c9d-9d42-a2fe190fe565",
   "metadata": {},
   "outputs": [
    {
     "data": {
      "text/html": [
       "<div>\n",
       "<style scoped>\n",
       "    .dataframe tbody tr th:only-of-type {\n",
       "        vertical-align: middle;\n",
       "    }\n",
       "\n",
       "    .dataframe tbody tr th {\n",
       "        vertical-align: top;\n",
       "    }\n",
       "\n",
       "    .dataframe thead th {\n",
       "        text-align: right;\n",
       "    }\n",
       "</style>\n",
       "<table border=\"1\" class=\"dataframe\">\n",
       "  <thead>\n",
       "    <tr style=\"text-align: right;\">\n",
       "      <th></th>\n",
       "      <th>구별</th>\n",
       "      <th>소계</th>\n",
       "      <th>2013년도 이전</th>\n",
       "      <th>2014년</th>\n",
       "      <th>2015년</th>\n",
       "      <th>2016년</th>\n",
       "      <th>최근증가율</th>\n",
       "    </tr>\n",
       "  </thead>\n",
       "  <tbody>\n",
       "    <tr>\n",
       "      <th>22</th>\n",
       "      <td>종로구</td>\n",
       "      <td>1619</td>\n",
       "      <td>464</td>\n",
       "      <td>314</td>\n",
       "      <td>211</td>\n",
       "      <td>630</td>\n",
       "      <td>248.922414</td>\n",
       "    </tr>\n",
       "    <tr>\n",
       "      <th>9</th>\n",
       "      <td>도봉구</td>\n",
       "      <td>825</td>\n",
       "      <td>238</td>\n",
       "      <td>159</td>\n",
       "      <td>42</td>\n",
       "      <td>386</td>\n",
       "      <td>246.638655</td>\n",
       "    </tr>\n",
       "    <tr>\n",
       "      <th>12</th>\n",
       "      <td>마포구</td>\n",
       "      <td>980</td>\n",
       "      <td>314</td>\n",
       "      <td>118</td>\n",
       "      <td>169</td>\n",
       "      <td>379</td>\n",
       "      <td>212.101911</td>\n",
       "    </tr>\n",
       "    <tr>\n",
       "      <th>8</th>\n",
       "      <td>노원구</td>\n",
       "      <td>1566</td>\n",
       "      <td>542</td>\n",
       "      <td>57</td>\n",
       "      <td>451</td>\n",
       "      <td>516</td>\n",
       "      <td>188.929889</td>\n",
       "    </tr>\n",
       "    <tr>\n",
       "      <th>1</th>\n",
       "      <td>강동구</td>\n",
       "      <td>1010</td>\n",
       "      <td>379</td>\n",
       "      <td>99</td>\n",
       "      <td>155</td>\n",
       "      <td>377</td>\n",
       "      <td>166.490765</td>\n",
       "    </tr>\n",
       "  </tbody>\n",
       "</table>\n",
       "</div>"
      ],
      "text/plain": [
       "     구별    소계  2013년도 이전  2014년  2015년  2016년       최근증가율\n",
       "22  종로구  1619        464    314    211    630  248.922414\n",
       "9   도봉구   825        238    159     42    386  246.638655\n",
       "12  마포구   980        314    118    169    379  212.101911\n",
       "8   노원구  1566        542     57    451    516  188.929889\n",
       "1   강동구  1010        379     99    155    377  166.490765"
      ]
     },
     "execution_count": 475,
     "metadata": {},
     "output_type": "execute_result"
    }
   ],
   "source": [
    "# 기존 컬럼이 없으면 추가, 있으면 수정\n",
    "CCTV_Seoul[\"최근증가율\"] = (\n",
    "    (CCTV_Seoul[\"2016년\"] + CCTV_Seoul[\"2015년\"] + CCTV_Seoul[\"2014년\"]) / CCTV_Seoul[\"2013년도 이전\"] * 100\n",
    ")\n",
    "CCTV_Seoul.sort_values(by=\"최근증가율\", ascending=False).head(5)"
   ]
  },
  {
   "cell_type": "markdown",
   "id": "fd015d6d-d637-427a-ae3d-3c1cf5f450c6",
   "metadata": {},
   "source": [
    "---"
   ]
  },
  {
   "cell_type": "markdown",
   "id": "c7641c0b-94ff-43b4-a9bf-e584794381c4",
   "metadata": {},
   "source": [
    "## 3. 인구현황 데이터 훑어보기"
   ]
  },
  {
   "cell_type": "code",
   "execution_count": 476,
   "id": "35c2aa61-6c8e-4f67-8c22-3f25f6a4a3f8",
   "metadata": {},
   "outputs": [
    {
     "data": {
      "text/html": [
       "<div>\n",
       "<style scoped>\n",
       "    .dataframe tbody tr th:only-of-type {\n",
       "        vertical-align: middle;\n",
       "    }\n",
       "\n",
       "    .dataframe tbody tr th {\n",
       "        vertical-align: top;\n",
       "    }\n",
       "\n",
       "    .dataframe thead th {\n",
       "        text-align: right;\n",
       "    }\n",
       "</style>\n",
       "<table border=\"1\" class=\"dataframe\">\n",
       "  <thead>\n",
       "    <tr style=\"text-align: right;\">\n",
       "      <th></th>\n",
       "      <th>구별</th>\n",
       "      <th>인구수</th>\n",
       "      <th>한국인</th>\n",
       "      <th>외국인</th>\n",
       "      <th>고령자</th>\n",
       "      <th>외국인비율</th>\n",
       "      <th>고령자비율</th>\n",
       "    </tr>\n",
       "  </thead>\n",
       "  <tbody>\n",
       "    <tr>\n",
       "      <th>1</th>\n",
       "      <td>종로구</td>\n",
       "      <td>150204</td>\n",
       "      <td>139189</td>\n",
       "      <td>11015</td>\n",
       "      <td>29338</td>\n",
       "      <td>7.333360</td>\n",
       "      <td>19.532103</td>\n",
       "    </tr>\n",
       "    <tr>\n",
       "      <th>2</th>\n",
       "      <td>중구</td>\n",
       "      <td>131800</td>\n",
       "      <td>121475</td>\n",
       "      <td>10325</td>\n",
       "      <td>26516</td>\n",
       "      <td>7.833839</td>\n",
       "      <td>20.118361</td>\n",
       "    </tr>\n",
       "    <tr>\n",
       "      <th>3</th>\n",
       "      <td>용산구</td>\n",
       "      <td>219451</td>\n",
       "      <td>206061</td>\n",
       "      <td>13390</td>\n",
       "      <td>39021</td>\n",
       "      <td>6.101590</td>\n",
       "      <td>17.781190</td>\n",
       "    </tr>\n",
       "    <tr>\n",
       "      <th>4</th>\n",
       "      <td>성동구</td>\n",
       "      <td>283853</td>\n",
       "      <td>276597</td>\n",
       "      <td>7256</td>\n",
       "      <td>50534</td>\n",
       "      <td>2.556253</td>\n",
       "      <td>17.802877</td>\n",
       "    </tr>\n",
       "    <tr>\n",
       "      <th>5</th>\n",
       "      <td>광진구</td>\n",
       "      <td>350005</td>\n",
       "      <td>334159</td>\n",
       "      <td>15846</td>\n",
       "      <td>58307</td>\n",
       "      <td>4.527364</td>\n",
       "      <td>16.658905</td>\n",
       "    </tr>\n",
       "  </tbody>\n",
       "</table>\n",
       "</div>"
      ],
      "text/plain": [
       "    구별     인구수     한국인    외국인    고령자     외국인비율      고령자비율\n",
       "1  종로구  150204  139189  11015  29338  7.333360  19.532103\n",
       "2   중구  131800  121475  10325  26516  7.833839  20.118361\n",
       "3  용산구  219451  206061  13390  39021  6.101590  17.781190\n",
       "4  성동구  283853  276597   7256  50534  2.556253  17.802877\n",
       "5  광진구  350005  334159  15846  58307  4.527364  16.658905"
      ]
     },
     "execution_count": 476,
     "metadata": {},
     "output_type": "execute_result"
    }
   ],
   "source": [
    "pop_Seoul.head()"
   ]
  },
  {
   "cell_type": "code",
   "execution_count": 477,
   "id": "79c8b33d-e5eb-403f-b0b5-bc29beaeb598",
   "metadata": {},
   "outputs": [
    {
     "data": {
      "text/html": [
       "<div>\n",
       "<style scoped>\n",
       "    .dataframe tbody tr th:only-of-type {\n",
       "        vertical-align: middle;\n",
       "    }\n",
       "\n",
       "    .dataframe tbody tr th {\n",
       "        vertical-align: top;\n",
       "    }\n",
       "\n",
       "    .dataframe thead th {\n",
       "        text-align: right;\n",
       "    }\n",
       "</style>\n",
       "<table border=\"1\" class=\"dataframe\">\n",
       "  <thead>\n",
       "    <tr style=\"text-align: right;\">\n",
       "      <th></th>\n",
       "      <th>구별</th>\n",
       "      <th>인구수</th>\n",
       "      <th>한국인</th>\n",
       "      <th>외국인</th>\n",
       "      <th>고령자</th>\n",
       "      <th>외국인비율</th>\n",
       "      <th>고령자비율</th>\n",
       "    </tr>\n",
       "  </thead>\n",
       "  <tbody>\n",
       "    <tr>\n",
       "      <th>21</th>\n",
       "      <td>관악구</td>\n",
       "      <td>497632</td>\n",
       "      <td>481145</td>\n",
       "      <td>16487</td>\n",
       "      <td>87267</td>\n",
       "      <td>3.313091</td>\n",
       "      <td>17.536453</td>\n",
       "    </tr>\n",
       "    <tr>\n",
       "      <th>22</th>\n",
       "      <td>서초구</td>\n",
       "      <td>411959</td>\n",
       "      <td>407404</td>\n",
       "      <td>4555</td>\n",
       "      <td>67191</td>\n",
       "      <td>1.105693</td>\n",
       "      <td>16.310118</td>\n",
       "    </tr>\n",
       "    <tr>\n",
       "      <th>23</th>\n",
       "      <td>강남구</td>\n",
       "      <td>562136</td>\n",
       "      <td>556570</td>\n",
       "      <td>5566</td>\n",
       "      <td>89719</td>\n",
       "      <td>0.990152</td>\n",
       "      <td>15.960373</td>\n",
       "    </tr>\n",
       "    <tr>\n",
       "      <th>24</th>\n",
       "      <td>송파구</td>\n",
       "      <td>658768</td>\n",
       "      <td>652752</td>\n",
       "      <td>6016</td>\n",
       "      <td>111724</td>\n",
       "      <td>0.913220</td>\n",
       "      <td>16.959537</td>\n",
       "    </tr>\n",
       "    <tr>\n",
       "      <th>25</th>\n",
       "      <td>강동구</td>\n",
       "      <td>466924</td>\n",
       "      <td>462646</td>\n",
       "      <td>4278</td>\n",
       "      <td>85571</td>\n",
       "      <td>0.916209</td>\n",
       "      <td>18.326537</td>\n",
       "    </tr>\n",
       "  </tbody>\n",
       "</table>\n",
       "</div>"
      ],
      "text/plain": [
       "     구별     인구수     한국인    외국인     고령자     외국인비율      고령자비율\n",
       "21  관악구  497632  481145  16487   87267  3.313091  17.536453\n",
       "22  서초구  411959  407404   4555   67191  1.105693  16.310118\n",
       "23  강남구  562136  556570   5566   89719  0.990152  15.960373\n",
       "24  송파구  658768  652752   6016  111724  0.913220  16.959537\n",
       "25  강동구  466924  462646   4278   85571  0.916209  18.326537"
      ]
     },
     "execution_count": 477,
     "metadata": {},
     "output_type": "execute_result"
    }
   ],
   "source": [
    "pop_Seoul.tail()"
   ]
  },
  {
   "cell_type": "code",
   "execution_count": 479,
   "id": "b8ce6b88-d5a5-4491-a461-abfa696561ad",
   "metadata": {},
   "outputs": [
    {
     "ename": "KeyError",
     "evalue": "'[0] not found in axis'",
     "output_type": "error",
     "traceback": [
      "\u001b[1;31m---------------------------------------------------------------------------\u001b[0m",
      "\u001b[1;31mKeyError\u001b[0m                                  Traceback (most recent call last)",
      "Cell \u001b[1;32mIn[479], line 1\u001b[0m\n\u001b[1;32m----> 1\u001b[0m pop_Seoul\u001b[38;5;241m.\u001b[39mdrop([\u001b[38;5;241m0\u001b[39m], axis\u001b[38;5;241m=\u001b[39m\u001b[38;5;241m0\u001b[39m, inplace\u001b[38;5;241m=\u001b[39m\u001b[38;5;28;01mTrue\u001b[39;00m)\n\u001b[0;32m      2\u001b[0m pop_Seoul\u001b[38;5;241m.\u001b[39mhead()\n",
      "File \u001b[1;32m~\\miniconda3\\envs\\ds_study\\Lib\\site-packages\\pandas\\core\\frame.py:5581\u001b[0m, in \u001b[0;36mDataFrame.drop\u001b[1;34m(self, labels, axis, index, columns, level, inplace, errors)\u001b[0m\n\u001b[0;32m   5433\u001b[0m \u001b[38;5;28;01mdef\u001b[39;00m \u001b[38;5;21mdrop\u001b[39m(\n\u001b[0;32m   5434\u001b[0m     \u001b[38;5;28mself\u001b[39m,\n\u001b[0;32m   5435\u001b[0m     labels: IndexLabel \u001b[38;5;241m|\u001b[39m \u001b[38;5;28;01mNone\u001b[39;00m \u001b[38;5;241m=\u001b[39m \u001b[38;5;28;01mNone\u001b[39;00m,\n\u001b[1;32m   (...)\u001b[0m\n\u001b[0;32m   5442\u001b[0m     errors: IgnoreRaise \u001b[38;5;241m=\u001b[39m \u001b[38;5;124m\"\u001b[39m\u001b[38;5;124mraise\u001b[39m\u001b[38;5;124m\"\u001b[39m,\n\u001b[0;32m   5443\u001b[0m ) \u001b[38;5;241m-\u001b[39m\u001b[38;5;241m>\u001b[39m DataFrame \u001b[38;5;241m|\u001b[39m \u001b[38;5;28;01mNone\u001b[39;00m:\n\u001b[0;32m   5444\u001b[0m \u001b[38;5;250m    \u001b[39m\u001b[38;5;124;03m\"\"\"\u001b[39;00m\n\u001b[0;32m   5445\u001b[0m \u001b[38;5;124;03m    Drop specified labels from rows or columns.\u001b[39;00m\n\u001b[0;32m   5446\u001b[0m \n\u001b[1;32m   (...)\u001b[0m\n\u001b[0;32m   5579\u001b[0m \u001b[38;5;124;03m            weight  1.0     0.8\u001b[39;00m\n\u001b[0;32m   5580\u001b[0m \u001b[38;5;124;03m    \"\"\"\u001b[39;00m\n\u001b[1;32m-> 5581\u001b[0m     \u001b[38;5;28;01mreturn\u001b[39;00m \u001b[38;5;28msuper\u001b[39m()\u001b[38;5;241m.\u001b[39mdrop(\n\u001b[0;32m   5582\u001b[0m         labels\u001b[38;5;241m=\u001b[39mlabels,\n\u001b[0;32m   5583\u001b[0m         axis\u001b[38;5;241m=\u001b[39maxis,\n\u001b[0;32m   5584\u001b[0m         index\u001b[38;5;241m=\u001b[39mindex,\n\u001b[0;32m   5585\u001b[0m         columns\u001b[38;5;241m=\u001b[39mcolumns,\n\u001b[0;32m   5586\u001b[0m         level\u001b[38;5;241m=\u001b[39mlevel,\n\u001b[0;32m   5587\u001b[0m         inplace\u001b[38;5;241m=\u001b[39minplace,\n\u001b[0;32m   5588\u001b[0m         errors\u001b[38;5;241m=\u001b[39merrors,\n\u001b[0;32m   5589\u001b[0m     )\n",
      "File \u001b[1;32m~\\miniconda3\\envs\\ds_study\\Lib\\site-packages\\pandas\\core\\generic.py:4788\u001b[0m, in \u001b[0;36mNDFrame.drop\u001b[1;34m(self, labels, axis, index, columns, level, inplace, errors)\u001b[0m\n\u001b[0;32m   4786\u001b[0m \u001b[38;5;28;01mfor\u001b[39;00m axis, labels \u001b[38;5;129;01min\u001b[39;00m axes\u001b[38;5;241m.\u001b[39mitems():\n\u001b[0;32m   4787\u001b[0m     \u001b[38;5;28;01mif\u001b[39;00m labels \u001b[38;5;129;01mis\u001b[39;00m \u001b[38;5;129;01mnot\u001b[39;00m \u001b[38;5;28;01mNone\u001b[39;00m:\n\u001b[1;32m-> 4788\u001b[0m         obj \u001b[38;5;241m=\u001b[39m obj\u001b[38;5;241m.\u001b[39m_drop_axis(labels, axis, level\u001b[38;5;241m=\u001b[39mlevel, errors\u001b[38;5;241m=\u001b[39merrors)\n\u001b[0;32m   4790\u001b[0m \u001b[38;5;28;01mif\u001b[39;00m inplace:\n\u001b[0;32m   4791\u001b[0m     \u001b[38;5;28mself\u001b[39m\u001b[38;5;241m.\u001b[39m_update_inplace(obj)\n",
      "File \u001b[1;32m~\\miniconda3\\envs\\ds_study\\Lib\\site-packages\\pandas\\core\\generic.py:4830\u001b[0m, in \u001b[0;36mNDFrame._drop_axis\u001b[1;34m(self, labels, axis, level, errors, only_slice)\u001b[0m\n\u001b[0;32m   4828\u001b[0m         new_axis \u001b[38;5;241m=\u001b[39m axis\u001b[38;5;241m.\u001b[39mdrop(labels, level\u001b[38;5;241m=\u001b[39mlevel, errors\u001b[38;5;241m=\u001b[39merrors)\n\u001b[0;32m   4829\u001b[0m     \u001b[38;5;28;01melse\u001b[39;00m:\n\u001b[1;32m-> 4830\u001b[0m         new_axis \u001b[38;5;241m=\u001b[39m axis\u001b[38;5;241m.\u001b[39mdrop(labels, errors\u001b[38;5;241m=\u001b[39merrors)\n\u001b[0;32m   4831\u001b[0m     indexer \u001b[38;5;241m=\u001b[39m axis\u001b[38;5;241m.\u001b[39mget_indexer(new_axis)\n\u001b[0;32m   4833\u001b[0m \u001b[38;5;66;03m# Case for non-unique axis\u001b[39;00m\n\u001b[0;32m   4834\u001b[0m \u001b[38;5;28;01melse\u001b[39;00m:\n",
      "File \u001b[1;32m~\\miniconda3\\envs\\ds_study\\Lib\\site-packages\\pandas\\core\\indexes\\base.py:7070\u001b[0m, in \u001b[0;36mIndex.drop\u001b[1;34m(self, labels, errors)\u001b[0m\n\u001b[0;32m   7068\u001b[0m \u001b[38;5;28;01mif\u001b[39;00m mask\u001b[38;5;241m.\u001b[39many():\n\u001b[0;32m   7069\u001b[0m     \u001b[38;5;28;01mif\u001b[39;00m errors \u001b[38;5;241m!=\u001b[39m \u001b[38;5;124m\"\u001b[39m\u001b[38;5;124mignore\u001b[39m\u001b[38;5;124m\"\u001b[39m:\n\u001b[1;32m-> 7070\u001b[0m         \u001b[38;5;28;01mraise\u001b[39;00m \u001b[38;5;167;01mKeyError\u001b[39;00m(\u001b[38;5;124mf\u001b[39m\u001b[38;5;124m\"\u001b[39m\u001b[38;5;132;01m{\u001b[39;00mlabels[mask]\u001b[38;5;241m.\u001b[39mtolist()\u001b[38;5;132;01m}\u001b[39;00m\u001b[38;5;124m not found in axis\u001b[39m\u001b[38;5;124m\"\u001b[39m)\n\u001b[0;32m   7071\u001b[0m     indexer \u001b[38;5;241m=\u001b[39m indexer[\u001b[38;5;241m~\u001b[39mmask]\n\u001b[0;32m   7072\u001b[0m \u001b[38;5;28;01mreturn\u001b[39;00m \u001b[38;5;28mself\u001b[39m\u001b[38;5;241m.\u001b[39mdelete(indexer)\n",
      "\u001b[1;31mKeyError\u001b[0m: '[0] not found in axis'"
     ]
    }
   ],
   "source": [
    "# pop_Seoul.drop([0], axis=0, inplace=True)\n",
    "# pop_Seoul.head()"
   ]
  },
  {
   "cell_type": "code",
   "execution_count": 480,
   "id": "1251fc08-e1f0-4560-adf9-5eaa08efdc5e",
   "metadata": {},
   "outputs": [
    {
     "data": {
      "text/plain": [
       "array(['종로구', '중구', '용산구', '성동구', '광진구', '동대문구', '중랑구', '성북구', '강북구',\n",
       "       '도봉구', '노원구', '은평구', '서대문구', '마포구', '양천구', '강서구', '구로구', '금천구',\n",
       "       '영등포구', '동작구', '관악구', '서초구', '강남구', '송파구', '강동구'], dtype=object)"
      ]
     },
     "execution_count": 480,
     "metadata": {},
     "output_type": "execute_result"
    }
   ],
   "source": [
    "pop_Seoul[\"구별\"].unique()"
   ]
  },
  {
   "cell_type": "code",
   "execution_count": 481,
   "id": "5216d738-f1a6-41ed-848f-2be6f0804de2",
   "metadata": {},
   "outputs": [
    {
     "data": {
      "text/plain": [
       "25"
      ]
     },
     "execution_count": 481,
     "metadata": {},
     "output_type": "execute_result"
    }
   ],
   "source": [
    "len(pop_Seoul[\"구별\"].unique())"
   ]
  },
  {
   "cell_type": "code",
   "execution_count": 482,
   "id": "823ca1a0-b7ac-451a-bfe2-846c8a1455fe",
   "metadata": {},
   "outputs": [
    {
     "data": {
      "text/html": [
       "<div>\n",
       "<style scoped>\n",
       "    .dataframe tbody tr th:only-of-type {\n",
       "        vertical-align: middle;\n",
       "    }\n",
       "\n",
       "    .dataframe tbody tr th {\n",
       "        vertical-align: top;\n",
       "    }\n",
       "\n",
       "    .dataframe thead th {\n",
       "        text-align: right;\n",
       "    }\n",
       "</style>\n",
       "<table border=\"1\" class=\"dataframe\">\n",
       "  <thead>\n",
       "    <tr style=\"text-align: right;\">\n",
       "      <th></th>\n",
       "      <th>구별</th>\n",
       "      <th>인구수</th>\n",
       "      <th>한국인</th>\n",
       "      <th>외국인</th>\n",
       "      <th>고령자</th>\n",
       "      <th>외국인비율</th>\n",
       "      <th>고령자비율</th>\n",
       "    </tr>\n",
       "  </thead>\n",
       "  <tbody>\n",
       "    <tr>\n",
       "      <th>1</th>\n",
       "      <td>종로구</td>\n",
       "      <td>150204</td>\n",
       "      <td>139189</td>\n",
       "      <td>11015</td>\n",
       "      <td>29338</td>\n",
       "      <td>7.333360</td>\n",
       "      <td>19.532103</td>\n",
       "    </tr>\n",
       "    <tr>\n",
       "      <th>2</th>\n",
       "      <td>중구</td>\n",
       "      <td>131800</td>\n",
       "      <td>121475</td>\n",
       "      <td>10325</td>\n",
       "      <td>26516</td>\n",
       "      <td>7.833839</td>\n",
       "      <td>20.118361</td>\n",
       "    </tr>\n",
       "    <tr>\n",
       "      <th>3</th>\n",
       "      <td>용산구</td>\n",
       "      <td>219451</td>\n",
       "      <td>206061</td>\n",
       "      <td>13390</td>\n",
       "      <td>39021</td>\n",
       "      <td>6.101590</td>\n",
       "      <td>17.781190</td>\n",
       "    </tr>\n",
       "    <tr>\n",
       "      <th>4</th>\n",
       "      <td>성동구</td>\n",
       "      <td>283853</td>\n",
       "      <td>276597</td>\n",
       "      <td>7256</td>\n",
       "      <td>50534</td>\n",
       "      <td>2.556253</td>\n",
       "      <td>17.802877</td>\n",
       "    </tr>\n",
       "    <tr>\n",
       "      <th>5</th>\n",
       "      <td>광진구</td>\n",
       "      <td>350005</td>\n",
       "      <td>334159</td>\n",
       "      <td>15846</td>\n",
       "      <td>58307</td>\n",
       "      <td>4.527364</td>\n",
       "      <td>16.658905</td>\n",
       "    </tr>\n",
       "  </tbody>\n",
       "</table>\n",
       "</div>"
      ],
      "text/plain": [
       "    구별     인구수     한국인    외국인    고령자     외국인비율      고령자비율\n",
       "1  종로구  150204  139189  11015  29338  7.333360  19.532103\n",
       "2   중구  131800  121475  10325  26516  7.833839  20.118361\n",
       "3  용산구  219451  206061  13390  39021  6.101590  17.781190\n",
       "4  성동구  283853  276597   7256  50534  2.556253  17.802877\n",
       "5  광진구  350005  334159  15846  58307  4.527364  16.658905"
      ]
     },
     "execution_count": 482,
     "metadata": {},
     "output_type": "execute_result"
    }
   ],
   "source": [
    "# 외국인비율, 고령자 비율\n",
    "\n",
    "pop_Seoul[\"외국인비율\"] = pop_Seoul[\"외국인\"]/pop_Seoul[\"인구수\"] * 100\n",
    "pop_Seoul[\"고령자비율\"] = pop_Seoul[\"고령자\"]/pop_Seoul[\"인구수\"] * 100\n",
    "pop_Seoul.head()"
   ]
  },
  {
   "cell_type": "code",
   "execution_count": 483,
   "id": "f954b88e-9f9a-4100-92b5-a9d8b02e72b5",
   "metadata": {},
   "outputs": [
    {
     "data": {
      "text/html": [
       "<div>\n",
       "<style scoped>\n",
       "    .dataframe tbody tr th:only-of-type {\n",
       "        vertical-align: middle;\n",
       "    }\n",
       "\n",
       "    .dataframe tbody tr th {\n",
       "        vertical-align: top;\n",
       "    }\n",
       "\n",
       "    .dataframe thead th {\n",
       "        text-align: right;\n",
       "    }\n",
       "</style>\n",
       "<table border=\"1\" class=\"dataframe\">\n",
       "  <thead>\n",
       "    <tr style=\"text-align: right;\">\n",
       "      <th></th>\n",
       "      <th>구별</th>\n",
       "      <th>인구수</th>\n",
       "      <th>한국인</th>\n",
       "      <th>외국인</th>\n",
       "      <th>고령자</th>\n",
       "      <th>외국인비율</th>\n",
       "      <th>고령자비율</th>\n",
       "    </tr>\n",
       "  </thead>\n",
       "  <tbody>\n",
       "    <tr>\n",
       "      <th>24</th>\n",
       "      <td>송파구</td>\n",
       "      <td>658768</td>\n",
       "      <td>652752</td>\n",
       "      <td>6016</td>\n",
       "      <td>111724</td>\n",
       "      <td>0.913220</td>\n",
       "      <td>16.959537</td>\n",
       "    </tr>\n",
       "    <tr>\n",
       "      <th>16</th>\n",
       "      <td>강서구</td>\n",
       "      <td>565133</td>\n",
       "      <td>559335</td>\n",
       "      <td>5798</td>\n",
       "      <td>105023</td>\n",
       "      <td>1.025953</td>\n",
       "      <td>18.583767</td>\n",
       "    </tr>\n",
       "    <tr>\n",
       "      <th>23</th>\n",
       "      <td>강남구</td>\n",
       "      <td>562136</td>\n",
       "      <td>556570</td>\n",
       "      <td>5566</td>\n",
       "      <td>89719</td>\n",
       "      <td>0.990152</td>\n",
       "      <td>15.960373</td>\n",
       "    </tr>\n",
       "    <tr>\n",
       "      <th>11</th>\n",
       "      <td>노원구</td>\n",
       "      <td>500045</td>\n",
       "      <td>495183</td>\n",
       "      <td>4862</td>\n",
       "      <td>98515</td>\n",
       "      <td>0.972312</td>\n",
       "      <td>19.701227</td>\n",
       "    </tr>\n",
       "    <tr>\n",
       "      <th>21</th>\n",
       "      <td>관악구</td>\n",
       "      <td>497632</td>\n",
       "      <td>481145</td>\n",
       "      <td>16487</td>\n",
       "      <td>87267</td>\n",
       "      <td>3.313091</td>\n",
       "      <td>17.536453</td>\n",
       "    </tr>\n",
       "  </tbody>\n",
       "</table>\n",
       "</div>"
      ],
      "text/plain": [
       "     구별     인구수     한국인    외국인     고령자     외국인비율      고령자비율\n",
       "24  송파구  658768  652752   6016  111724  0.913220  16.959537\n",
       "16  강서구  565133  559335   5798  105023  1.025953  18.583767\n",
       "23  강남구  562136  556570   5566   89719  0.990152  15.960373\n",
       "11  노원구  500045  495183   4862   98515  0.972312  19.701227\n",
       "21  관악구  497632  481145  16487   87267  3.313091  17.536453"
      ]
     },
     "execution_count": 483,
     "metadata": {},
     "output_type": "execute_result"
    }
   ],
   "source": [
    "pop_Seoul.sort_values([\"인구수\"], ascending=False).head(5)"
   ]
  },
  {
   "cell_type": "code",
   "execution_count": 484,
   "id": "b516f11c-4ae3-4b59-a86f-b500e099fc3e",
   "metadata": {},
   "outputs": [
    {
     "data": {
      "text/html": [
       "<div>\n",
       "<style scoped>\n",
       "    .dataframe tbody tr th:only-of-type {\n",
       "        vertical-align: middle;\n",
       "    }\n",
       "\n",
       "    .dataframe tbody tr th {\n",
       "        vertical-align: top;\n",
       "    }\n",
       "\n",
       "    .dataframe thead th {\n",
       "        text-align: right;\n",
       "    }\n",
       "</style>\n",
       "<table border=\"1\" class=\"dataframe\">\n",
       "  <thead>\n",
       "    <tr style=\"text-align: right;\">\n",
       "      <th></th>\n",
       "      <th>구별</th>\n",
       "      <th>인구수</th>\n",
       "      <th>한국인</th>\n",
       "      <th>외국인</th>\n",
       "      <th>고령자</th>\n",
       "      <th>외국인비율</th>\n",
       "      <th>고령자비율</th>\n",
       "    </tr>\n",
       "  </thead>\n",
       "  <tbody>\n",
       "    <tr>\n",
       "      <th>17</th>\n",
       "      <td>구로구</td>\n",
       "      <td>413099</td>\n",
       "      <td>390169</td>\n",
       "      <td>22930</td>\n",
       "      <td>81973</td>\n",
       "      <td>5.550728</td>\n",
       "      <td>19.843427</td>\n",
       "    </tr>\n",
       "    <tr>\n",
       "      <th>19</th>\n",
       "      <td>영등포구</td>\n",
       "      <td>397771</td>\n",
       "      <td>375040</td>\n",
       "      <td>22731</td>\n",
       "      <td>69230</td>\n",
       "      <td>5.714595</td>\n",
       "      <td>17.404487</td>\n",
       "    </tr>\n",
       "    <tr>\n",
       "      <th>6</th>\n",
       "      <td>동대문구</td>\n",
       "      <td>360066</td>\n",
       "      <td>341345</td>\n",
       "      <td>18721</td>\n",
       "      <td>68503</td>\n",
       "      <td>5.199325</td>\n",
       "      <td>19.025123</td>\n",
       "    </tr>\n",
       "    <tr>\n",
       "      <th>21</th>\n",
       "      <td>관악구</td>\n",
       "      <td>497632</td>\n",
       "      <td>481145</td>\n",
       "      <td>16487</td>\n",
       "      <td>87267</td>\n",
       "      <td>3.313091</td>\n",
       "      <td>17.536453</td>\n",
       "    </tr>\n",
       "    <tr>\n",
       "      <th>5</th>\n",
       "      <td>광진구</td>\n",
       "      <td>350005</td>\n",
       "      <td>334159</td>\n",
       "      <td>15846</td>\n",
       "      <td>58307</td>\n",
       "      <td>4.527364</td>\n",
       "      <td>16.658905</td>\n",
       "    </tr>\n",
       "  </tbody>\n",
       "</table>\n",
       "</div>"
      ],
      "text/plain": [
       "      구별     인구수     한국인    외국인    고령자     외국인비율      고령자비율\n",
       "17   구로구  413099  390169  22930  81973  5.550728  19.843427\n",
       "19  영등포구  397771  375040  22731  69230  5.714595  17.404487\n",
       "6   동대문구  360066  341345  18721  68503  5.199325  19.025123\n",
       "21   관악구  497632  481145  16487  87267  3.313091  17.536453\n",
       "5    광진구  350005  334159  15846  58307  4.527364  16.658905"
      ]
     },
     "execution_count": 484,
     "metadata": {},
     "output_type": "execute_result"
    }
   ],
   "source": [
    "pop_Seoul.sort_values([\"외국인\"], ascending=False).head(5)"
   ]
  },
  {
   "cell_type": "code",
   "execution_count": 485,
   "id": "e73bb4f2-0987-4356-8ae5-ca7d07b5c3b9",
   "metadata": {},
   "outputs": [
    {
     "data": {
      "text/html": [
       "<div>\n",
       "<style scoped>\n",
       "    .dataframe tbody tr th:only-of-type {\n",
       "        vertical-align: middle;\n",
       "    }\n",
       "\n",
       "    .dataframe tbody tr th {\n",
       "        vertical-align: top;\n",
       "    }\n",
       "\n",
       "    .dataframe thead th {\n",
       "        text-align: right;\n",
       "    }\n",
       "</style>\n",
       "<table border=\"1\" class=\"dataframe\">\n",
       "  <thead>\n",
       "    <tr style=\"text-align: right;\">\n",
       "      <th></th>\n",
       "      <th>구별</th>\n",
       "      <th>인구수</th>\n",
       "      <th>한국인</th>\n",
       "      <th>외국인</th>\n",
       "      <th>고령자</th>\n",
       "      <th>외국인비율</th>\n",
       "      <th>고령자비율</th>\n",
       "    </tr>\n",
       "  </thead>\n",
       "  <tbody>\n",
       "    <tr>\n",
       "      <th>2</th>\n",
       "      <td>중구</td>\n",
       "      <td>131800</td>\n",
       "      <td>121475</td>\n",
       "      <td>10325</td>\n",
       "      <td>26516</td>\n",
       "      <td>7.833839</td>\n",
       "      <td>20.118361</td>\n",
       "    </tr>\n",
       "    <tr>\n",
       "      <th>1</th>\n",
       "      <td>종로구</td>\n",
       "      <td>150204</td>\n",
       "      <td>139189</td>\n",
       "      <td>11015</td>\n",
       "      <td>29338</td>\n",
       "      <td>7.333360</td>\n",
       "      <td>19.532103</td>\n",
       "    </tr>\n",
       "    <tr>\n",
       "      <th>3</th>\n",
       "      <td>용산구</td>\n",
       "      <td>219451</td>\n",
       "      <td>206061</td>\n",
       "      <td>13390</td>\n",
       "      <td>39021</td>\n",
       "      <td>6.101590</td>\n",
       "      <td>17.781190</td>\n",
       "    </tr>\n",
       "    <tr>\n",
       "      <th>19</th>\n",
       "      <td>영등포구</td>\n",
       "      <td>397771</td>\n",
       "      <td>375040</td>\n",
       "      <td>22731</td>\n",
       "      <td>69230</td>\n",
       "      <td>5.714595</td>\n",
       "      <td>17.404487</td>\n",
       "    </tr>\n",
       "    <tr>\n",
       "      <th>18</th>\n",
       "      <td>금천구</td>\n",
       "      <td>240153</td>\n",
       "      <td>226672</td>\n",
       "      <td>13481</td>\n",
       "      <td>46764</td>\n",
       "      <td>5.613505</td>\n",
       "      <td>19.472586</td>\n",
       "    </tr>\n",
       "  </tbody>\n",
       "</table>\n",
       "</div>"
      ],
      "text/plain": [
       "      구별     인구수     한국인    외국인    고령자     외국인비율      고령자비율\n",
       "2     중구  131800  121475  10325  26516  7.833839  20.118361\n",
       "1    종로구  150204  139189  11015  29338  7.333360  19.532103\n",
       "3    용산구  219451  206061  13390  39021  6.101590  17.781190\n",
       "19  영등포구  397771  375040  22731  69230  5.714595  17.404487\n",
       "18   금천구  240153  226672  13481  46764  5.613505  19.472586"
      ]
     },
     "execution_count": 485,
     "metadata": {},
     "output_type": "execute_result"
    }
   ],
   "source": [
    "pop_Seoul.sort_values([\"외국인비율\"], ascending=False).head(5)"
   ]
  },
  {
   "cell_type": "code",
   "execution_count": 486,
   "id": "2153c73e-af25-4b48-8273-5b10642b2394",
   "metadata": {},
   "outputs": [
    {
     "data": {
      "text/html": [
       "<div>\n",
       "<style scoped>\n",
       "    .dataframe tbody tr th:only-of-type {\n",
       "        vertical-align: middle;\n",
       "    }\n",
       "\n",
       "    .dataframe tbody tr th {\n",
       "        vertical-align: top;\n",
       "    }\n",
       "\n",
       "    .dataframe thead th {\n",
       "        text-align: right;\n",
       "    }\n",
       "</style>\n",
       "<table border=\"1\" class=\"dataframe\">\n",
       "  <thead>\n",
       "    <tr style=\"text-align: right;\">\n",
       "      <th></th>\n",
       "      <th>구별</th>\n",
       "      <th>인구수</th>\n",
       "      <th>한국인</th>\n",
       "      <th>외국인</th>\n",
       "      <th>고령자</th>\n",
       "      <th>외국인비율</th>\n",
       "      <th>고령자비율</th>\n",
       "    </tr>\n",
       "  </thead>\n",
       "  <tbody>\n",
       "    <tr>\n",
       "      <th>24</th>\n",
       "      <td>송파구</td>\n",
       "      <td>658768</td>\n",
       "      <td>652752</td>\n",
       "      <td>6016</td>\n",
       "      <td>111724</td>\n",
       "      <td>0.913220</td>\n",
       "      <td>16.959537</td>\n",
       "    </tr>\n",
       "    <tr>\n",
       "      <th>16</th>\n",
       "      <td>강서구</td>\n",
       "      <td>565133</td>\n",
       "      <td>559335</td>\n",
       "      <td>5798</td>\n",
       "      <td>105023</td>\n",
       "      <td>1.025953</td>\n",
       "      <td>18.583767</td>\n",
       "    </tr>\n",
       "    <tr>\n",
       "      <th>11</th>\n",
       "      <td>노원구</td>\n",
       "      <td>500045</td>\n",
       "      <td>495183</td>\n",
       "      <td>4862</td>\n",
       "      <td>98515</td>\n",
       "      <td>0.972312</td>\n",
       "      <td>19.701227</td>\n",
       "    </tr>\n",
       "    <tr>\n",
       "      <th>12</th>\n",
       "      <td>은평구</td>\n",
       "      <td>468976</td>\n",
       "      <td>464738</td>\n",
       "      <td>4238</td>\n",
       "      <td>96177</td>\n",
       "      <td>0.903671</td>\n",
       "      <td>20.507872</td>\n",
       "    </tr>\n",
       "    <tr>\n",
       "      <th>23</th>\n",
       "      <td>강남구</td>\n",
       "      <td>562136</td>\n",
       "      <td>556570</td>\n",
       "      <td>5566</td>\n",
       "      <td>89719</td>\n",
       "      <td>0.990152</td>\n",
       "      <td>15.960373</td>\n",
       "    </tr>\n",
       "  </tbody>\n",
       "</table>\n",
       "</div>"
      ],
      "text/plain": [
       "     구별     인구수     한국인   외국인     고령자     외국인비율      고령자비율\n",
       "24  송파구  658768  652752  6016  111724  0.913220  16.959537\n",
       "16  강서구  565133  559335  5798  105023  1.025953  18.583767\n",
       "11  노원구  500045  495183  4862   98515  0.972312  19.701227\n",
       "12  은평구  468976  464738  4238   96177  0.903671  20.507872\n",
       "23  강남구  562136  556570  5566   89719  0.990152  15.960373"
      ]
     },
     "execution_count": 486,
     "metadata": {},
     "output_type": "execute_result"
    }
   ],
   "source": [
    "pop_Seoul.sort_values([\"고령자\"], ascending=False).head(5)"
   ]
  },
  {
   "cell_type": "code",
   "execution_count": 487,
   "id": "90ae0de9-71c5-4c7c-9142-565dfa599a85",
   "metadata": {},
   "outputs": [
    {
     "data": {
      "text/html": [
       "<div>\n",
       "<style scoped>\n",
       "    .dataframe tbody tr th:only-of-type {\n",
       "        vertical-align: middle;\n",
       "    }\n",
       "\n",
       "    .dataframe tbody tr th {\n",
       "        vertical-align: top;\n",
       "    }\n",
       "\n",
       "    .dataframe thead th {\n",
       "        text-align: right;\n",
       "    }\n",
       "</style>\n",
       "<table border=\"1\" class=\"dataframe\">\n",
       "  <thead>\n",
       "    <tr style=\"text-align: right;\">\n",
       "      <th></th>\n",
       "      <th>구별</th>\n",
       "      <th>인구수</th>\n",
       "      <th>한국인</th>\n",
       "      <th>외국인</th>\n",
       "      <th>고령자</th>\n",
       "      <th>외국인비율</th>\n",
       "      <th>고령자비율</th>\n",
       "    </tr>\n",
       "  </thead>\n",
       "  <tbody>\n",
       "    <tr>\n",
       "      <th>9</th>\n",
       "      <td>강북구</td>\n",
       "      <td>290252</td>\n",
       "      <td>285054</td>\n",
       "      <td>5198</td>\n",
       "      <td>69922</td>\n",
       "      <td>1.790858</td>\n",
       "      <td>24.090101</td>\n",
       "    </tr>\n",
       "    <tr>\n",
       "      <th>10</th>\n",
       "      <td>도봉구</td>\n",
       "      <td>308060</td>\n",
       "      <td>305400</td>\n",
       "      <td>2660</td>\n",
       "      <td>72365</td>\n",
       "      <td>0.863468</td>\n",
       "      <td>23.490554</td>\n",
       "    </tr>\n",
       "    <tr>\n",
       "      <th>7</th>\n",
       "      <td>중랑구</td>\n",
       "      <td>386782</td>\n",
       "      <td>381126</td>\n",
       "      <td>5656</td>\n",
       "      <td>81160</td>\n",
       "      <td>1.462322</td>\n",
       "      <td>20.983396</td>\n",
       "    </tr>\n",
       "    <tr>\n",
       "      <th>12</th>\n",
       "      <td>은평구</td>\n",
       "      <td>468976</td>\n",
       "      <td>464738</td>\n",
       "      <td>4238</td>\n",
       "      <td>96177</td>\n",
       "      <td>0.903671</td>\n",
       "      <td>20.507872</td>\n",
       "    </tr>\n",
       "    <tr>\n",
       "      <th>2</th>\n",
       "      <td>중구</td>\n",
       "      <td>131800</td>\n",
       "      <td>121475</td>\n",
       "      <td>10325</td>\n",
       "      <td>26516</td>\n",
       "      <td>7.833839</td>\n",
       "      <td>20.118361</td>\n",
       "    </tr>\n",
       "  </tbody>\n",
       "</table>\n",
       "</div>"
      ],
      "text/plain": [
       "     구별     인구수     한국인    외국인    고령자     외국인비율      고령자비율\n",
       "9   강북구  290252  285054   5198  69922  1.790858  24.090101\n",
       "10  도봉구  308060  305400   2660  72365  0.863468  23.490554\n",
       "7   중랑구  386782  381126   5656  81160  1.462322  20.983396\n",
       "12  은평구  468976  464738   4238  96177  0.903671  20.507872\n",
       "2    중구  131800  121475  10325  26516  7.833839  20.118361"
      ]
     },
     "execution_count": 487,
     "metadata": {},
     "output_type": "execute_result"
    }
   ],
   "source": [
    "pop_Seoul.sort_values([\"고령자비율\"], ascending=False).head(5)"
   ]
  },
  {
   "cell_type": "markdown",
   "id": "7e0500dc-37fd-44b4-a166-92fc60a93bc9",
   "metadata": {},
   "source": [
    "---\n",
    "## 4. 두 데이터 합치기"
   ]
  },
  {
   "cell_type": "markdown",
   "id": "e7e83777-d4d9-443a-beba-7e489640b014",
   "metadata": {},
   "source": [
    "### Pandas에서 데이터 프레임을 병합하는 방법\n",
    "- pd.concat()\n",
    "- pd.merge()\n",
    "- pd.join()"
   ]
  },
  {
   "cell_type": "code",
   "execution_count": 488,
   "id": "f8e2d7b1-9f23-45ec-9d51-71650b87c2f1",
   "metadata": {},
   "outputs": [
    {
     "data": {
      "text/html": [
       "<div>\n",
       "<style scoped>\n",
       "    .dataframe tbody tr th:only-of-type {\n",
       "        vertical-align: middle;\n",
       "    }\n",
       "\n",
       "    .dataframe tbody tr th {\n",
       "        vertical-align: top;\n",
       "    }\n",
       "\n",
       "    .dataframe thead th {\n",
       "        text-align: right;\n",
       "    }\n",
       "</style>\n",
       "<table border=\"1\" class=\"dataframe\">\n",
       "  <thead>\n",
       "    <tr style=\"text-align: right;\">\n",
       "      <th></th>\n",
       "      <th>Key</th>\n",
       "      <th>A</th>\n",
       "      <th>B</th>\n",
       "      <th>C</th>\n",
       "      <th>D</th>\n",
       "    </tr>\n",
       "  </thead>\n",
       "  <tbody>\n",
       "    <tr>\n",
       "      <th>0</th>\n",
       "      <td>K0</td>\n",
       "      <td>A0</td>\n",
       "      <td>B0</td>\n",
       "      <td>C0</td>\n",
       "      <td>D0</td>\n",
       "    </tr>\n",
       "    <tr>\n",
       "      <th>1</th>\n",
       "      <td>K2</td>\n",
       "      <td>A2</td>\n",
       "      <td>B2</td>\n",
       "      <td>C2</td>\n",
       "      <td>D2</td>\n",
       "    </tr>\n",
       "    <tr>\n",
       "      <th>2</th>\n",
       "      <td>K3</td>\n",
       "      <td>A3</td>\n",
       "      <td>B3</td>\n",
       "      <td>C3</td>\n",
       "      <td>D3</td>\n",
       "    </tr>\n",
       "  </tbody>\n",
       "</table>\n",
       "</div>"
      ],
      "text/plain": [
       "  Key   A   B   C   D\n",
       "0  K0  A0  B0  C0  D0\n",
       "1  K2  A2  B2  C2  D2\n",
       "2  K3  A3  B3  C3  D3"
      ]
     },
     "execution_count": 488,
     "metadata": {},
     "output_type": "execute_result"
    }
   ],
   "source": [
    "pd.merge(left, right)"
   ]
  },
  {
   "cell_type": "code",
   "execution_count": 489,
   "id": "67562f42-da6f-4060-b91e-063b23d9e872",
   "metadata": {},
   "outputs": [
    {
     "data": {
      "text/html": [
       "<div>\n",
       "<style scoped>\n",
       "    .dataframe tbody tr th:only-of-type {\n",
       "        vertical-align: middle;\n",
       "    }\n",
       "\n",
       "    .dataframe tbody tr th {\n",
       "        vertical-align: top;\n",
       "    }\n",
       "\n",
       "    .dataframe thead th {\n",
       "        text-align: right;\n",
       "    }\n",
       "</style>\n",
       "<table border=\"1\" class=\"dataframe\">\n",
       "  <thead>\n",
       "    <tr style=\"text-align: right;\">\n",
       "      <th></th>\n",
       "      <th>Key</th>\n",
       "      <th>A</th>\n",
       "      <th>B</th>\n",
       "    </tr>\n",
       "  </thead>\n",
       "  <tbody>\n",
       "    <tr>\n",
       "      <th>0</th>\n",
       "      <td>K0</td>\n",
       "      <td>A0</td>\n",
       "      <td>B0</td>\n",
       "    </tr>\n",
       "    <tr>\n",
       "      <th>1</th>\n",
       "      <td>K4</td>\n",
       "      <td>A1</td>\n",
       "      <td>B1</td>\n",
       "    </tr>\n",
       "    <tr>\n",
       "      <th>2</th>\n",
       "      <td>K2</td>\n",
       "      <td>A2</td>\n",
       "      <td>B2</td>\n",
       "    </tr>\n",
       "    <tr>\n",
       "      <th>3</th>\n",
       "      <td>K3</td>\n",
       "      <td>A3</td>\n",
       "      <td>B3</td>\n",
       "    </tr>\n",
       "  </tbody>\n",
       "</table>\n",
       "</div>"
      ],
      "text/plain": [
       "  Key   A   B\n",
       "0  K0  A0  B0\n",
       "1  K4  A1  B1\n",
       "2  K2  A2  B2\n",
       "3  K3  A3  B3"
      ]
     },
     "execution_count": 489,
     "metadata": {},
     "output_type": "execute_result"
    }
   ],
   "source": [
    "# 딕셔너리 안의 리스트 형태\n",
    "\n",
    "left = pd.DataFrame({\n",
    "    \"Key\":[\"K0\", \"K4\", \"K2\", \"K3\"],\n",
    "    \"A\" : [\"A0\", \"A1\", \"A2\", \"A3\"],\n",
    "    \"B\" : [\"B0\", \"B1\", \"B2\", \"B3\"]\n",
    "})\n",
    "left"
   ]
  },
  {
   "cell_type": "code",
   "execution_count": 490,
   "id": "bc463163-1a2b-4041-b031-1b754167ecf5",
   "metadata": {},
   "outputs": [
    {
     "data": {
      "text/html": [
       "<div>\n",
       "<style scoped>\n",
       "    .dataframe tbody tr th:only-of-type {\n",
       "        vertical-align: middle;\n",
       "    }\n",
       "\n",
       "    .dataframe tbody tr th {\n",
       "        vertical-align: top;\n",
       "    }\n",
       "\n",
       "    .dataframe thead th {\n",
       "        text-align: right;\n",
       "    }\n",
       "</style>\n",
       "<table border=\"1\" class=\"dataframe\">\n",
       "  <thead>\n",
       "    <tr style=\"text-align: right;\">\n",
       "      <th></th>\n",
       "      <th>Key</th>\n",
       "      <th>C</th>\n",
       "      <th>D</th>\n",
       "    </tr>\n",
       "  </thead>\n",
       "  <tbody>\n",
       "    <tr>\n",
       "      <th>0</th>\n",
       "      <td>K0</td>\n",
       "      <td>C0</td>\n",
       "      <td>D0</td>\n",
       "    </tr>\n",
       "    <tr>\n",
       "      <th>1</th>\n",
       "      <td>K1</td>\n",
       "      <td>C1</td>\n",
       "      <td>D1</td>\n",
       "    </tr>\n",
       "    <tr>\n",
       "      <th>2</th>\n",
       "      <td>K2</td>\n",
       "      <td>C2</td>\n",
       "      <td>D2</td>\n",
       "    </tr>\n",
       "    <tr>\n",
       "      <th>3</th>\n",
       "      <td>K3</td>\n",
       "      <td>C3</td>\n",
       "      <td>D3</td>\n",
       "    </tr>\n",
       "  </tbody>\n",
       "</table>\n",
       "</div>"
      ],
      "text/plain": [
       "  Key   C   D\n",
       "0  K0  C0  D0\n",
       "1  K1  C1  D1\n",
       "2  K2  C2  D2\n",
       "3  K3  C3  D3"
      ]
     },
     "execution_count": 490,
     "metadata": {},
     "output_type": "execute_result"
    }
   ],
   "source": [
    "# 딕셔너리 안의 리스트 형태\n",
    "\n",
    "right = pd.DataFrame([\n",
    "    {\"Key\":\"K0\", \"C\":\"C0\", \"D\":\"D0\"},\n",
    "    {\"Key\":\"K1\", \"C\":\"C1\", \"D\":\"D1\"},\n",
    "    {\"Key\":\"K2\", \"C\":\"C2\", \"D\":\"D2\"},\n",
    "    {\"Key\":\"K3\", \"C\":\"C3\", \"D\":\"D3\"},\n",
    "])\n",
    "right"
   ]
  },
  {
   "cell_type": "markdown",
   "id": "0cf45424-1b51-4777-b123-3fd4b70025f6",
   "metadata": {},
   "source": [
    "#### pd.merge()\n",
    "- 두 데이터 프레임에서 컬럼이나 인덱스를 기준으로 잡고 병합하는 방법\n",
    "- 기준이 되는 컬럼이나 인덱스를 키 값이라고 함.\n",
    "- 기준이 되는 키 값은 두 데이터 프레임에 모두 포함되어 있어야 함."
   ]
  },
  {
   "cell_type": "code",
   "execution_count": 491,
   "id": "2f70d460-9c38-45bf-8ff2-b9e2bc497270",
   "metadata": {},
   "outputs": [
    {
     "data": {
      "text/html": [
       "<div>\n",
       "<style scoped>\n",
       "    .dataframe tbody tr th:only-of-type {\n",
       "        vertical-align: middle;\n",
       "    }\n",
       "\n",
       "    .dataframe tbody tr th {\n",
       "        vertical-align: top;\n",
       "    }\n",
       "\n",
       "    .dataframe thead th {\n",
       "        text-align: right;\n",
       "    }\n",
       "</style>\n",
       "<table border=\"1\" class=\"dataframe\">\n",
       "  <thead>\n",
       "    <tr style=\"text-align: right;\">\n",
       "      <th></th>\n",
       "      <th>Key</th>\n",
       "      <th>A</th>\n",
       "      <th>B</th>\n",
       "      <th>C</th>\n",
       "      <th>D</th>\n",
       "    </tr>\n",
       "  </thead>\n",
       "  <tbody>\n",
       "    <tr>\n",
       "      <th>0</th>\n",
       "      <td>K0</td>\n",
       "      <td>A0</td>\n",
       "      <td>B0</td>\n",
       "      <td>C0</td>\n",
       "      <td>D0</td>\n",
       "    </tr>\n",
       "    <tr>\n",
       "      <th>1</th>\n",
       "      <td>K2</td>\n",
       "      <td>A2</td>\n",
       "      <td>B2</td>\n",
       "      <td>C2</td>\n",
       "      <td>D2</td>\n",
       "    </tr>\n",
       "    <tr>\n",
       "      <th>2</th>\n",
       "      <td>K3</td>\n",
       "      <td>A3</td>\n",
       "      <td>B3</td>\n",
       "      <td>C3</td>\n",
       "      <td>D3</td>\n",
       "    </tr>\n",
       "  </tbody>\n",
       "</table>\n",
       "</div>"
      ],
      "text/plain": [
       "  Key   A   B   C   D\n",
       "0  K0  A0  B0  C0  D0\n",
       "1  K2  A2  B2  C2  D2\n",
       "2  K3  A3  B3  C3  D3"
      ]
     },
     "execution_count": 491,
     "metadata": {},
     "output_type": "execute_result"
    }
   ],
   "source": [
    "pd.merge(left, right, on=\"Key\")"
   ]
  },
  {
   "cell_type": "code",
   "execution_count": 492,
   "id": "c39c1490-8374-4084-bf4c-caca085a55fb",
   "metadata": {},
   "outputs": [
    {
     "data": {
      "text/html": [
       "<div>\n",
       "<style scoped>\n",
       "    .dataframe tbody tr th:only-of-type {\n",
       "        vertical-align: middle;\n",
       "    }\n",
       "\n",
       "    .dataframe tbody tr th {\n",
       "        vertical-align: top;\n",
       "    }\n",
       "\n",
       "    .dataframe thead th {\n",
       "        text-align: right;\n",
       "    }\n",
       "</style>\n",
       "<table border=\"1\" class=\"dataframe\">\n",
       "  <thead>\n",
       "    <tr style=\"text-align: right;\">\n",
       "      <th></th>\n",
       "      <th>Key</th>\n",
       "      <th>A</th>\n",
       "      <th>B</th>\n",
       "      <th>C</th>\n",
       "      <th>D</th>\n",
       "    </tr>\n",
       "  </thead>\n",
       "  <tbody>\n",
       "    <tr>\n",
       "      <th>0</th>\n",
       "      <td>K0</td>\n",
       "      <td>A0</td>\n",
       "      <td>B0</td>\n",
       "      <td>C0</td>\n",
       "      <td>D0</td>\n",
       "    </tr>\n",
       "    <tr>\n",
       "      <th>1</th>\n",
       "      <td>K2</td>\n",
       "      <td>A2</td>\n",
       "      <td>B2</td>\n",
       "      <td>C2</td>\n",
       "      <td>D2</td>\n",
       "    </tr>\n",
       "    <tr>\n",
       "      <th>2</th>\n",
       "      <td>K3</td>\n",
       "      <td>A3</td>\n",
       "      <td>B3</td>\n",
       "      <td>C3</td>\n",
       "      <td>D3</td>\n",
       "    </tr>\n",
       "  </tbody>\n",
       "</table>\n",
       "</div>"
      ],
      "text/plain": [
       "  Key   A   B   C   D\n",
       "0  K0  A0  B0  C0  D0\n",
       "1  K2  A2  B2  C2  D2\n",
       "2  K3  A3  B3  C3  D3"
      ]
     },
     "execution_count": 492,
     "metadata": {},
     "output_type": "execute_result"
    }
   ],
   "source": [
    "pd.merge(left, right, how=\"inner\", on=\"Key\")"
   ]
  },
  {
   "cell_type": "code",
   "execution_count": 493,
   "id": "8231bb73-9980-481e-a83c-e2795faa75f4",
   "metadata": {},
   "outputs": [
    {
     "data": {
      "text/html": [
       "<div>\n",
       "<style scoped>\n",
       "    .dataframe tbody tr th:only-of-type {\n",
       "        vertical-align: middle;\n",
       "    }\n",
       "\n",
       "    .dataframe tbody tr th {\n",
       "        vertical-align: top;\n",
       "    }\n",
       "\n",
       "    .dataframe thead th {\n",
       "        text-align: right;\n",
       "    }\n",
       "</style>\n",
       "<table border=\"1\" class=\"dataframe\">\n",
       "  <thead>\n",
       "    <tr style=\"text-align: right;\">\n",
       "      <th></th>\n",
       "      <th>Key</th>\n",
       "      <th>A</th>\n",
       "      <th>B</th>\n",
       "      <th>C</th>\n",
       "      <th>D</th>\n",
       "    </tr>\n",
       "  </thead>\n",
       "  <tbody>\n",
       "    <tr>\n",
       "      <th>0</th>\n",
       "      <td>K0</td>\n",
       "      <td>A0</td>\n",
       "      <td>B0</td>\n",
       "      <td>C0</td>\n",
       "      <td>D0</td>\n",
       "    </tr>\n",
       "    <tr>\n",
       "      <th>1</th>\n",
       "      <td>K4</td>\n",
       "      <td>A1</td>\n",
       "      <td>B1</td>\n",
       "      <td>NaN</td>\n",
       "      <td>NaN</td>\n",
       "    </tr>\n",
       "    <tr>\n",
       "      <th>2</th>\n",
       "      <td>K2</td>\n",
       "      <td>A2</td>\n",
       "      <td>B2</td>\n",
       "      <td>C2</td>\n",
       "      <td>D2</td>\n",
       "    </tr>\n",
       "    <tr>\n",
       "      <th>3</th>\n",
       "      <td>K3</td>\n",
       "      <td>A3</td>\n",
       "      <td>B3</td>\n",
       "      <td>C3</td>\n",
       "      <td>D3</td>\n",
       "    </tr>\n",
       "  </tbody>\n",
       "</table>\n",
       "</div>"
      ],
      "text/plain": [
       "  Key   A   B    C    D\n",
       "0  K0  A0  B0   C0   D0\n",
       "1  K4  A1  B1  NaN  NaN\n",
       "2  K2  A2  B2   C2   D2\n",
       "3  K3  A3  B3   C3   D3"
      ]
     },
     "execution_count": 493,
     "metadata": {},
     "output_type": "execute_result"
    }
   ],
   "source": [
    "pd.merge(left, right, how=\"left\", on=\"Key\")"
   ]
  },
  {
   "cell_type": "code",
   "execution_count": 494,
   "id": "9181ebfa-5f9f-42a5-9ed3-713d5265a97e",
   "metadata": {},
   "outputs": [
    {
     "data": {
      "text/html": [
       "<div>\n",
       "<style scoped>\n",
       "    .dataframe tbody tr th:only-of-type {\n",
       "        vertical-align: middle;\n",
       "    }\n",
       "\n",
       "    .dataframe tbody tr th {\n",
       "        vertical-align: top;\n",
       "    }\n",
       "\n",
       "    .dataframe thead th {\n",
       "        text-align: right;\n",
       "    }\n",
       "</style>\n",
       "<table border=\"1\" class=\"dataframe\">\n",
       "  <thead>\n",
       "    <tr style=\"text-align: right;\">\n",
       "      <th></th>\n",
       "      <th>Key</th>\n",
       "      <th>A</th>\n",
       "      <th>B</th>\n",
       "    </tr>\n",
       "  </thead>\n",
       "  <tbody>\n",
       "    <tr>\n",
       "      <th>0</th>\n",
       "      <td>K0</td>\n",
       "      <td>A0</td>\n",
       "      <td>B0</td>\n",
       "    </tr>\n",
       "    <tr>\n",
       "      <th>1</th>\n",
       "      <td>K4</td>\n",
       "      <td>A1</td>\n",
       "      <td>B1</td>\n",
       "    </tr>\n",
       "    <tr>\n",
       "      <th>2</th>\n",
       "      <td>K2</td>\n",
       "      <td>A2</td>\n",
       "      <td>B2</td>\n",
       "    </tr>\n",
       "    <tr>\n",
       "      <th>3</th>\n",
       "      <td>K3</td>\n",
       "      <td>A3</td>\n",
       "      <td>B3</td>\n",
       "    </tr>\n",
       "  </tbody>\n",
       "</table>\n",
       "</div>"
      ],
      "text/plain": [
       "  Key   A   B\n",
       "0  K0  A0  B0\n",
       "1  K4  A1  B1\n",
       "2  K2  A2  B2\n",
       "3  K3  A3  B3"
      ]
     },
     "execution_count": 494,
     "metadata": {},
     "output_type": "execute_result"
    }
   ],
   "source": [
    "left"
   ]
  },
  {
   "cell_type": "code",
   "execution_count": 495,
   "id": "c1d1cc0c-45e5-497b-91b0-f43020a0e8df",
   "metadata": {},
   "outputs": [
    {
     "data": {
      "text/html": [
       "<div>\n",
       "<style scoped>\n",
       "    .dataframe tbody tr th:only-of-type {\n",
       "        vertical-align: middle;\n",
       "    }\n",
       "\n",
       "    .dataframe tbody tr th {\n",
       "        vertical-align: top;\n",
       "    }\n",
       "\n",
       "    .dataframe thead th {\n",
       "        text-align: right;\n",
       "    }\n",
       "</style>\n",
       "<table border=\"1\" class=\"dataframe\">\n",
       "  <thead>\n",
       "    <tr style=\"text-align: right;\">\n",
       "      <th></th>\n",
       "      <th>Key</th>\n",
       "      <th>C</th>\n",
       "      <th>D</th>\n",
       "    </tr>\n",
       "  </thead>\n",
       "  <tbody>\n",
       "    <tr>\n",
       "      <th>0</th>\n",
       "      <td>K0</td>\n",
       "      <td>C0</td>\n",
       "      <td>D0</td>\n",
       "    </tr>\n",
       "    <tr>\n",
       "      <th>1</th>\n",
       "      <td>K1</td>\n",
       "      <td>C1</td>\n",
       "      <td>D1</td>\n",
       "    </tr>\n",
       "    <tr>\n",
       "      <th>2</th>\n",
       "      <td>K2</td>\n",
       "      <td>C2</td>\n",
       "      <td>D2</td>\n",
       "    </tr>\n",
       "    <tr>\n",
       "      <th>3</th>\n",
       "      <td>K3</td>\n",
       "      <td>C3</td>\n",
       "      <td>D3</td>\n",
       "    </tr>\n",
       "  </tbody>\n",
       "</table>\n",
       "</div>"
      ],
      "text/plain": [
       "  Key   C   D\n",
       "0  K0  C0  D0\n",
       "1  K1  C1  D1\n",
       "2  K2  C2  D2\n",
       "3  K3  C3  D3"
      ]
     },
     "execution_count": 495,
     "metadata": {},
     "output_type": "execute_result"
    }
   ],
   "source": [
    "right"
   ]
  },
  {
   "cell_type": "code",
   "execution_count": 496,
   "id": "9b8b590f-603f-4e1a-b7f1-240935d1d90d",
   "metadata": {},
   "outputs": [
    {
     "data": {
      "text/html": [
       "<div>\n",
       "<style scoped>\n",
       "    .dataframe tbody tr th:only-of-type {\n",
       "        vertical-align: middle;\n",
       "    }\n",
       "\n",
       "    .dataframe tbody tr th {\n",
       "        vertical-align: top;\n",
       "    }\n",
       "\n",
       "    .dataframe thead th {\n",
       "        text-align: right;\n",
       "    }\n",
       "</style>\n",
       "<table border=\"1\" class=\"dataframe\">\n",
       "  <thead>\n",
       "    <tr style=\"text-align: right;\">\n",
       "      <th></th>\n",
       "      <th>Key</th>\n",
       "      <th>A</th>\n",
       "      <th>B</th>\n",
       "      <th>C</th>\n",
       "      <th>D</th>\n",
       "    </tr>\n",
       "  </thead>\n",
       "  <tbody>\n",
       "    <tr>\n",
       "      <th>0</th>\n",
       "      <td>K0</td>\n",
       "      <td>A0</td>\n",
       "      <td>B0</td>\n",
       "      <td>C0</td>\n",
       "      <td>D0</td>\n",
       "    </tr>\n",
       "    <tr>\n",
       "      <th>1</th>\n",
       "      <td>K1</td>\n",
       "      <td>NaN</td>\n",
       "      <td>NaN</td>\n",
       "      <td>C1</td>\n",
       "      <td>D1</td>\n",
       "    </tr>\n",
       "    <tr>\n",
       "      <th>2</th>\n",
       "      <td>K2</td>\n",
       "      <td>A2</td>\n",
       "      <td>B2</td>\n",
       "      <td>C2</td>\n",
       "      <td>D2</td>\n",
       "    </tr>\n",
       "    <tr>\n",
       "      <th>3</th>\n",
       "      <td>K3</td>\n",
       "      <td>A3</td>\n",
       "      <td>B3</td>\n",
       "      <td>C3</td>\n",
       "      <td>D3</td>\n",
       "    </tr>\n",
       "  </tbody>\n",
       "</table>\n",
       "</div>"
      ],
      "text/plain": [
       "  Key    A    B   C   D\n",
       "0  K0   A0   B0  C0  D0\n",
       "1  K1  NaN  NaN  C1  D1\n",
       "2  K2   A2   B2  C2  D2\n",
       "3  K3   A3   B3  C3  D3"
      ]
     },
     "execution_count": 496,
     "metadata": {},
     "output_type": "execute_result"
    }
   ],
   "source": [
    "pd.merge(left, right, how=\"right\", on=\"Key\")"
   ]
  },
  {
   "cell_type": "code",
   "execution_count": 497,
   "id": "6366cb20-6df5-4d54-b09b-df5200c23f44",
   "metadata": {},
   "outputs": [
    {
     "data": {
      "text/html": [
       "<div>\n",
       "<style scoped>\n",
       "    .dataframe tbody tr th:only-of-type {\n",
       "        vertical-align: middle;\n",
       "    }\n",
       "\n",
       "    .dataframe tbody tr th {\n",
       "        vertical-align: top;\n",
       "    }\n",
       "\n",
       "    .dataframe thead th {\n",
       "        text-align: right;\n",
       "    }\n",
       "</style>\n",
       "<table border=\"1\" class=\"dataframe\">\n",
       "  <thead>\n",
       "    <tr style=\"text-align: right;\">\n",
       "      <th></th>\n",
       "      <th>Key</th>\n",
       "      <th>A</th>\n",
       "      <th>B</th>\n",
       "      <th>C</th>\n",
       "      <th>D</th>\n",
       "    </tr>\n",
       "  </thead>\n",
       "  <tbody>\n",
       "    <tr>\n",
       "      <th>0</th>\n",
       "      <td>K0</td>\n",
       "      <td>A0</td>\n",
       "      <td>B0</td>\n",
       "      <td>C0</td>\n",
       "      <td>D0</td>\n",
       "    </tr>\n",
       "    <tr>\n",
       "      <th>1</th>\n",
       "      <td>K1</td>\n",
       "      <td>NaN</td>\n",
       "      <td>NaN</td>\n",
       "      <td>C1</td>\n",
       "      <td>D1</td>\n",
       "    </tr>\n",
       "    <tr>\n",
       "      <th>2</th>\n",
       "      <td>K2</td>\n",
       "      <td>A2</td>\n",
       "      <td>B2</td>\n",
       "      <td>C2</td>\n",
       "      <td>D2</td>\n",
       "    </tr>\n",
       "    <tr>\n",
       "      <th>3</th>\n",
       "      <td>K3</td>\n",
       "      <td>A3</td>\n",
       "      <td>B3</td>\n",
       "      <td>C3</td>\n",
       "      <td>D3</td>\n",
       "    </tr>\n",
       "    <tr>\n",
       "      <th>4</th>\n",
       "      <td>K4</td>\n",
       "      <td>A1</td>\n",
       "      <td>B1</td>\n",
       "      <td>NaN</td>\n",
       "      <td>NaN</td>\n",
       "    </tr>\n",
       "  </tbody>\n",
       "</table>\n",
       "</div>"
      ],
      "text/plain": [
       "  Key    A    B    C    D\n",
       "0  K0   A0   B0   C0   D0\n",
       "1  K1  NaN  NaN   C1   D1\n",
       "2  K2   A2   B2   C2   D2\n",
       "3  K3   A3   B3   C3   D3\n",
       "4  K4   A1   B1  NaN  NaN"
      ]
     },
     "execution_count": 497,
     "metadata": {},
     "output_type": "execute_result"
    }
   ],
   "source": [
    "pd.merge(left, right, how=\"outer\", on=\"Key\")"
   ]
  },
  {
   "cell_type": "markdown",
   "id": "167ad8c4-c16f-4b62-abad-5a237450644f",
   "metadata": {},
   "source": [
    "---"
   ]
  },
  {
   "cell_type": "code",
   "execution_count": 498,
   "id": "86ab4892-4ff7-4ceb-83ee-1bfe440ad1ed",
   "metadata": {},
   "outputs": [
    {
     "data": {
      "text/html": [
       "<div>\n",
       "<style scoped>\n",
       "    .dataframe tbody tr th:only-of-type {\n",
       "        vertical-align: middle;\n",
       "    }\n",
       "\n",
       "    .dataframe tbody tr th {\n",
       "        vertical-align: top;\n",
       "    }\n",
       "\n",
       "    .dataframe thead th {\n",
       "        text-align: right;\n",
       "    }\n",
       "</style>\n",
       "<table border=\"1\" class=\"dataframe\">\n",
       "  <thead>\n",
       "    <tr style=\"text-align: right;\">\n",
       "      <th></th>\n",
       "      <th>구별</th>\n",
       "      <th>소계</th>\n",
       "      <th>2013년도 이전</th>\n",
       "      <th>2014년</th>\n",
       "      <th>2015년</th>\n",
       "      <th>2016년</th>\n",
       "      <th>최근증가율</th>\n",
       "    </tr>\n",
       "  </thead>\n",
       "  <tbody>\n",
       "    <tr>\n",
       "      <th>0</th>\n",
       "      <td>강남구</td>\n",
       "      <td>3238</td>\n",
       "      <td>1292</td>\n",
       "      <td>430</td>\n",
       "      <td>584</td>\n",
       "      <td>932</td>\n",
       "      <td>150.619195</td>\n",
       "    </tr>\n",
       "  </tbody>\n",
       "</table>\n",
       "</div>"
      ],
      "text/plain": [
       "    구별    소계  2013년도 이전  2014년  2015년  2016년       최근증가율\n",
       "0  강남구  3238       1292    430    584    932  150.619195"
      ]
     },
     "execution_count": 498,
     "metadata": {},
     "output_type": "execute_result"
    }
   ],
   "source": [
    "CCTV_Seoul.head(1)"
   ]
  },
  {
   "cell_type": "code",
   "execution_count": 499,
   "id": "4f3d52d3-0321-45be-a94c-3edbec0424ef",
   "metadata": {},
   "outputs": [
    {
     "data": {
      "text/html": [
       "<div>\n",
       "<style scoped>\n",
       "    .dataframe tbody tr th:only-of-type {\n",
       "        vertical-align: middle;\n",
       "    }\n",
       "\n",
       "    .dataframe tbody tr th {\n",
       "        vertical-align: top;\n",
       "    }\n",
       "\n",
       "    .dataframe thead th {\n",
       "        text-align: right;\n",
       "    }\n",
       "</style>\n",
       "<table border=\"1\" class=\"dataframe\">\n",
       "  <thead>\n",
       "    <tr style=\"text-align: right;\">\n",
       "      <th></th>\n",
       "      <th>구별</th>\n",
       "      <th>소계</th>\n",
       "      <th>2013년도 이전</th>\n",
       "      <th>2014년</th>\n",
       "      <th>2015년</th>\n",
       "      <th>2016년</th>\n",
       "      <th>최근증가율</th>\n",
       "    </tr>\n",
       "  </thead>\n",
       "  <tbody>\n",
       "    <tr>\n",
       "      <th>0</th>\n",
       "      <td>강남구</td>\n",
       "      <td>3238</td>\n",
       "      <td>1292</td>\n",
       "      <td>430</td>\n",
       "      <td>584</td>\n",
       "      <td>932</td>\n",
       "      <td>150.619195</td>\n",
       "    </tr>\n",
       "  </tbody>\n",
       "</table>\n",
       "</div>"
      ],
      "text/plain": [
       "    구별    소계  2013년도 이전  2014년  2015년  2016년       최근증가율\n",
       "0  강남구  3238       1292    430    584    932  150.619195"
      ]
     },
     "execution_count": 499,
     "metadata": {},
     "output_type": "execute_result"
    }
   ],
   "source": [
    "CCTV_Seoul = CCTV_Seoul.rename(columns={'기관명': '구별'})\n",
    "CCTV_Seoul.head(1)"
   ]
  },
  {
   "cell_type": "code",
   "execution_count": 500,
   "id": "b3d5ab93-523d-40fb-bff3-72f5d3bfad5c",
   "metadata": {},
   "outputs": [
    {
     "data": {
      "text/html": [
       "<div>\n",
       "<style scoped>\n",
       "    .dataframe tbody tr th:only-of-type {\n",
       "        vertical-align: middle;\n",
       "    }\n",
       "\n",
       "    .dataframe tbody tr th {\n",
       "        vertical-align: top;\n",
       "    }\n",
       "\n",
       "    .dataframe thead th {\n",
       "        text-align: right;\n",
       "    }\n",
       "</style>\n",
       "<table border=\"1\" class=\"dataframe\">\n",
       "  <thead>\n",
       "    <tr style=\"text-align: right;\">\n",
       "      <th></th>\n",
       "      <th>구별</th>\n",
       "      <th>인구수</th>\n",
       "      <th>한국인</th>\n",
       "      <th>외국인</th>\n",
       "      <th>고령자</th>\n",
       "      <th>외국인비율</th>\n",
       "      <th>고령자비율</th>\n",
       "    </tr>\n",
       "  </thead>\n",
       "  <tbody>\n",
       "    <tr>\n",
       "      <th>1</th>\n",
       "      <td>종로구</td>\n",
       "      <td>150204</td>\n",
       "      <td>139189</td>\n",
       "      <td>11015</td>\n",
       "      <td>29338</td>\n",
       "      <td>7.33336</td>\n",
       "      <td>19.532103</td>\n",
       "    </tr>\n",
       "  </tbody>\n",
       "</table>\n",
       "</div>"
      ],
      "text/plain": [
       "    구별     인구수     한국인    외국인    고령자    외국인비율      고령자비율\n",
       "1  종로구  150204  139189  11015  29338  7.33336  19.532103"
      ]
     },
     "execution_count": 500,
     "metadata": {},
     "output_type": "execute_result"
    }
   ],
   "source": [
    "pop_Seoul.head(1)"
   ]
  },
  {
   "cell_type": "code",
   "execution_count": 501,
   "id": "2690a803-ef01-4c8a-bf5f-d70a2853aa41",
   "metadata": {},
   "outputs": [
    {
     "data": {
      "text/html": [
       "<div>\n",
       "<style scoped>\n",
       "    .dataframe tbody tr th:only-of-type {\n",
       "        vertical-align: middle;\n",
       "    }\n",
       "\n",
       "    .dataframe tbody tr th {\n",
       "        vertical-align: top;\n",
       "    }\n",
       "\n",
       "    .dataframe thead th {\n",
       "        text-align: right;\n",
       "    }\n",
       "</style>\n",
       "<table border=\"1\" class=\"dataframe\">\n",
       "  <thead>\n",
       "    <tr style=\"text-align: right;\">\n",
       "      <th></th>\n",
       "      <th>구별</th>\n",
       "      <th>소계</th>\n",
       "      <th>2013년도 이전</th>\n",
       "      <th>2014년</th>\n",
       "      <th>2015년</th>\n",
       "      <th>2016년</th>\n",
       "      <th>최근증가율</th>\n",
       "      <th>인구수</th>\n",
       "      <th>한국인</th>\n",
       "      <th>외국인</th>\n",
       "      <th>고령자</th>\n",
       "      <th>외국인비율</th>\n",
       "      <th>고령자비율</th>\n",
       "    </tr>\n",
       "  </thead>\n",
       "  <tbody>\n",
       "    <tr>\n",
       "      <th>0</th>\n",
       "      <td>강남구</td>\n",
       "      <td>3238</td>\n",
       "      <td>1292</td>\n",
       "      <td>430</td>\n",
       "      <td>584</td>\n",
       "      <td>932</td>\n",
       "      <td>150.619195</td>\n",
       "      <td>562136</td>\n",
       "      <td>556570</td>\n",
       "      <td>5566</td>\n",
       "      <td>89719</td>\n",
       "      <td>0.990152</td>\n",
       "      <td>15.960373</td>\n",
       "    </tr>\n",
       "    <tr>\n",
       "      <th>1</th>\n",
       "      <td>강동구</td>\n",
       "      <td>1010</td>\n",
       "      <td>379</td>\n",
       "      <td>99</td>\n",
       "      <td>155</td>\n",
       "      <td>377</td>\n",
       "      <td>166.490765</td>\n",
       "      <td>466924</td>\n",
       "      <td>462646</td>\n",
       "      <td>4278</td>\n",
       "      <td>85571</td>\n",
       "      <td>0.916209</td>\n",
       "      <td>18.326537</td>\n",
       "    </tr>\n",
       "    <tr>\n",
       "      <th>2</th>\n",
       "      <td>강북구</td>\n",
       "      <td>831</td>\n",
       "      <td>369</td>\n",
       "      <td>120</td>\n",
       "      <td>138</td>\n",
       "      <td>204</td>\n",
       "      <td>125.203252</td>\n",
       "      <td>290252</td>\n",
       "      <td>285054</td>\n",
       "      <td>5198</td>\n",
       "      <td>69922</td>\n",
       "      <td>1.790858</td>\n",
       "      <td>24.090101</td>\n",
       "    </tr>\n",
       "    <tr>\n",
       "      <th>3</th>\n",
       "      <td>강서구</td>\n",
       "      <td>911</td>\n",
       "      <td>388</td>\n",
       "      <td>258</td>\n",
       "      <td>184</td>\n",
       "      <td>81</td>\n",
       "      <td>134.793814</td>\n",
       "      <td>565133</td>\n",
       "      <td>559335</td>\n",
       "      <td>5798</td>\n",
       "      <td>105023</td>\n",
       "      <td>1.025953</td>\n",
       "      <td>18.583767</td>\n",
       "    </tr>\n",
       "    <tr>\n",
       "      <th>4</th>\n",
       "      <td>관악구</td>\n",
       "      <td>2109</td>\n",
       "      <td>846</td>\n",
       "      <td>260</td>\n",
       "      <td>390</td>\n",
       "      <td>613</td>\n",
       "      <td>149.290780</td>\n",
       "      <td>497632</td>\n",
       "      <td>481145</td>\n",
       "      <td>16487</td>\n",
       "      <td>87267</td>\n",
       "      <td>3.313091</td>\n",
       "      <td>17.536453</td>\n",
       "    </tr>\n",
       "  </tbody>\n",
       "</table>\n",
       "</div>"
      ],
      "text/plain": [
       "    구별    소계  2013년도 이전  2014년  2015년  2016년       최근증가율     인구수     한국인  \\\n",
       "0  강남구  3238       1292    430    584    932  150.619195  562136  556570   \n",
       "1  강동구  1010        379     99    155    377  166.490765  466924  462646   \n",
       "2  강북구   831        369    120    138    204  125.203252  290252  285054   \n",
       "3  강서구   911        388    258    184     81  134.793814  565133  559335   \n",
       "4  관악구  2109        846    260    390    613  149.290780  497632  481145   \n",
       "\n",
       "     외국인     고령자     외국인비율      고령자비율  \n",
       "0   5566   89719  0.990152  15.960373  \n",
       "1   4278   85571  0.916209  18.326537  \n",
       "2   5198   69922  1.790858  24.090101  \n",
       "3   5798  105023  1.025953  18.583767  \n",
       "4  16487   87267  3.313091  17.536453  "
      ]
     },
     "execution_count": 501,
     "metadata": {},
     "output_type": "execute_result"
    }
   ],
   "source": [
    "data_result = pd.merge(CCTV_Seoul, pop_Seoul, on=\"구별\")\n",
    "data_result.head()"
   ]
  },
  {
   "cell_type": "markdown",
   "id": "8491d280-d904-4013-9ada-3c42e17350fa",
   "metadata": {},
   "source": [
    "#### 년도별 데이터 컬럼 삭제\n",
    "- del\n",
    "- drop()"
   ]
  },
  {
   "cell_type": "code",
   "execution_count": 502,
   "id": "70c4b1d5-a555-4583-82a2-1ca910386e47",
   "metadata": {},
   "outputs": [],
   "source": [
    "del data_result[\"2013년도 이전\"]"
   ]
  },
  {
   "cell_type": "code",
   "execution_count": 503,
   "id": "3a67ddf8-0090-4ad8-893f-19d20de721a1",
   "metadata": {},
   "outputs": [],
   "source": [
    "del data_result[\"2014년\"]"
   ]
  },
  {
   "cell_type": "code",
   "execution_count": 504,
   "id": "08eb7e6d-080b-4232-91e4-1a54d23b8b52",
   "metadata": {},
   "outputs": [
    {
     "data": {
      "text/html": [
       "<div>\n",
       "<style scoped>\n",
       "    .dataframe tbody tr th:only-of-type {\n",
       "        vertical-align: middle;\n",
       "    }\n",
       "\n",
       "    .dataframe tbody tr th {\n",
       "        vertical-align: top;\n",
       "    }\n",
       "\n",
       "    .dataframe thead th {\n",
       "        text-align: right;\n",
       "    }\n",
       "</style>\n",
       "<table border=\"1\" class=\"dataframe\">\n",
       "  <thead>\n",
       "    <tr style=\"text-align: right;\">\n",
       "      <th></th>\n",
       "      <th>구별</th>\n",
       "      <th>소계</th>\n",
       "      <th>2015년</th>\n",
       "      <th>2016년</th>\n",
       "      <th>최근증가율</th>\n",
       "      <th>인구수</th>\n",
       "      <th>한국인</th>\n",
       "      <th>외국인</th>\n",
       "      <th>고령자</th>\n",
       "      <th>외국인비율</th>\n",
       "      <th>고령자비율</th>\n",
       "    </tr>\n",
       "  </thead>\n",
       "  <tbody>\n",
       "    <tr>\n",
       "      <th>0</th>\n",
       "      <td>강남구</td>\n",
       "      <td>3238</td>\n",
       "      <td>584</td>\n",
       "      <td>932</td>\n",
       "      <td>150.619195</td>\n",
       "      <td>562136</td>\n",
       "      <td>556570</td>\n",
       "      <td>5566</td>\n",
       "      <td>89719</td>\n",
       "      <td>0.990152</td>\n",
       "      <td>15.960373</td>\n",
       "    </tr>\n",
       "    <tr>\n",
       "      <th>1</th>\n",
       "      <td>강동구</td>\n",
       "      <td>1010</td>\n",
       "      <td>155</td>\n",
       "      <td>377</td>\n",
       "      <td>166.490765</td>\n",
       "      <td>466924</td>\n",
       "      <td>462646</td>\n",
       "      <td>4278</td>\n",
       "      <td>85571</td>\n",
       "      <td>0.916209</td>\n",
       "      <td>18.326537</td>\n",
       "    </tr>\n",
       "    <tr>\n",
       "      <th>2</th>\n",
       "      <td>강북구</td>\n",
       "      <td>831</td>\n",
       "      <td>138</td>\n",
       "      <td>204</td>\n",
       "      <td>125.203252</td>\n",
       "      <td>290252</td>\n",
       "      <td>285054</td>\n",
       "      <td>5198</td>\n",
       "      <td>69922</td>\n",
       "      <td>1.790858</td>\n",
       "      <td>24.090101</td>\n",
       "    </tr>\n",
       "  </tbody>\n",
       "</table>\n",
       "</div>"
      ],
      "text/plain": [
       "    구별    소계  2015년  2016년       최근증가율     인구수     한국인   외국인    고령자     외국인비율  \\\n",
       "0  강남구  3238    584    932  150.619195  562136  556570  5566  89719  0.990152   \n",
       "1  강동구  1010    155    377  166.490765  466924  462646  4278  85571  0.916209   \n",
       "2  강북구   831    138    204  125.203252  290252  285054  5198  69922  1.790858   \n",
       "\n",
       "       고령자비율  \n",
       "0  15.960373  \n",
       "1  18.326537  \n",
       "2  24.090101  "
      ]
     },
     "execution_count": 504,
     "metadata": {},
     "output_type": "execute_result"
    }
   ],
   "source": [
    "data_result.head(3)"
   ]
  },
  {
   "cell_type": "code",
   "execution_count": 505,
   "id": "1589104f-9f82-45f0-a5ed-a553fb3a7884",
   "metadata": {},
   "outputs": [],
   "source": [
    "data_result.drop([\"2015년\", \"2016년\"], axis=1, inplace=True)"
   ]
  },
  {
   "cell_type": "code",
   "execution_count": 506,
   "id": "286af18c-7e5c-4c6d-88a5-78539c9c7f57",
   "metadata": {},
   "outputs": [
    {
     "data": {
      "text/html": [
       "<div>\n",
       "<style scoped>\n",
       "    .dataframe tbody tr th:only-of-type {\n",
       "        vertical-align: middle;\n",
       "    }\n",
       "\n",
       "    .dataframe tbody tr th {\n",
       "        vertical-align: top;\n",
       "    }\n",
       "\n",
       "    .dataframe thead th {\n",
       "        text-align: right;\n",
       "    }\n",
       "</style>\n",
       "<table border=\"1\" class=\"dataframe\">\n",
       "  <thead>\n",
       "    <tr style=\"text-align: right;\">\n",
       "      <th></th>\n",
       "      <th>구별</th>\n",
       "      <th>소계</th>\n",
       "      <th>최근증가율</th>\n",
       "      <th>인구수</th>\n",
       "      <th>한국인</th>\n",
       "      <th>외국인</th>\n",
       "      <th>고령자</th>\n",
       "      <th>외국인비율</th>\n",
       "      <th>고령자비율</th>\n",
       "    </tr>\n",
       "  </thead>\n",
       "  <tbody>\n",
       "    <tr>\n",
       "      <th>0</th>\n",
       "      <td>강남구</td>\n",
       "      <td>3238</td>\n",
       "      <td>150.619195</td>\n",
       "      <td>562136</td>\n",
       "      <td>556570</td>\n",
       "      <td>5566</td>\n",
       "      <td>89719</td>\n",
       "      <td>0.990152</td>\n",
       "      <td>15.960373</td>\n",
       "    </tr>\n",
       "    <tr>\n",
       "      <th>1</th>\n",
       "      <td>강동구</td>\n",
       "      <td>1010</td>\n",
       "      <td>166.490765</td>\n",
       "      <td>466924</td>\n",
       "      <td>462646</td>\n",
       "      <td>4278</td>\n",
       "      <td>85571</td>\n",
       "      <td>0.916209</td>\n",
       "      <td>18.326537</td>\n",
       "    </tr>\n",
       "    <tr>\n",
       "      <th>2</th>\n",
       "      <td>강북구</td>\n",
       "      <td>831</td>\n",
       "      <td>125.203252</td>\n",
       "      <td>290252</td>\n",
       "      <td>285054</td>\n",
       "      <td>5198</td>\n",
       "      <td>69922</td>\n",
       "      <td>1.790858</td>\n",
       "      <td>24.090101</td>\n",
       "    </tr>\n",
       "    <tr>\n",
       "      <th>3</th>\n",
       "      <td>강서구</td>\n",
       "      <td>911</td>\n",
       "      <td>134.793814</td>\n",
       "      <td>565133</td>\n",
       "      <td>559335</td>\n",
       "      <td>5798</td>\n",
       "      <td>105023</td>\n",
       "      <td>1.025953</td>\n",
       "      <td>18.583767</td>\n",
       "    </tr>\n",
       "    <tr>\n",
       "      <th>4</th>\n",
       "      <td>관악구</td>\n",
       "      <td>2109</td>\n",
       "      <td>149.290780</td>\n",
       "      <td>497632</td>\n",
       "      <td>481145</td>\n",
       "      <td>16487</td>\n",
       "      <td>87267</td>\n",
       "      <td>3.313091</td>\n",
       "      <td>17.536453</td>\n",
       "    </tr>\n",
       "  </tbody>\n",
       "</table>\n",
       "</div>"
      ],
      "text/plain": [
       "    구별    소계       최근증가율     인구수     한국인    외국인     고령자     외국인비율      고령자비율\n",
       "0  강남구  3238  150.619195  562136  556570   5566   89719  0.990152  15.960373\n",
       "1  강동구  1010  166.490765  466924  462646   4278   85571  0.916209  18.326537\n",
       "2  강북구   831  125.203252  290252  285054   5198   69922  1.790858  24.090101\n",
       "3  강서구   911  134.793814  565133  559335   5798  105023  1.025953  18.583767\n",
       "4  관악구  2109  149.290780  497632  481145  16487   87267  3.313091  17.536453"
      ]
     },
     "execution_count": 506,
     "metadata": {},
     "output_type": "execute_result"
    }
   ],
   "source": [
    "data_result.head()"
   ]
  },
  {
   "cell_type": "markdown",
   "id": "442e3c04-30b5-4333-a81b-5438b7d3a884",
   "metadata": {},
   "source": [
    "#### 인덱스 변경\n",
    "- set index()\n",
    "- 선택한 컬럼을 데이터 프레임의 인덱스로 지정"
   ]
  },
  {
   "cell_type": "code",
   "execution_count": 507,
   "id": "44c47155-1b73-42aa-9c76-b30060707dbe",
   "metadata": {},
   "outputs": [
    {
     "data": {
      "text/html": [
       "<div>\n",
       "<style scoped>\n",
       "    .dataframe tbody tr th:only-of-type {\n",
       "        vertical-align: middle;\n",
       "    }\n",
       "\n",
       "    .dataframe tbody tr th {\n",
       "        vertical-align: top;\n",
       "    }\n",
       "\n",
       "    .dataframe thead th {\n",
       "        text-align: right;\n",
       "    }\n",
       "</style>\n",
       "<table border=\"1\" class=\"dataframe\">\n",
       "  <thead>\n",
       "    <tr style=\"text-align: right;\">\n",
       "      <th></th>\n",
       "      <th>소계</th>\n",
       "      <th>최근증가율</th>\n",
       "      <th>인구수</th>\n",
       "      <th>한국인</th>\n",
       "      <th>외국인</th>\n",
       "      <th>고령자</th>\n",
       "      <th>외국인비율</th>\n",
       "      <th>고령자비율</th>\n",
       "    </tr>\n",
       "    <tr>\n",
       "      <th>구별</th>\n",
       "      <th></th>\n",
       "      <th></th>\n",
       "      <th></th>\n",
       "      <th></th>\n",
       "      <th></th>\n",
       "      <th></th>\n",
       "      <th></th>\n",
       "      <th></th>\n",
       "    </tr>\n",
       "  </thead>\n",
       "  <tbody>\n",
       "    <tr>\n",
       "      <th>강남구</th>\n",
       "      <td>3238</td>\n",
       "      <td>150.619195</td>\n",
       "      <td>562136</td>\n",
       "      <td>556570</td>\n",
       "      <td>5566</td>\n",
       "      <td>89719</td>\n",
       "      <td>0.990152</td>\n",
       "      <td>15.960373</td>\n",
       "    </tr>\n",
       "    <tr>\n",
       "      <th>강동구</th>\n",
       "      <td>1010</td>\n",
       "      <td>166.490765</td>\n",
       "      <td>466924</td>\n",
       "      <td>462646</td>\n",
       "      <td>4278</td>\n",
       "      <td>85571</td>\n",
       "      <td>0.916209</td>\n",
       "      <td>18.326537</td>\n",
       "    </tr>\n",
       "    <tr>\n",
       "      <th>강북구</th>\n",
       "      <td>831</td>\n",
       "      <td>125.203252</td>\n",
       "      <td>290252</td>\n",
       "      <td>285054</td>\n",
       "      <td>5198</td>\n",
       "      <td>69922</td>\n",
       "      <td>1.790858</td>\n",
       "      <td>24.090101</td>\n",
       "    </tr>\n",
       "    <tr>\n",
       "      <th>강서구</th>\n",
       "      <td>911</td>\n",
       "      <td>134.793814</td>\n",
       "      <td>565133</td>\n",
       "      <td>559335</td>\n",
       "      <td>5798</td>\n",
       "      <td>105023</td>\n",
       "      <td>1.025953</td>\n",
       "      <td>18.583767</td>\n",
       "    </tr>\n",
       "    <tr>\n",
       "      <th>관악구</th>\n",
       "      <td>2109</td>\n",
       "      <td>149.290780</td>\n",
       "      <td>497632</td>\n",
       "      <td>481145</td>\n",
       "      <td>16487</td>\n",
       "      <td>87267</td>\n",
       "      <td>3.313091</td>\n",
       "      <td>17.536453</td>\n",
       "    </tr>\n",
       "  </tbody>\n",
       "</table>\n",
       "</div>"
      ],
      "text/plain": [
       "       소계       최근증가율     인구수     한국인    외국인     고령자     외국인비율      고령자비율\n",
       "구별                                                                       \n",
       "강남구  3238  150.619195  562136  556570   5566   89719  0.990152  15.960373\n",
       "강동구  1010  166.490765  466924  462646   4278   85571  0.916209  18.326537\n",
       "강북구   831  125.203252  290252  285054   5198   69922  1.790858  24.090101\n",
       "강서구   911  134.793814  565133  559335   5798  105023  1.025953  18.583767\n",
       "관악구  2109  149.290780  497632  481145  16487   87267  3.313091  17.536453"
      ]
     },
     "execution_count": 507,
     "metadata": {},
     "output_type": "execute_result"
    }
   ],
   "source": [
    "data_result.set_index(\"구별\", inplace=True)\n",
    "data_result.head()"
   ]
  },
  {
   "cell_type": "markdown",
   "id": "5f2f8e39-edd3-4ce7-b2f9-89873476fcda",
   "metadata": {},
   "source": [
    "#### 상관계수\n",
    "- corr()\n",
    "- correlation의 약자\n",
    "- 상관계수가 0.2이상인 데이터를 비교"
   ]
  },
  {
   "cell_type": "code",
   "execution_count": 508,
   "id": "493a6dca-3f6f-4590-b317-a96abda97862",
   "metadata": {},
   "outputs": [
    {
     "data": {
      "text/html": [
       "<div>\n",
       "<style scoped>\n",
       "    .dataframe tbody tr th:only-of-type {\n",
       "        vertical-align: middle;\n",
       "    }\n",
       "\n",
       "    .dataframe tbody tr th {\n",
       "        vertical-align: top;\n",
       "    }\n",
       "\n",
       "    .dataframe thead th {\n",
       "        text-align: right;\n",
       "    }\n",
       "</style>\n",
       "<table border=\"1\" class=\"dataframe\">\n",
       "  <thead>\n",
       "    <tr style=\"text-align: right;\">\n",
       "      <th></th>\n",
       "      <th>소계</th>\n",
       "      <th>최근증가율</th>\n",
       "      <th>인구수</th>\n",
       "      <th>한국인</th>\n",
       "      <th>외국인</th>\n",
       "      <th>고령자</th>\n",
       "      <th>외국인비율</th>\n",
       "      <th>고령자비율</th>\n",
       "    </tr>\n",
       "  </thead>\n",
       "  <tbody>\n",
       "    <tr>\n",
       "      <th>소계</th>\n",
       "      <td>1.000000</td>\n",
       "      <td>-0.264378</td>\n",
       "      <td>0.236703</td>\n",
       "      <td>0.233317</td>\n",
       "      <td>0.013691</td>\n",
       "      <td>0.122324</td>\n",
       "      <td>-0.078686</td>\n",
       "      <td>-0.379912</td>\n",
       "    </tr>\n",
       "    <tr>\n",
       "      <th>최근증가율</th>\n",
       "      <td>-0.264378</td>\n",
       "      <td>1.000000</td>\n",
       "      <td>-0.088971</td>\n",
       "      <td>-0.079000</td>\n",
       "      <td>-0.191271</td>\n",
       "      <td>-0.055871</td>\n",
       "      <td>-0.008170</td>\n",
       "      <td>0.202814</td>\n",
       "    </tr>\n",
       "    <tr>\n",
       "      <th>인구수</th>\n",
       "      <td>0.236703</td>\n",
       "      <td>-0.088971</td>\n",
       "      <td>1.000000</td>\n",
       "      <td>0.998963</td>\n",
       "      <td>-0.226113</td>\n",
       "      <td>0.947257</td>\n",
       "      <td>-0.712028</td>\n",
       "      <td>-0.346476</td>\n",
       "    </tr>\n",
       "    <tr>\n",
       "      <th>한국인</th>\n",
       "      <td>0.233317</td>\n",
       "      <td>-0.079000</td>\n",
       "      <td>0.998963</td>\n",
       "      <td>1.000000</td>\n",
       "      <td>-0.270222</td>\n",
       "      <td>0.950147</td>\n",
       "      <td>-0.738713</td>\n",
       "      <td>-0.331980</td>\n",
       "    </tr>\n",
       "    <tr>\n",
       "      <th>외국인</th>\n",
       "      <td>0.013691</td>\n",
       "      <td>-0.191271</td>\n",
       "      <td>-0.226113</td>\n",
       "      <td>-0.270222</td>\n",
       "      <td>1.000000</td>\n",
       "      <td>-0.297042</td>\n",
       "      <td>0.747805</td>\n",
       "      <td>-0.224158</td>\n",
       "    </tr>\n",
       "    <tr>\n",
       "      <th>고령자</th>\n",
       "      <td>0.122324</td>\n",
       "      <td>-0.055871</td>\n",
       "      <td>0.947257</td>\n",
       "      <td>0.950147</td>\n",
       "      <td>-0.297042</td>\n",
       "      <td>1.000000</td>\n",
       "      <td>-0.766910</td>\n",
       "      <td>-0.038687</td>\n",
       "    </tr>\n",
       "    <tr>\n",
       "      <th>외국인비율</th>\n",
       "      <td>-0.078686</td>\n",
       "      <td>-0.008170</td>\n",
       "      <td>-0.712028</td>\n",
       "      <td>-0.738713</td>\n",
       "      <td>0.747805</td>\n",
       "      <td>-0.766910</td>\n",
       "      <td>1.000000</td>\n",
       "      <td>-0.030709</td>\n",
       "    </tr>\n",
       "    <tr>\n",
       "      <th>고령자비율</th>\n",
       "      <td>-0.379912</td>\n",
       "      <td>0.202814</td>\n",
       "      <td>-0.346476</td>\n",
       "      <td>-0.331980</td>\n",
       "      <td>-0.224158</td>\n",
       "      <td>-0.038687</td>\n",
       "      <td>-0.030709</td>\n",
       "      <td>1.000000</td>\n",
       "    </tr>\n",
       "  </tbody>\n",
       "</table>\n",
       "</div>"
      ],
      "text/plain": [
       "             소계     최근증가율       인구수       한국인       외국인       고령자     외국인비율  \\\n",
       "소계     1.000000 -0.264378  0.236703  0.233317  0.013691  0.122324 -0.078686   \n",
       "최근증가율 -0.264378  1.000000 -0.088971 -0.079000 -0.191271 -0.055871 -0.008170   \n",
       "인구수    0.236703 -0.088971  1.000000  0.998963 -0.226113  0.947257 -0.712028   \n",
       "한국인    0.233317 -0.079000  0.998963  1.000000 -0.270222  0.950147 -0.738713   \n",
       "외국인    0.013691 -0.191271 -0.226113 -0.270222  1.000000 -0.297042  0.747805   \n",
       "고령자    0.122324 -0.055871  0.947257  0.950147 -0.297042  1.000000 -0.766910   \n",
       "외국인비율 -0.078686 -0.008170 -0.712028 -0.738713  0.747805 -0.766910  1.000000   \n",
       "고령자비율 -0.379912  0.202814 -0.346476 -0.331980 -0.224158 -0.038687 -0.030709   \n",
       "\n",
       "          고령자비율  \n",
       "소계    -0.379912  \n",
       "최근증가율  0.202814  \n",
       "인구수   -0.346476  \n",
       "한국인   -0.331980  \n",
       "외국인   -0.224158  \n",
       "고령자   -0.038687  \n",
       "외국인비율 -0.030709  \n",
       "고령자비율  1.000000  "
      ]
     },
     "execution_count": 508,
     "metadata": {},
     "output_type": "execute_result"
    }
   ],
   "source": [
    "data_result.corr()"
   ]
  },
  {
   "cell_type": "code",
   "execution_count": 509,
   "id": "ef55d112-7d6f-41b5-b277-53279808d60e",
   "metadata": {},
   "outputs": [
    {
     "name": "stdout",
     "output_type": "stream",
     "text": [
      "<class 'pandas.core.frame.DataFrame'>\n",
      "Index: 25 entries, 강남구 to 중랑구\n",
      "Data columns (total 8 columns):\n",
      " #   Column  Non-Null Count  Dtype  \n",
      "---  ------  --------------  -----  \n",
      " 0   소계      25 non-null     int64  \n",
      " 1   최근증가율   25 non-null     float64\n",
      " 2   인구수     25 non-null     int64  \n",
      " 3   한국인     25 non-null     int64  \n",
      " 4   외국인     25 non-null     int64  \n",
      " 5   고령자     25 non-null     int64  \n",
      " 6   외국인비율   25 non-null     float64\n",
      " 7   고령자비율   25 non-null     float64\n",
      "dtypes: float64(3), int64(5)\n",
      "memory usage: 1.8+ KB\n"
     ]
    }
   ],
   "source": [
    "data_result.info()"
   ]
  },
  {
   "cell_type": "code",
   "execution_count": 510,
   "id": "465cf161-6cd9-4788-ae52-0f0c2ce3aeb9",
   "metadata": {},
   "outputs": [],
   "source": [
    "data_result[\"CCTV비율\"] = data_result[\"소계\"] / data_result[\"인구수\"]\n",
    "data_result[\"CCTV비율\"] = data_result[\"CCTV비율\"] * 100"
   ]
  },
  {
   "cell_type": "code",
   "execution_count": 511,
   "id": "fe8f3c34-cadd-4c90-bb94-a5bb584dc5c0",
   "metadata": {},
   "outputs": [
    {
     "data": {
      "text/html": [
       "<div>\n",
       "<style scoped>\n",
       "    .dataframe tbody tr th:only-of-type {\n",
       "        vertical-align: middle;\n",
       "    }\n",
       "\n",
       "    .dataframe tbody tr th {\n",
       "        vertical-align: top;\n",
       "    }\n",
       "\n",
       "    .dataframe thead th {\n",
       "        text-align: right;\n",
       "    }\n",
       "</style>\n",
       "<table border=\"1\" class=\"dataframe\">\n",
       "  <thead>\n",
       "    <tr style=\"text-align: right;\">\n",
       "      <th></th>\n",
       "      <th>소계</th>\n",
       "      <th>최근증가율</th>\n",
       "      <th>인구수</th>\n",
       "      <th>한국인</th>\n",
       "      <th>외국인</th>\n",
       "      <th>고령자</th>\n",
       "      <th>외국인비율</th>\n",
       "      <th>고령자비율</th>\n",
       "      <th>CCTV비율</th>\n",
       "    </tr>\n",
       "    <tr>\n",
       "      <th>구별</th>\n",
       "      <th></th>\n",
       "      <th></th>\n",
       "      <th></th>\n",
       "      <th></th>\n",
       "      <th></th>\n",
       "      <th></th>\n",
       "      <th></th>\n",
       "      <th></th>\n",
       "      <th></th>\n",
       "    </tr>\n",
       "  </thead>\n",
       "  <tbody>\n",
       "    <tr>\n",
       "      <th>강남구</th>\n",
       "      <td>3238</td>\n",
       "      <td>150.619195</td>\n",
       "      <td>562136</td>\n",
       "      <td>556570</td>\n",
       "      <td>5566</td>\n",
       "      <td>89719</td>\n",
       "      <td>0.990152</td>\n",
       "      <td>15.960373</td>\n",
       "      <td>0.576017</td>\n",
       "    </tr>\n",
       "    <tr>\n",
       "      <th>강동구</th>\n",
       "      <td>1010</td>\n",
       "      <td>166.490765</td>\n",
       "      <td>466924</td>\n",
       "      <td>462646</td>\n",
       "      <td>4278</td>\n",
       "      <td>85571</td>\n",
       "      <td>0.916209</td>\n",
       "      <td>18.326537</td>\n",
       "      <td>0.216309</td>\n",
       "    </tr>\n",
       "    <tr>\n",
       "      <th>강북구</th>\n",
       "      <td>831</td>\n",
       "      <td>125.203252</td>\n",
       "      <td>290252</td>\n",
       "      <td>285054</td>\n",
       "      <td>5198</td>\n",
       "      <td>69922</td>\n",
       "      <td>1.790858</td>\n",
       "      <td>24.090101</td>\n",
       "      <td>0.286303</td>\n",
       "    </tr>\n",
       "    <tr>\n",
       "      <th>강서구</th>\n",
       "      <td>911</td>\n",
       "      <td>134.793814</td>\n",
       "      <td>565133</td>\n",
       "      <td>559335</td>\n",
       "      <td>5798</td>\n",
       "      <td>105023</td>\n",
       "      <td>1.025953</td>\n",
       "      <td>18.583767</td>\n",
       "      <td>0.161201</td>\n",
       "    </tr>\n",
       "    <tr>\n",
       "      <th>관악구</th>\n",
       "      <td>2109</td>\n",
       "      <td>149.290780</td>\n",
       "      <td>497632</td>\n",
       "      <td>481145</td>\n",
       "      <td>16487</td>\n",
       "      <td>87267</td>\n",
       "      <td>3.313091</td>\n",
       "      <td>17.536453</td>\n",
       "      <td>0.423807</td>\n",
       "    </tr>\n",
       "  </tbody>\n",
       "</table>\n",
       "</div>"
      ],
      "text/plain": [
       "       소계       최근증가율     인구수     한국인    외국인     고령자     외국인비율      고령자비율  \\\n",
       "구별                                                                          \n",
       "강남구  3238  150.619195  562136  556570   5566   89719  0.990152  15.960373   \n",
       "강동구  1010  166.490765  466924  462646   4278   85571  0.916209  18.326537   \n",
       "강북구   831  125.203252  290252  285054   5198   69922  1.790858  24.090101   \n",
       "강서구   911  134.793814  565133  559335   5798  105023  1.025953  18.583767   \n",
       "관악구  2109  149.290780  497632  481145  16487   87267  3.313091  17.536453   \n",
       "\n",
       "       CCTV비율  \n",
       "구별             \n",
       "강남구  0.576017  \n",
       "강동구  0.216309  \n",
       "강북구  0.286303  \n",
       "강서구  0.161201  \n",
       "관악구  0.423807  "
      ]
     },
     "execution_count": 511,
     "metadata": {},
     "output_type": "execute_result"
    }
   ],
   "source": [
    "data_result.head()"
   ]
  },
  {
   "cell_type": "code",
   "execution_count": 512,
   "id": "e648cabd-55b9-439e-a5a9-4a7b6ec7d646",
   "metadata": {},
   "outputs": [
    {
     "data": {
      "text/html": [
       "<div>\n",
       "<style scoped>\n",
       "    .dataframe tbody tr th:only-of-type {\n",
       "        vertical-align: middle;\n",
       "    }\n",
       "\n",
       "    .dataframe tbody tr th {\n",
       "        vertical-align: top;\n",
       "    }\n",
       "\n",
       "    .dataframe thead th {\n",
       "        text-align: right;\n",
       "    }\n",
       "</style>\n",
       "<table border=\"1\" class=\"dataframe\">\n",
       "  <thead>\n",
       "    <tr style=\"text-align: right;\">\n",
       "      <th></th>\n",
       "      <th>소계</th>\n",
       "      <th>최근증가율</th>\n",
       "      <th>인구수</th>\n",
       "      <th>한국인</th>\n",
       "      <th>외국인</th>\n",
       "      <th>고령자</th>\n",
       "      <th>외국인비율</th>\n",
       "      <th>고령자비율</th>\n",
       "      <th>CCTV비율</th>\n",
       "    </tr>\n",
       "    <tr>\n",
       "      <th>구별</th>\n",
       "      <th></th>\n",
       "      <th></th>\n",
       "      <th></th>\n",
       "      <th></th>\n",
       "      <th></th>\n",
       "      <th></th>\n",
       "      <th></th>\n",
       "      <th></th>\n",
       "      <th></th>\n",
       "    </tr>\n",
       "  </thead>\n",
       "  <tbody>\n",
       "    <tr>\n",
       "      <th>종로구</th>\n",
       "      <td>1619</td>\n",
       "      <td>248.922414</td>\n",
       "      <td>150204</td>\n",
       "      <td>139189</td>\n",
       "      <td>11015</td>\n",
       "      <td>29338</td>\n",
       "      <td>7.333360</td>\n",
       "      <td>19.532103</td>\n",
       "      <td>1.077867</td>\n",
       "    </tr>\n",
       "    <tr>\n",
       "      <th>용산구</th>\n",
       "      <td>2096</td>\n",
       "      <td>53.216374</td>\n",
       "      <td>219451</td>\n",
       "      <td>206061</td>\n",
       "      <td>13390</td>\n",
       "      <td>39021</td>\n",
       "      <td>6.101590</td>\n",
       "      <td>17.781190</td>\n",
       "      <td>0.955111</td>\n",
       "    </tr>\n",
       "    <tr>\n",
       "      <th>중구</th>\n",
       "      <td>1023</td>\n",
       "      <td>147.699758</td>\n",
       "      <td>131800</td>\n",
       "      <td>121475</td>\n",
       "      <td>10325</td>\n",
       "      <td>26516</td>\n",
       "      <td>7.833839</td>\n",
       "      <td>20.118361</td>\n",
       "      <td>0.776176</td>\n",
       "    </tr>\n",
       "    <tr>\n",
       "      <th>강남구</th>\n",
       "      <td>3238</td>\n",
       "      <td>150.619195</td>\n",
       "      <td>562136</td>\n",
       "      <td>556570</td>\n",
       "      <td>5566</td>\n",
       "      <td>89719</td>\n",
       "      <td>0.990152</td>\n",
       "      <td>15.960373</td>\n",
       "      <td>0.576017</td>\n",
       "    </tr>\n",
       "    <tr>\n",
       "      <th>양천구</th>\n",
       "      <td>2482</td>\n",
       "      <td>34.671731</td>\n",
       "      <td>436595</td>\n",
       "      <td>433307</td>\n",
       "      <td>3288</td>\n",
       "      <td>78399</td>\n",
       "      <td>0.753101</td>\n",
       "      <td>17.956917</td>\n",
       "      <td>0.568490</td>\n",
       "    </tr>\n",
       "  </tbody>\n",
       "</table>\n",
       "</div>"
      ],
      "text/plain": [
       "       소계       최근증가율     인구수     한국인    외국인    고령자     외국인비율      고령자비율  \\\n",
       "구별                                                                         \n",
       "종로구  1619  248.922414  150204  139189  11015  29338  7.333360  19.532103   \n",
       "용산구  2096   53.216374  219451  206061  13390  39021  6.101590  17.781190   \n",
       "중구   1023  147.699758  131800  121475  10325  26516  7.833839  20.118361   \n",
       "강남구  3238  150.619195  562136  556570   5566  89719  0.990152  15.960373   \n",
       "양천구  2482   34.671731  436595  433307   3288  78399  0.753101  17.956917   \n",
       "\n",
       "       CCTV비율  \n",
       "구별             \n",
       "종로구  1.077867  \n",
       "용산구  0.955111  \n",
       "중구   0.776176  \n",
       "강남구  0.576017  \n",
       "양천구  0.568490  "
      ]
     },
     "execution_count": 512,
     "metadata": {},
     "output_type": "execute_result"
    }
   ],
   "source": [
    "data_result.sort_values(by=\"CCTV비율\", ascending=False).head()"
   ]
  },
  {
   "cell_type": "code",
   "execution_count": 513,
   "id": "fafe9359-f890-4810-bc41-293d39f3c9ac",
   "metadata": {},
   "outputs": [
    {
     "data": {
      "text/html": [
       "<div>\n",
       "<style scoped>\n",
       "    .dataframe tbody tr th:only-of-type {\n",
       "        vertical-align: middle;\n",
       "    }\n",
       "\n",
       "    .dataframe tbody tr th {\n",
       "        vertical-align: top;\n",
       "    }\n",
       "\n",
       "    .dataframe thead th {\n",
       "        text-align: right;\n",
       "    }\n",
       "</style>\n",
       "<table border=\"1\" class=\"dataframe\">\n",
       "  <thead>\n",
       "    <tr style=\"text-align: right;\">\n",
       "      <th></th>\n",
       "      <th>소계</th>\n",
       "      <th>최근증가율</th>\n",
       "      <th>인구수</th>\n",
       "      <th>한국인</th>\n",
       "      <th>외국인</th>\n",
       "      <th>고령자</th>\n",
       "      <th>외국인비율</th>\n",
       "      <th>고령자비율</th>\n",
       "      <th>CCTV비율</th>\n",
       "    </tr>\n",
       "    <tr>\n",
       "      <th>구별</th>\n",
       "      <th></th>\n",
       "      <th></th>\n",
       "      <th></th>\n",
       "      <th></th>\n",
       "      <th></th>\n",
       "      <th></th>\n",
       "      <th></th>\n",
       "      <th></th>\n",
       "      <th></th>\n",
       "    </tr>\n",
       "  </thead>\n",
       "  <tbody>\n",
       "    <tr>\n",
       "      <th>강서구</th>\n",
       "      <td>911</td>\n",
       "      <td>134.793814</td>\n",
       "      <td>565133</td>\n",
       "      <td>559335</td>\n",
       "      <td>5798</td>\n",
       "      <td>105023</td>\n",
       "      <td>1.025953</td>\n",
       "      <td>18.583767</td>\n",
       "      <td>0.161201</td>\n",
       "    </tr>\n",
       "    <tr>\n",
       "      <th>송파구</th>\n",
       "      <td>1081</td>\n",
       "      <td>104.347826</td>\n",
       "      <td>658768</td>\n",
       "      <td>652752</td>\n",
       "      <td>6016</td>\n",
       "      <td>111724</td>\n",
       "      <td>0.913220</td>\n",
       "      <td>16.959537</td>\n",
       "      <td>0.164094</td>\n",
       "    </tr>\n",
       "    <tr>\n",
       "      <th>강동구</th>\n",
       "      <td>1010</td>\n",
       "      <td>166.490765</td>\n",
       "      <td>466924</td>\n",
       "      <td>462646</td>\n",
       "      <td>4278</td>\n",
       "      <td>85571</td>\n",
       "      <td>0.916209</td>\n",
       "      <td>18.326537</td>\n",
       "      <td>0.216309</td>\n",
       "    </tr>\n",
       "    <tr>\n",
       "      <th>중랑구</th>\n",
       "      <td>916</td>\n",
       "      <td>79.960707</td>\n",
       "      <td>386782</td>\n",
       "      <td>381126</td>\n",
       "      <td>5656</td>\n",
       "      <td>81160</td>\n",
       "      <td>1.462322</td>\n",
       "      <td>20.983396</td>\n",
       "      <td>0.236826</td>\n",
       "    </tr>\n",
       "    <tr>\n",
       "      <th>광진구</th>\n",
       "      <td>878</td>\n",
       "      <td>53.228621</td>\n",
       "      <td>350005</td>\n",
       "      <td>334159</td>\n",
       "      <td>15846</td>\n",
       "      <td>58307</td>\n",
       "      <td>4.527364</td>\n",
       "      <td>16.658905</td>\n",
       "      <td>0.250854</td>\n",
       "    </tr>\n",
       "  </tbody>\n",
       "</table>\n",
       "</div>"
      ],
      "text/plain": [
       "       소계       최근증가율     인구수     한국인    외국인     고령자     외국인비율      고령자비율  \\\n",
       "구별                                                                          \n",
       "강서구   911  134.793814  565133  559335   5798  105023  1.025953  18.583767   \n",
       "송파구  1081  104.347826  658768  652752   6016  111724  0.913220  16.959537   \n",
       "강동구  1010  166.490765  466924  462646   4278   85571  0.916209  18.326537   \n",
       "중랑구   916   79.960707  386782  381126   5656   81160  1.462322  20.983396   \n",
       "광진구   878   53.228621  350005  334159  15846   58307  4.527364  16.658905   \n",
       "\n",
       "       CCTV비율  \n",
       "구별             \n",
       "강서구  0.161201  \n",
       "송파구  0.164094  \n",
       "강동구  0.216309  \n",
       "중랑구  0.236826  \n",
       "광진구  0.250854  "
      ]
     },
     "execution_count": 513,
     "metadata": {},
     "output_type": "execute_result"
    }
   ],
   "source": [
    "data_result.sort_values(by=\"CCTV비율\", ascending=True).head()"
   ]
  },
  {
   "cell_type": "markdown",
   "id": "96ee1482-3a79-40bd-9fcd-0b13370873fb",
   "metadata": {},
   "source": [
    "---\n",
    "## matplotlib 기초"
   ]
  },
  {
   "cell_type": "code",
   "execution_count": 514,
   "id": "6517181e-5853-433a-a796-7aecdbffd296",
   "metadata": {},
   "outputs": [],
   "source": [
    "import matplotlib.pyplot as plt\n",
    "from matplotlib import rc\n",
    "\n",
    "rc(\"font\", family=\"Malgun Gothic\")\n",
    "# %matploylib inline\n",
    "get_ipython().run_line_magic(\"matplotlib\", \"inline\")\n",
    "plt.rcParams['axes.unicode_minus'] = False"
   ]
  },
  {
   "cell_type": "markdown",
   "id": "0d6144cc-7041-4148-8a6d-b9126e56cef5",
   "metadata": {},
   "source": [
    "matplotlib 그래프 기본 형태\n",
    "```\n",
    "plt.figure(figure=(10, 6))\n",
    "plt.plot(x, y)\n",
    "plt.show\n",
    "```"
   ]
  },
  {
   "cell_type": "code",
   "execution_count": 515,
   "id": "55187cc7-8e18-4ca9-986e-9ba361c8c4e3",
   "metadata": {},
   "outputs": [
    {
     "data": {
      "image/png": "[encoded data removed]",
      "text/plain": [
       "<Figure size 1000x600 with 1 Axes>"
      ]
     },
     "metadata": {},
     "output_type": "display_data"
    }
   ],
   "source": [
    "plt.figure(figsize=(10, 6))\n",
    "plt.plot([0, 1, 2, 3, 4, 5, 6, 7, 8, 9], [1, 1, 2, 3, 4, 2, 3, 5, -1 ,3])\n",
    "plt.show()"
   ]
  },
  {
   "cell_type": "markdown",
   "id": "500acc15-653d-4f19-9731-783628187023",
   "metadata": {},
   "source": [
    "### 예제1 : 그래프 기초"
   ]
  },
  {
   "cell_type": "markdown",
   "id": "3d61fb39-d7c8-426d-bdba-d69d6b077a09",
   "metadata": {},
   "source": [
    "### 삼각함수 그리기\n",
    "- np.arange(a, b, s) : a부터 b까지 s의 간격\n",
    "- np.sin(value)"
   ]
  },
  {
   "cell_type": "code",
   "execution_count": 516,
   "id": "d5df9390-00e4-40a9-b4b5-6fd8f0c23049",
   "metadata": {},
   "outputs": [],
   "source": [
    "import numpy as np\n",
    "\n",
    "t = np.arange(0, 12, 0.01)\n",
    "y = np.sin(t)"
   ]
  },
  {
   "cell_type": "code",
   "execution_count": 517,
   "id": "71fb9f66-0bb1-481a-893f-1929ff51aac4",
   "metadata": {},
   "outputs": [
    {
     "data": {
      "image/png": "[encoded data removed]",
      "text/plain": [
       "<Figure size 640x480 with 1 Axes>"
      ]
     },
     "metadata": {},
     "output_type": "display_data"
    }
   ],
   "source": [
    "plt.figure(figure=(10, 6))\n",
    "plt.plot(t, np.sin(t))\n",
    "plt.plot(t, np.cos(t))\n",
    "plt.show()"
   ]
  },
  {
   "cell_type": "markdown",
   "id": "8b0de717-4a45-453b-bd99-0672aed919b3",
   "metadata": {},
   "source": [
    "- 1. 격자무늬 추가\n",
    "- 2. 그래프 제목 추가\n",
    "- 3. x축, y축 제목 추가\n",
    "- 4. 주항색, 파란색 선 데이터 의미 구분 "
   ]
  },
  {
   "cell_type": "code",
   "execution_count": 518,
   "id": "405dce64-995a-4618-abfe-333d72a36e86",
   "metadata": {},
   "outputs": [],
   "source": [
    "def drawGraph():\n",
    "\n",
    "    plt.figure(figure=(10, 6))\n",
    "    plt.plot(t, np.sin(t), label=\"sin\")\n",
    "    plt.plot(t, np.cos(t), label=\"cos\")\n",
    "    plt.grid(True)\n",
    "    plt.legend(loc=\"upper right\") # 범례\n",
    "    plt.title(\"Example of sinwave\")\n",
    "    plt.xlabel(\"time\")\n",
    "    plt.ylabel(\"Amplitude\") # 진폭\n",
    "    plt.show()"
   ]
  },
  {
   "cell_type": "code",
   "execution_count": 519,
   "id": "4a9882d2-b145-4524-a73e-23c7ca6c7bea",
   "metadata": {},
   "outputs": [
    {
     "data": {
      "image/png": "[encoded data removed]",
      "text/plain": [
       "<Figure size 640x480 with 1 Axes>"
      ]
     },
     "metadata": {},
     "output_type": "display_data"
    }
   ],
   "source": [
    "drawGraph()"
   ]
  },
  {
   "cell_type": "markdown",
   "id": "2486457a-752c-4277-8a4e-f383b58e68cd",
   "metadata": {},
   "source": [
    "### 예제2: 그래프 커스텀"
   ]
  },
  {
   "cell_type": "code",
   "execution_count": 520,
   "id": "0173f49e-becf-416a-83cb-846bbdf2bb84",
   "metadata": {},
   "outputs": [
    {
     "data": {
      "text/plain": [
       "array([0. , 0.5, 1. , 1.5, 2. , 2.5, 3. , 3.5, 4. , 4.5])"
      ]
     },
     "execution_count": 520,
     "metadata": {},
     "output_type": "execute_result"
    }
   ],
   "source": [
    "t = np.arange(0, 5, 0.5)\n",
    "t"
   ]
  },
  {
   "cell_type": "code",
   "execution_count": 521,
   "id": "06c39bba-4a7e-43c4-acfb-9795d0b1a843",
   "metadata": {},
   "outputs": [
    {
     "data": {
      "image/png": "[encoded data removed]",
      "text/plain": [
       "<Figure size 640x480 with 1 Axes>"
      ]
     },
     "metadata": {},
     "output_type": "display_data"
    }
   ],
   "source": [
    "plt.figure(figure=(10, 6))\n",
    "plt.plot(t, t,\"r--\") # red ----\n",
    "plt.plot(t, t ** 2, \"bs\")\n",
    "plt.plot(t, t ** 3, \"g>\")\n",
    "plt.show()"
   ]
  },
  {
   "cell_type": "code",
   "execution_count": 522,
   "id": "72835c5a-ccb0-423a-9b2e-606c4112fd0d",
   "metadata": {},
   "outputs": [],
   "source": [
    "# t = [0, 1, 2, 3, 4, 5, 6]\n",
    "t = list(range(0, 7))\n",
    "y = [1, 4, 5, 8,9, 5, 3]"
   ]
  },
  {
   "cell_type": "code",
   "execution_count": 523,
   "id": "09848c13-b52c-48e5-916b-2aa738f43820",
   "metadata": {},
   "outputs": [
    {
     "data": {
      "image/png": "[encoded data removed]",
      "text/plain": [
       "<Figure size 1000x600 with 1 Axes>"
      ]
     },
     "metadata": {},
     "output_type": "display_data"
    }
   ],
   "source": [
    "def drawGraph():\n",
    "    \n",
    "    plt.figure(figsize=(10, 6))\n",
    "    plt.plot(\n",
    "        t,\n",
    "        y,\n",
    "        color=\"red\",\n",
    "        linestyle=\"-\",\n",
    "        marker=\"o\",\n",
    "        markerfacecolor=\"green\",\n",
    "        markersize=30,\n",
    "    )\n",
    "    \n",
    "    plt.xlim([-0.5, 6.5])\n",
    "    plt.ylim([0.5, 9.5])\n",
    "    plt.show()\n",
    "\n",
    "drawGraph()"
   ]
  },
  {
   "cell_type": "markdown",
   "id": "9ec690b5-fff5-4e5d-8f12-084003f48013",
   "metadata": {},
   "source": [
    "### 예제3 : scatter plot"
   ]
  },
  {
   "cell_type": "code",
   "execution_count": 524,
   "id": "b6e08fe3-40d9-4629-b2f0-bacc06967ae3",
   "metadata": {},
   "outputs": [],
   "source": [
    "t = np.array(range(0, 10))\n",
    "y = np.array([9, 8, 7, 9, 8, 3, 2, 4, 3, 4])"
   ]
  },
  {
   "cell_type": "code",
   "execution_count": 525,
   "id": "e2d34644-ef2a-48b1-9dc6-8263b85b8740",
   "metadata": {},
   "outputs": [
    {
     "data": {
      "image/png": "[encoded data removed]",
      "text/plain": [
       "<Figure size 1000x600 with 1 Axes>"
      ]
     },
     "metadata": {},
     "output_type": "display_data"
    }
   ],
   "source": [
    "def drawGraph():\n",
    "    \n",
    "    plt.figure(figsize=(10, 6))\n",
    "    plt.scatter(t, y)\n",
    "    plt.show()\n",
    "\n",
    "drawGraph()"
   ]
  },
  {
   "cell_type": "code",
   "execution_count": 526,
   "id": "c2f51eb2-f769-4cb2-9604-517885168a98",
   "metadata": {},
   "outputs": [
    {
     "data": {
      "image/png": "[encoded data removed]",
      "text/plain": [
       "<Figure size 1000x600 with 2 Axes>"
      ]
     },
     "metadata": {},
     "output_type": "display_data"
    }
   ],
   "source": [
    "colormap = t\n",
    "\n",
    "def drawGraph():\n",
    "    \n",
    "    plt.figure(figsize=(10, 6))\n",
    "    plt.scatter(t, y, s=150, c=colormap, marker=\"<\")\n",
    "    plt.colorbar()\n",
    "    plt.show()\n",
    "\n",
    "drawGraph()"
   ]
  },
  {
   "cell_type": "markdown",
   "id": "1e69bd8d-dbd3-4663-a85d-4a341e430ef0",
   "metadata": {},
   "source": [
    "### 예제4: Pandas에서 plot 그리기\n",
    "- matplotlib을 가져와서 사용"
   ]
  },
  {
   "cell_type": "code",
   "execution_count": 527,
   "id": "85ec17b8-0cf9-42bb-9091-078cdd5c42a9",
   "metadata": {},
   "outputs": [
    {
     "data": {
      "text/html": [
       "<div>\n",
       "<style scoped>\n",
       "    .dataframe tbody tr th:only-of-type {\n",
       "        vertical-align: middle;\n",
       "    }\n",
       "\n",
       "    .dataframe tbody tr th {\n",
       "        vertical-align: top;\n",
       "    }\n",
       "\n",
       "    .dataframe thead th {\n",
       "        text-align: right;\n",
       "    }\n",
       "</style>\n",
       "<table border=\"1\" class=\"dataframe\">\n",
       "  <thead>\n",
       "    <tr style=\"text-align: right;\">\n",
       "      <th></th>\n",
       "      <th>소계</th>\n",
       "      <th>최근증가율</th>\n",
       "      <th>인구수</th>\n",
       "      <th>한국인</th>\n",
       "      <th>외국인</th>\n",
       "      <th>고령자</th>\n",
       "      <th>외국인비율</th>\n",
       "      <th>고령자비율</th>\n",
       "      <th>CCTV비율</th>\n",
       "    </tr>\n",
       "    <tr>\n",
       "      <th>구별</th>\n",
       "      <th></th>\n",
       "      <th></th>\n",
       "      <th></th>\n",
       "      <th></th>\n",
       "      <th></th>\n",
       "      <th></th>\n",
       "      <th></th>\n",
       "      <th></th>\n",
       "      <th></th>\n",
       "    </tr>\n",
       "  </thead>\n",
       "  <tbody>\n",
       "    <tr>\n",
       "      <th>강남구</th>\n",
       "      <td>3238</td>\n",
       "      <td>150.619195</td>\n",
       "      <td>562136</td>\n",
       "      <td>556570</td>\n",
       "      <td>5566</td>\n",
       "      <td>89719</td>\n",
       "      <td>0.990152</td>\n",
       "      <td>15.960373</td>\n",
       "      <td>0.576017</td>\n",
       "    </tr>\n",
       "    <tr>\n",
       "      <th>강동구</th>\n",
       "      <td>1010</td>\n",
       "      <td>166.490765</td>\n",
       "      <td>466924</td>\n",
       "      <td>462646</td>\n",
       "      <td>4278</td>\n",
       "      <td>85571</td>\n",
       "      <td>0.916209</td>\n",
       "      <td>18.326537</td>\n",
       "      <td>0.216309</td>\n",
       "    </tr>\n",
       "    <tr>\n",
       "      <th>강북구</th>\n",
       "      <td>831</td>\n",
       "      <td>125.203252</td>\n",
       "      <td>290252</td>\n",
       "      <td>285054</td>\n",
       "      <td>5198</td>\n",
       "      <td>69922</td>\n",
       "      <td>1.790858</td>\n",
       "      <td>24.090101</td>\n",
       "      <td>0.286303</td>\n",
       "    </tr>\n",
       "    <tr>\n",
       "      <th>강서구</th>\n",
       "      <td>911</td>\n",
       "      <td>134.793814</td>\n",
       "      <td>565133</td>\n",
       "      <td>559335</td>\n",
       "      <td>5798</td>\n",
       "      <td>105023</td>\n",
       "      <td>1.025953</td>\n",
       "      <td>18.583767</td>\n",
       "      <td>0.161201</td>\n",
       "    </tr>\n",
       "    <tr>\n",
       "      <th>관악구</th>\n",
       "      <td>2109</td>\n",
       "      <td>149.290780</td>\n",
       "      <td>497632</td>\n",
       "      <td>481145</td>\n",
       "      <td>16487</td>\n",
       "      <td>87267</td>\n",
       "      <td>3.313091</td>\n",
       "      <td>17.536453</td>\n",
       "      <td>0.423807</td>\n",
       "    </tr>\n",
       "  </tbody>\n",
       "</table>\n",
       "</div>"
      ],
      "text/plain": [
       "       소계       최근증가율     인구수     한국인    외국인     고령자     외국인비율      고령자비율  \\\n",
       "구별                                                                          \n",
       "강남구  3238  150.619195  562136  556570   5566   89719  0.990152  15.960373   \n",
       "강동구  1010  166.490765  466924  462646   4278   85571  0.916209  18.326537   \n",
       "강북구   831  125.203252  290252  285054   5198   69922  1.790858  24.090101   \n",
       "강서구   911  134.793814  565133  559335   5798  105023  1.025953  18.583767   \n",
       "관악구  2109  149.290780  497632  481145  16487   87267  3.313091  17.536453   \n",
       "\n",
       "       CCTV비율  \n",
       "구별             \n",
       "강남구  0.576017  \n",
       "강동구  0.216309  \n",
       "강북구  0.286303  \n",
       "강서구  0.161201  \n",
       "관악구  0.423807  "
      ]
     },
     "execution_count": 527,
     "metadata": {},
     "output_type": "execute_result"
    }
   ],
   "source": [
    "data_result.head()"
   ]
  },
  {
   "cell_type": "code",
   "execution_count": 528,
   "id": "6e1c3863-b959-4975-9b84-9527857262dd",
   "metadata": {},
   "outputs": [
    {
     "data": {
      "text/plain": [
       "<Axes: xlabel='구별'>"
      ]
     },
     "execution_count": 528,
     "metadata": {},
     "output_type": "execute_result"
    },
    {
     "data": {
      "image/png": "[encoded data removed]",
      "text/plain": [
       "<Figure size 1000x1000 with 1 Axes>"
      ]
     },
     "metadata": {},
     "output_type": "display_data"
    }
   ],
   "source": [
    "data_result[\"인구수\"].plot(kind=\"bar\", figsize=(10, 10))"
   ]
  },
  {
   "cell_type": "code",
   "execution_count": 529,
   "id": "d000f504-c6af-4c18-92af-9a8d13ef1c99",
   "metadata": {},
   "outputs": [
    {
     "data": {
      "text/plain": [
       "<Axes: ylabel='구별'>"
      ]
     },
     "execution_count": 529,
     "metadata": {},
     "output_type": "execute_result"
    },
    {
     "data": {
      "image/png": "[encoded data removed]",
      "text/plain": [
       "<Figure size 1000x1000 with 1 Axes>"
      ]
     },
     "metadata": {},
     "output_type": "display_data"
    }
   ],
   "source": [
    "data_result[\"인구수\"].plot(kind=\"barh\", figsize=(10, 10))"
   ]
  },
  {
   "cell_type": "code",
   "execution_count": 530,
   "id": "abb60ac3-d0b1-4021-9ad0-df92d88101d9",
   "metadata": {},
   "outputs": [],
   "source": [
    "import matplotlib.pyplot as plt\n",
    "# import matplotlib as npl\n",
    "from matplotlib import rc\n",
    "\n",
    "plt.rcParams[\"axes.unicode_minus\"] = False # 마이너스 부호 때문에 한글이 꺠질 수가 있어서 주는 설정\n",
    "rc(\"font\", family=\"Malgun Gothic\")\n",
    "# %matplotlib inline\n",
    "get_ipython().run_line_magic(\"matplotlib\", \"inline\")"
   ]
  },
  {
   "cell_type": "code",
   "execution_count": 531,
   "id": "50c1effd-16b0-4f96-8213-bd60beb12e02",
   "metadata": {},
   "outputs": [
    {
     "data": {
      "text/html": [
       "<div>\n",
       "<style scoped>\n",
       "    .dataframe tbody tr th:only-of-type {\n",
       "        vertical-align: middle;\n",
       "    }\n",
       "\n",
       "    .dataframe tbody tr th {\n",
       "        vertical-align: top;\n",
       "    }\n",
       "\n",
       "    .dataframe thead th {\n",
       "        text-align: right;\n",
       "    }\n",
       "</style>\n",
       "<table border=\"1\" class=\"dataframe\">\n",
       "  <thead>\n",
       "    <tr style=\"text-align: right;\">\n",
       "      <th></th>\n",
       "      <th>소계</th>\n",
       "      <th>최근증가율</th>\n",
       "      <th>인구수</th>\n",
       "      <th>한국인</th>\n",
       "      <th>외국인</th>\n",
       "      <th>고령자</th>\n",
       "      <th>외국인비율</th>\n",
       "      <th>고령자비율</th>\n",
       "      <th>CCTV비율</th>\n",
       "    </tr>\n",
       "    <tr>\n",
       "      <th>구별</th>\n",
       "      <th></th>\n",
       "      <th></th>\n",
       "      <th></th>\n",
       "      <th></th>\n",
       "      <th></th>\n",
       "      <th></th>\n",
       "      <th></th>\n",
       "      <th></th>\n",
       "      <th></th>\n",
       "    </tr>\n",
       "  </thead>\n",
       "  <tbody>\n",
       "    <tr>\n",
       "      <th>강남구</th>\n",
       "      <td>3238</td>\n",
       "      <td>150.619195</td>\n",
       "      <td>562136</td>\n",
       "      <td>556570</td>\n",
       "      <td>5566</td>\n",
       "      <td>89719</td>\n",
       "      <td>0.990152</td>\n",
       "      <td>15.960373</td>\n",
       "      <td>0.576017</td>\n",
       "    </tr>\n",
       "    <tr>\n",
       "      <th>강동구</th>\n",
       "      <td>1010</td>\n",
       "      <td>166.490765</td>\n",
       "      <td>466924</td>\n",
       "      <td>462646</td>\n",
       "      <td>4278</td>\n",
       "      <td>85571</td>\n",
       "      <td>0.916209</td>\n",
       "      <td>18.326537</td>\n",
       "      <td>0.216309</td>\n",
       "    </tr>\n",
       "    <tr>\n",
       "      <th>강북구</th>\n",
       "      <td>831</td>\n",
       "      <td>125.203252</td>\n",
       "      <td>290252</td>\n",
       "      <td>285054</td>\n",
       "      <td>5198</td>\n",
       "      <td>69922</td>\n",
       "      <td>1.790858</td>\n",
       "      <td>24.090101</td>\n",
       "      <td>0.286303</td>\n",
       "    </tr>\n",
       "    <tr>\n",
       "      <th>강서구</th>\n",
       "      <td>911</td>\n",
       "      <td>134.793814</td>\n",
       "      <td>565133</td>\n",
       "      <td>559335</td>\n",
       "      <td>5798</td>\n",
       "      <td>105023</td>\n",
       "      <td>1.025953</td>\n",
       "      <td>18.583767</td>\n",
       "      <td>0.161201</td>\n",
       "    </tr>\n",
       "    <tr>\n",
       "      <th>관악구</th>\n",
       "      <td>2109</td>\n",
       "      <td>149.290780</td>\n",
       "      <td>497632</td>\n",
       "      <td>481145</td>\n",
       "      <td>16487</td>\n",
       "      <td>87267</td>\n",
       "      <td>3.313091</td>\n",
       "      <td>17.536453</td>\n",
       "      <td>0.423807</td>\n",
       "    </tr>\n",
       "  </tbody>\n",
       "</table>\n",
       "</div>"
      ],
      "text/plain": [
       "       소계       최근증가율     인구수     한국인    외국인     고령자     외국인비율      고령자비율  \\\n",
       "구별                                                                          \n",
       "강남구  3238  150.619195  562136  556570   5566   89719  0.990152  15.960373   \n",
       "강동구  1010  166.490765  466924  462646   4278   85571  0.916209  18.326537   \n",
       "강북구   831  125.203252  290252  285054   5198   69922  1.790858  24.090101   \n",
       "강서구   911  134.793814  565133  559335   5798  105023  1.025953  18.583767   \n",
       "관악구  2109  149.290780  497632  481145  16487   87267  3.313091  17.536453   \n",
       "\n",
       "       CCTV비율  \n",
       "구별             \n",
       "강남구  0.576017  \n",
       "강동구  0.216309  \n",
       "강북구  0.286303  \n",
       "강서구  0.161201  \n",
       "관악구  0.423807  "
      ]
     },
     "execution_count": 531,
     "metadata": {},
     "output_type": "execute_result"
    }
   ],
   "source": [
    "data_result.head()"
   ]
  },
  {
   "cell_type": "markdown",
   "id": "07abb35b-b197-4ef0-8ae8-90653668dba1",
   "metadata": {},
   "source": [
    "#### 소개 컬럼 시각화"
   ]
  },
  {
   "cell_type": "code",
   "execution_count": 532,
   "id": "086c5c7c-1e8f-4a27-9be6-7431a7e8d744",
   "metadata": {},
   "outputs": [
    {
     "data": {
      "image/png": "[encoded data removed]",
      "text/plain": [
       "<Figure size 1000x1000 with 1 Axes>"
      ]
     },
     "metadata": {},
     "output_type": "display_data"
    }
   ],
   "source": [
    "data_result[\"소계\"].plot(kind=\"barh\", grid=True, figsize=(10, 10));"
   ]
  },
  {
   "cell_type": "code",
   "execution_count": 533,
   "id": "6eaf0ce0-997f-447c-a743-4aa4bc4c5aeb",
   "metadata": {},
   "outputs": [
    {
     "data": {
      "image/png": "[encoded data removed]",
      "text/plain": [
       "<Figure size 1000x1000 with 1 Axes>"
      ]
     },
     "metadata": {},
     "output_type": "display_data"
    }
   ],
   "source": [
    "def drawGraph():\n",
    "    data_result[\"소계\"].sort_values().plot(\n",
    "        kind=\"barh\", grid=True, title=\"가장 CCTV가 많은 구\", figsize=(10, 10));\n",
    "drawGraph()    "
   ]
  },
  {
   "cell_type": "code",
   "execution_count": 534,
   "id": "5831d546-8b3f-46e2-91e7-dee37399e12a",
   "metadata": {},
   "outputs": [
    {
     "data": {
      "text/html": [
       "<div>\n",
       "<style scoped>\n",
       "    .dataframe tbody tr th:only-of-type {\n",
       "        vertical-align: middle;\n",
       "    }\n",
       "\n",
       "    .dataframe tbody tr th {\n",
       "        vertical-align: top;\n",
       "    }\n",
       "\n",
       "    .dataframe thead th {\n",
       "        text-align: right;\n",
       "    }\n",
       "</style>\n",
       "<table border=\"1\" class=\"dataframe\">\n",
       "  <thead>\n",
       "    <tr style=\"text-align: right;\">\n",
       "      <th></th>\n",
       "      <th>소계</th>\n",
       "      <th>최근증가율</th>\n",
       "      <th>인구수</th>\n",
       "      <th>한국인</th>\n",
       "      <th>외국인</th>\n",
       "      <th>고령자</th>\n",
       "      <th>외국인비율</th>\n",
       "      <th>고령자비율</th>\n",
       "      <th>CCTV비율</th>\n",
       "    </tr>\n",
       "    <tr>\n",
       "      <th>구별</th>\n",
       "      <th></th>\n",
       "      <th></th>\n",
       "      <th></th>\n",
       "      <th></th>\n",
       "      <th></th>\n",
       "      <th></th>\n",
       "      <th></th>\n",
       "      <th></th>\n",
       "      <th></th>\n",
       "    </tr>\n",
       "  </thead>\n",
       "  <tbody>\n",
       "    <tr>\n",
       "      <th>강남구</th>\n",
       "      <td>3238</td>\n",
       "      <td>150.619195</td>\n",
       "      <td>562136</td>\n",
       "      <td>556570</td>\n",
       "      <td>5566</td>\n",
       "      <td>89719</td>\n",
       "      <td>0.990152</td>\n",
       "      <td>15.960373</td>\n",
       "      <td>0.576017</td>\n",
       "    </tr>\n",
       "    <tr>\n",
       "      <th>강동구</th>\n",
       "      <td>1010</td>\n",
       "      <td>166.490765</td>\n",
       "      <td>466924</td>\n",
       "      <td>462646</td>\n",
       "      <td>4278</td>\n",
       "      <td>85571</td>\n",
       "      <td>0.916209</td>\n",
       "      <td>18.326537</td>\n",
       "      <td>0.216309</td>\n",
       "    </tr>\n",
       "    <tr>\n",
       "      <th>강북구</th>\n",
       "      <td>831</td>\n",
       "      <td>125.203252</td>\n",
       "      <td>290252</td>\n",
       "      <td>285054</td>\n",
       "      <td>5198</td>\n",
       "      <td>69922</td>\n",
       "      <td>1.790858</td>\n",
       "      <td>24.090101</td>\n",
       "      <td>0.286303</td>\n",
       "    </tr>\n",
       "    <tr>\n",
       "      <th>강서구</th>\n",
       "      <td>911</td>\n",
       "      <td>134.793814</td>\n",
       "      <td>565133</td>\n",
       "      <td>559335</td>\n",
       "      <td>5798</td>\n",
       "      <td>105023</td>\n",
       "      <td>1.025953</td>\n",
       "      <td>18.583767</td>\n",
       "      <td>0.161201</td>\n",
       "    </tr>\n",
       "    <tr>\n",
       "      <th>관악구</th>\n",
       "      <td>2109</td>\n",
       "      <td>149.290780</td>\n",
       "      <td>497632</td>\n",
       "      <td>481145</td>\n",
       "      <td>16487</td>\n",
       "      <td>87267</td>\n",
       "      <td>3.313091</td>\n",
       "      <td>17.536453</td>\n",
       "      <td>0.423807</td>\n",
       "    </tr>\n",
       "  </tbody>\n",
       "</table>\n",
       "</div>"
      ],
      "text/plain": [
       "       소계       최근증가율     인구수     한국인    외국인     고령자     외국인비율      고령자비율  \\\n",
       "구별                                                                          \n",
       "강남구  3238  150.619195  562136  556570   5566   89719  0.990152  15.960373   \n",
       "강동구  1010  166.490765  466924  462646   4278   85571  0.916209  18.326537   \n",
       "강북구   831  125.203252  290252  285054   5198   69922  1.790858  24.090101   \n",
       "강서구   911  134.793814  565133  559335   5798  105023  1.025953  18.583767   \n",
       "관악구  2109  149.290780  497632  481145  16487   87267  3.313091  17.536453   \n",
       "\n",
       "       CCTV비율  \n",
       "구별             \n",
       "강남구  0.576017  \n",
       "강동구  0.216309  \n",
       "강북구  0.286303  \n",
       "강서구  0.161201  \n",
       "관악구  0.423807  "
      ]
     },
     "execution_count": 534,
     "metadata": {},
     "output_type": "execute_result"
    }
   ],
   "source": [
    "data_result.head()"
   ]
  },
  {
   "cell_type": "code",
   "execution_count": 535,
   "id": "aec5a2fb-f247-4e67-8b48-dd9f642c1a0f",
   "metadata": {},
   "outputs": [
    {
     "data": {
      "image/png": "[encoded data removed]",
      "text/plain": [
       "<Figure size 1000x1000 with 1 Axes>"
      ]
     },
     "metadata": {},
     "output_type": "display_data"
    }
   ],
   "source": [
    "def drawGraph():\n",
    "    data_result[\"CCTV비율\"].sort_values().plot(\n",
    "        kind=\"barh\", grid=True, title=\"가장 CCTV가 많은 구\", figsize=(10, 10));\n",
    "drawGraph()    "
   ]
  },
  {
   "cell_type": "markdown",
   "id": "4a938f2d-5fa9-43ff-acaa-18d0c0dffc27",
   "metadata": {},
   "source": [
    "---\n",
    "\n",
    "## 6. 데이터 경향 표시"
   ]
  },
  {
   "cell_type": "code",
   "execution_count": 536,
   "id": "abd18d1f-2a33-402b-9db0-f5f73552b28c",
   "metadata": {},
   "outputs": [
    {
     "data": {
      "text/html": [
       "<div>\n",
       "<style scoped>\n",
       "    .dataframe tbody tr th:only-of-type {\n",
       "        vertical-align: middle;\n",
       "    }\n",
       "\n",
       "    .dataframe tbody tr th {\n",
       "        vertical-align: top;\n",
       "    }\n",
       "\n",
       "    .dataframe thead th {\n",
       "        text-align: right;\n",
       "    }\n",
       "</style>\n",
       "<table border=\"1\" class=\"dataframe\">\n",
       "  <thead>\n",
       "    <tr style=\"text-align: right;\">\n",
       "      <th></th>\n",
       "      <th>소계</th>\n",
       "      <th>최근증가율</th>\n",
       "      <th>인구수</th>\n",
       "      <th>한국인</th>\n",
       "      <th>외국인</th>\n",
       "      <th>고령자</th>\n",
       "      <th>외국인비율</th>\n",
       "      <th>고령자비율</th>\n",
       "      <th>CCTV비율</th>\n",
       "    </tr>\n",
       "    <tr>\n",
       "      <th>구별</th>\n",
       "      <th></th>\n",
       "      <th></th>\n",
       "      <th></th>\n",
       "      <th></th>\n",
       "      <th></th>\n",
       "      <th></th>\n",
       "      <th></th>\n",
       "      <th></th>\n",
       "      <th></th>\n",
       "    </tr>\n",
       "  </thead>\n",
       "  <tbody>\n",
       "    <tr>\n",
       "      <th>강남구</th>\n",
       "      <td>3238</td>\n",
       "      <td>150.619195</td>\n",
       "      <td>562136</td>\n",
       "      <td>556570</td>\n",
       "      <td>5566</td>\n",
       "      <td>89719</td>\n",
       "      <td>0.990152</td>\n",
       "      <td>15.960373</td>\n",
       "      <td>0.576017</td>\n",
       "    </tr>\n",
       "    <tr>\n",
       "      <th>강동구</th>\n",
       "      <td>1010</td>\n",
       "      <td>166.490765</td>\n",
       "      <td>466924</td>\n",
       "      <td>462646</td>\n",
       "      <td>4278</td>\n",
       "      <td>85571</td>\n",
       "      <td>0.916209</td>\n",
       "      <td>18.326537</td>\n",
       "      <td>0.216309</td>\n",
       "    </tr>\n",
       "    <tr>\n",
       "      <th>강북구</th>\n",
       "      <td>831</td>\n",
       "      <td>125.203252</td>\n",
       "      <td>290252</td>\n",
       "      <td>285054</td>\n",
       "      <td>5198</td>\n",
       "      <td>69922</td>\n",
       "      <td>1.790858</td>\n",
       "      <td>24.090101</td>\n",
       "      <td>0.286303</td>\n",
       "    </tr>\n",
       "    <tr>\n",
       "      <th>강서구</th>\n",
       "      <td>911</td>\n",
       "      <td>134.793814</td>\n",
       "      <td>565133</td>\n",
       "      <td>559335</td>\n",
       "      <td>5798</td>\n",
       "      <td>105023</td>\n",
       "      <td>1.025953</td>\n",
       "      <td>18.583767</td>\n",
       "      <td>0.161201</td>\n",
       "    </tr>\n",
       "    <tr>\n",
       "      <th>관악구</th>\n",
       "      <td>2109</td>\n",
       "      <td>149.290780</td>\n",
       "      <td>497632</td>\n",
       "      <td>481145</td>\n",
       "      <td>16487</td>\n",
       "      <td>87267</td>\n",
       "      <td>3.313091</td>\n",
       "      <td>17.536453</td>\n",
       "      <td>0.423807</td>\n",
       "    </tr>\n",
       "  </tbody>\n",
       "</table>\n",
       "</div>"
      ],
      "text/plain": [
       "       소계       최근증가율     인구수     한국인    외국인     고령자     외국인비율      고령자비율  \\\n",
       "구별                                                                          \n",
       "강남구  3238  150.619195  562136  556570   5566   89719  0.990152  15.960373   \n",
       "강동구  1010  166.490765  466924  462646   4278   85571  0.916209  18.326537   \n",
       "강북구   831  125.203252  290252  285054   5198   69922  1.790858  24.090101   \n",
       "강서구   911  134.793814  565133  559335   5798  105023  1.025953  18.583767   \n",
       "관악구  2109  149.290780  497632  481145  16487   87267  3.313091  17.536453   \n",
       "\n",
       "       CCTV비율  \n",
       "구별             \n",
       "강남구  0.576017  \n",
       "강동구  0.216309  \n",
       "강북구  0.286303  \n",
       "강서구  0.161201  \n",
       "관악구  0.423807  "
      ]
     },
     "execution_count": 536,
     "metadata": {},
     "output_type": "execute_result"
    }
   ],
   "source": [
    "data_result.head()"
   ]
  },
  {
   "cell_type": "markdown",
   "id": "bfb35ab3-ca93-440a-82f6-eb7dd9f2db02",
   "metadata": {},
   "source": [
    "#### 인구수와 소계 컬럼으로 scatter plot 그리기"
   ]
  },
  {
   "cell_type": "code",
   "execution_count": 537,
   "id": "60b38c78-a09e-494e-8951-ed15328b2b9c",
   "metadata": {},
   "outputs": [
    {
     "data": {
      "image/png": "[encoded data removed]",
      "text/plain": [
       "<Figure size 1400x1000 with 1 Axes>"
      ]
     },
     "metadata": {},
     "output_type": "display_data"
    }
   ],
   "source": [
    "def drawGraph():\n",
    "    plt.figure(figsize=(14, 10))\n",
    "    plt.scatter(data_result[\"인구수\"], data_result[\"소계\"], s=50)\n",
    "    plt.xlabel(\"인구수\")\n",
    "    plt.ylabel(\"CCTV\")\n",
    "    plt.grid()\n",
    "    plt.show()\n",
    "drawGraph()"
   ]
  },
  {
   "cell_type": "markdown",
   "id": "ca67a558-71dd-4aae-9c17-20dde8909904",
   "metadata": {},
   "source": [
    "#### Numpy를 이용한 1차 직선 만들기\n",
    "- np.polyfit(): 직선을 구성하기 위한 계수를 계산\n",
    "- np.poly1d(): polyfit으로 찾은 계수로 python에서 사용할 수 있는 함수로 만들어주는 기능"
   ]
  },
  {
   "cell_type": "code",
   "execution_count": 538,
   "id": "7d7313d3-93ab-4bec-8f10-52067c84266d",
   "metadata": {},
   "outputs": [],
   "source": [
    "import numpy as np"
   ]
  },
  {
   "cell_type": "code",
   "execution_count": 539,
   "id": "c431bb8a-33f2-4a83-b9c5-c7e16a40329d",
   "metadata": {},
   "outputs": [
    {
     "data": {
      "text/plain": [
       "array([1.15351405e-03, 1.07145421e+03])"
      ]
     },
     "execution_count": 539,
     "metadata": {},
     "output_type": "execute_result"
    }
   ],
   "source": [
    "fp1 = np.polyfit(data_result[\"인구수\"], data_result[\"소계\"], 1)\n",
    "fp1"
   ]
  },
  {
   "cell_type": "code",
   "execution_count": 540,
   "id": "6819041b-ca08-4b5a-9aba-2fa90219516f",
   "metadata": {},
   "outputs": [
    {
     "data": {
      "text/plain": [
       "poly1d([1.15351405e-03, 1.07145421e+03])"
      ]
     },
     "execution_count": 540,
     "metadata": {},
     "output_type": "execute_result"
    }
   ],
   "source": [
    "f1 = np.poly1d(fp1)\n",
    "f1"
   ]
  },
  {
   "cell_type": "code",
   "execution_count": 541,
   "id": "39513ddd-b6e6-4951-b3c2-c815bdc81958",
   "metadata": {},
   "outputs": [
    {
     "data": {
      "text/plain": [
       "1532.8598270967202"
      ]
     },
     "execution_count": 541,
     "metadata": {},
     "output_type": "execute_result"
    }
   ],
   "source": [
    "f1(400000)"
   ]
  },
  {
   "cell_type": "markdown",
   "id": "9a26f71b-abf7-47d2-ae61-489978bd8e17",
   "metadata": {},
   "source": [
    "- 인구가 40만인 구에서 서울시의 전체 경향에 맞는 적당한 CCTV 수는?"
   ]
  },
  {
   "cell_type": "code",
   "execution_count": 542,
   "id": "ffc4906b-b576-4fe1-b939-f0724ce01025",
   "metadata": {},
   "outputs": [],
   "source": [
    "fx = np.linspace(100000, 700000, 100)"
   ]
  },
  {
   "cell_type": "markdown",
   "id": "f7fa27fa-f521-4fcf-8762-b85906cc81dc",
   "metadata": {},
   "source": [
    "- 경향선을 그리기 위한 x 데이터 생성\n",
    "- np.linspace(a, b, n): a부터 b까지 n개의 동간격 데이터 생성"
   ]
  },
  {
   "cell_type": "code",
   "execution_count": 543,
   "id": "8714431e-0858-4d27-9cae-d687a3208c71",
   "metadata": {},
   "outputs": [
    {
     "data": {
      "image/png": "[encoded data removed]",
      "text/plain": [
       "<Figure size 1400x1000 with 1 Axes>"
      ]
     },
     "metadata": {},
     "output_type": "display_data"
    }
   ],
   "source": [
    "def drawGraph():\n",
    "    plt.figure(figsize=(14, 10))\n",
    "    plt.scatter(data_result[\"인구수\"], data_result[\"소계\"], s=50)\n",
    "    plt.plot(fx, f1(fx), ls=\"dashed\", lw=3, color=\"g\")\n",
    "    plt.xlabel(\"인구수\")\n",
    "    plt.ylabel(\"CCTV\")\n",
    "    plt.grid()\n",
    "    plt.show()\n",
    "drawGraph()"
   ]
  },
  {
   "cell_type": "markdown",
   "id": "daaa2063-a678-4b39-9ab8-f54475b1f9c3",
   "metadata": {},
   "source": [
    "---\n",
    "\n",
    "## 7. 강조하고 싶은 데이터를 시각화 해보자"
   ]
  },
  {
   "cell_type": "markdown",
   "id": "e8720be2-0ac8-45da-b4c7-e241d9f3e622",
   "metadata": {},
   "source": [
    "### 그래프 다듬기\n",
    "#### 경향과의 오차 만들기\n",
    "- 경향[trend]과의 오차 만들기\n",
    "- 경향은 f1 함수에 해당 인구를 입력\n",
    "- f1(data_result[\"인구수\"])"
   ]
  },
  {
   "cell_type": "code",
   "execution_count": 544,
   "id": "35f7102d-626e-42a1-9b1c-f9df7abe392c",
   "metadata": {},
   "outputs": [],
   "source": [
    "fp1 = np.polyfit(data_result[\"인구수\"], data_result[\"소계\"], 1)\n",
    "f1 = np.poly1d(fp1)\n",
    "fx = np.linspace(100000, 700000, 100)"
   ]
  },
  {
   "cell_type": "code",
   "execution_count": 545,
   "id": "ac0089cf-41ca-4a9c-9682-708b5c42f5b2",
   "metadata": {},
   "outputs": [
    {
     "data": {
      "text/html": [
       "<div>\n",
       "<style scoped>\n",
       "    .dataframe tbody tr th:only-of-type {\n",
       "        vertical-align: middle;\n",
       "    }\n",
       "\n",
       "    .dataframe tbody tr th {\n",
       "        vertical-align: top;\n",
       "    }\n",
       "\n",
       "    .dataframe thead th {\n",
       "        text-align: right;\n",
       "    }\n",
       "</style>\n",
       "<table border=\"1\" class=\"dataframe\">\n",
       "  <thead>\n",
       "    <tr style=\"text-align: right;\">\n",
       "      <th></th>\n",
       "      <th>소계</th>\n",
       "      <th>최근증가율</th>\n",
       "      <th>인구수</th>\n",
       "      <th>한국인</th>\n",
       "      <th>외국인</th>\n",
       "      <th>고령자</th>\n",
       "      <th>외국인비율</th>\n",
       "      <th>고령자비율</th>\n",
       "      <th>CCTV비율</th>\n",
       "    </tr>\n",
       "    <tr>\n",
       "      <th>구별</th>\n",
       "      <th></th>\n",
       "      <th></th>\n",
       "      <th></th>\n",
       "      <th></th>\n",
       "      <th></th>\n",
       "      <th></th>\n",
       "      <th></th>\n",
       "      <th></th>\n",
       "      <th></th>\n",
       "    </tr>\n",
       "  </thead>\n",
       "  <tbody>\n",
       "    <tr>\n",
       "      <th>강남구</th>\n",
       "      <td>3238</td>\n",
       "      <td>150.619195</td>\n",
       "      <td>562136</td>\n",
       "      <td>556570</td>\n",
       "      <td>5566</td>\n",
       "      <td>89719</td>\n",
       "      <td>0.990152</td>\n",
       "      <td>15.960373</td>\n",
       "      <td>0.576017</td>\n",
       "    </tr>\n",
       "    <tr>\n",
       "      <th>강동구</th>\n",
       "      <td>1010</td>\n",
       "      <td>166.490765</td>\n",
       "      <td>466924</td>\n",
       "      <td>462646</td>\n",
       "      <td>4278</td>\n",
       "      <td>85571</td>\n",
       "      <td>0.916209</td>\n",
       "      <td>18.326537</td>\n",
       "      <td>0.216309</td>\n",
       "    </tr>\n",
       "    <tr>\n",
       "      <th>강북구</th>\n",
       "      <td>831</td>\n",
       "      <td>125.203252</td>\n",
       "      <td>290252</td>\n",
       "      <td>285054</td>\n",
       "      <td>5198</td>\n",
       "      <td>69922</td>\n",
       "      <td>1.790858</td>\n",
       "      <td>24.090101</td>\n",
       "      <td>0.286303</td>\n",
       "    </tr>\n",
       "  </tbody>\n",
       "</table>\n",
       "</div>"
      ],
      "text/plain": [
       "       소계       최근증가율     인구수     한국인   외국인    고령자     외국인비율      고령자비율  \\\n",
       "구별                                                                        \n",
       "강남구  3238  150.619195  562136  556570  5566  89719  0.990152  15.960373   \n",
       "강동구  1010  166.490765  466924  462646  4278  85571  0.916209  18.326537   \n",
       "강북구   831  125.203252  290252  285054  5198  69922  1.790858  24.090101   \n",
       "\n",
       "       CCTV비율  \n",
       "구별             \n",
       "강남구  0.576017  \n",
       "강동구  0.216309  \n",
       "강북구  0.286303  "
      ]
     },
     "execution_count": 545,
     "metadata": {},
     "output_type": "execute_result"
    }
   ],
   "source": [
    "data_result.head(3)"
   ]
  },
  {
   "cell_type": "code",
   "execution_count": 546,
   "id": "92cb7a14-b427-48d5-8ab7-04fdeef2f2ff",
   "metadata": {},
   "outputs": [],
   "source": [
    "data_result[\"오차\"] = data_result[\"소계\"] - f1(data_result[\"인구수\"])"
   ]
  },
  {
   "cell_type": "code",
   "execution_count": 547,
   "id": "8c9bc2c5-ab05-4b5e-960c-54f272c3e18e",
   "metadata": {},
   "outputs": [
    {
     "data": {
      "text/html": [
       "<div>\n",
       "<style scoped>\n",
       "    .dataframe tbody tr th:only-of-type {\n",
       "        vertical-align: middle;\n",
       "    }\n",
       "\n",
       "    .dataframe tbody tr th {\n",
       "        vertical-align: top;\n",
       "    }\n",
       "\n",
       "    .dataframe thead th {\n",
       "        text-align: right;\n",
       "    }\n",
       "</style>\n",
       "<table border=\"1\" class=\"dataframe\">\n",
       "  <thead>\n",
       "    <tr style=\"text-align: right;\">\n",
       "      <th></th>\n",
       "      <th>소계</th>\n",
       "      <th>최근증가율</th>\n",
       "      <th>인구수</th>\n",
       "      <th>한국인</th>\n",
       "      <th>외국인</th>\n",
       "      <th>고령자</th>\n",
       "      <th>외국인비율</th>\n",
       "      <th>고령자비율</th>\n",
       "      <th>CCTV비율</th>\n",
       "      <th>오차</th>\n",
       "    </tr>\n",
       "    <tr>\n",
       "      <th>구별</th>\n",
       "      <th></th>\n",
       "      <th></th>\n",
       "      <th></th>\n",
       "      <th></th>\n",
       "      <th></th>\n",
       "      <th></th>\n",
       "      <th></th>\n",
       "      <th></th>\n",
       "      <th></th>\n",
       "      <th></th>\n",
       "    </tr>\n",
       "  </thead>\n",
       "  <tbody>\n",
       "    <tr>\n",
       "      <th>강남구</th>\n",
       "      <td>3238</td>\n",
       "      <td>150.619195</td>\n",
       "      <td>562136</td>\n",
       "      <td>556570</td>\n",
       "      <td>5566</td>\n",
       "      <td>89719</td>\n",
       "      <td>0.990152</td>\n",
       "      <td>15.960373</td>\n",
       "      <td>0.576017</td>\n",
       "      <td>1518.114019</td>\n",
       "    </tr>\n",
       "  </tbody>\n",
       "</table>\n",
       "</div>"
      ],
      "text/plain": [
       "       소계       최근증가율     인구수     한국인   외국인    고령자     외국인비율      고령자비율  \\\n",
       "구별                                                                        \n",
       "강남구  3238  150.619195  562136  556570  5566  89719  0.990152  15.960373   \n",
       "\n",
       "       CCTV비율           오차  \n",
       "구별                          \n",
       "강남구  0.576017  1518.114019  "
      ]
     },
     "execution_count": 547,
     "metadata": {},
     "output_type": "execute_result"
    }
   ],
   "source": [
    "data_result.head(1)"
   ]
  },
  {
   "cell_type": "code",
   "execution_count": 548,
   "id": "a095faca-bd75-4b82-b0ce-136b2371d34f",
   "metadata": {},
   "outputs": [],
   "source": [
    "# 경향과 베교해서 데이터의 오차가 너무 나는 데이터 계산\n",
    "\n",
    "df_sort_f = data_result.sort_values(by=\"오차\", ascending=False) # 내림차순\n",
    "df_sort_t = data_result.sort_values(by=\"오차\", ascending=True) # 오름차순"
   ]
  },
  {
   "cell_type": "code",
   "execution_count": 549,
   "id": "bbe62538-d3da-4a99-b616-0082e4d9c700",
   "metadata": {},
   "outputs": [
    {
     "data": {
      "text/html": [
       "<div>\n",
       "<style scoped>\n",
       "    .dataframe tbody tr th:only-of-type {\n",
       "        vertical-align: middle;\n",
       "    }\n",
       "\n",
       "    .dataframe tbody tr th {\n",
       "        vertical-align: top;\n",
       "    }\n",
       "\n",
       "    .dataframe thead th {\n",
       "        text-align: right;\n",
       "    }\n",
       "</style>\n",
       "<table border=\"1\" class=\"dataframe\">\n",
       "  <thead>\n",
       "    <tr style=\"text-align: right;\">\n",
       "      <th></th>\n",
       "      <th>소계</th>\n",
       "      <th>최근증가율</th>\n",
       "      <th>인구수</th>\n",
       "      <th>한국인</th>\n",
       "      <th>외국인</th>\n",
       "      <th>고령자</th>\n",
       "      <th>외국인비율</th>\n",
       "      <th>고령자비율</th>\n",
       "      <th>CCTV비율</th>\n",
       "      <th>오차</th>\n",
       "    </tr>\n",
       "    <tr>\n",
       "      <th>구별</th>\n",
       "      <th></th>\n",
       "      <th></th>\n",
       "      <th></th>\n",
       "      <th></th>\n",
       "      <th></th>\n",
       "      <th></th>\n",
       "      <th></th>\n",
       "      <th></th>\n",
       "      <th></th>\n",
       "      <th></th>\n",
       "    </tr>\n",
       "  </thead>\n",
       "  <tbody>\n",
       "    <tr>\n",
       "      <th>강남구</th>\n",
       "      <td>3238</td>\n",
       "      <td>150.619195</td>\n",
       "      <td>562136</td>\n",
       "      <td>556570</td>\n",
       "      <td>5566</td>\n",
       "      <td>89719</td>\n",
       "      <td>0.990152</td>\n",
       "      <td>15.960373</td>\n",
       "      <td>0.576017</td>\n",
       "      <td>1518.114019</td>\n",
       "    </tr>\n",
       "    <tr>\n",
       "      <th>양천구</th>\n",
       "      <td>2482</td>\n",
       "      <td>34.671731</td>\n",
       "      <td>436595</td>\n",
       "      <td>433307</td>\n",
       "      <td>3288</td>\n",
       "      <td>78399</td>\n",
       "      <td>0.753101</td>\n",
       "      <td>17.956917</td>\n",
       "      <td>0.568490</td>\n",
       "      <td>906.927326</td>\n",
       "    </tr>\n",
       "    <tr>\n",
       "      <th>용산구</th>\n",
       "      <td>2096</td>\n",
       "      <td>53.216374</td>\n",
       "      <td>219451</td>\n",
       "      <td>206061</td>\n",
       "      <td>13390</td>\n",
       "      <td>39021</td>\n",
       "      <td>6.101590</td>\n",
       "      <td>17.781190</td>\n",
       "      <td>0.955111</td>\n",
       "      <td>771.405981</td>\n",
       "    </tr>\n",
       "    <tr>\n",
       "      <th>서초구</th>\n",
       "      <td>2297</td>\n",
       "      <td>63.371266</td>\n",
       "      <td>411959</td>\n",
       "      <td>407404</td>\n",
       "      <td>4555</td>\n",
       "      <td>67191</td>\n",
       "      <td>1.105693</td>\n",
       "      <td>16.310118</td>\n",
       "      <td>0.557580</td>\n",
       "      <td>750.345298</td>\n",
       "    </tr>\n",
       "    <tr>\n",
       "      <th>은평구</th>\n",
       "      <td>2108</td>\n",
       "      <td>85.237258</td>\n",
       "      <td>468976</td>\n",
       "      <td>464738</td>\n",
       "      <td>4238</td>\n",
       "      <td>96177</td>\n",
       "      <td>0.903671</td>\n",
       "      <td>20.507872</td>\n",
       "      <td>0.449490</td>\n",
       "      <td>495.575388</td>\n",
       "    </tr>\n",
       "  </tbody>\n",
       "</table>\n",
       "</div>"
      ],
      "text/plain": [
       "       소계       최근증가율     인구수     한국인    외국인    고령자     외국인비율      고령자비율  \\\n",
       "구별                                                                         \n",
       "강남구  3238  150.619195  562136  556570   5566  89719  0.990152  15.960373   \n",
       "양천구  2482   34.671731  436595  433307   3288  78399  0.753101  17.956917   \n",
       "용산구  2096   53.216374  219451  206061  13390  39021  6.101590  17.781190   \n",
       "서초구  2297   63.371266  411959  407404   4555  67191  1.105693  16.310118   \n",
       "은평구  2108   85.237258  468976  464738   4238  96177  0.903671  20.507872   \n",
       "\n",
       "       CCTV비율           오차  \n",
       "구별                          \n",
       "강남구  0.576017  1518.114019  \n",
       "양천구  0.568490   906.927326  \n",
       "용산구  0.955111   771.405981  \n",
       "서초구  0.557580   750.345298  \n",
       "은평구  0.449490   495.575388  "
      ]
     },
     "execution_count": 549,
     "metadata": {},
     "output_type": "execute_result"
    }
   ],
   "source": [
    "# 경향 대비 CCTV를 많이 가진 구\n",
    "\n",
    "df_sort_f.head()"
   ]
  },
  {
   "cell_type": "code",
   "execution_count": 550,
   "id": "06bf419f-694a-42e8-9831-14e76c1a9475",
   "metadata": {},
   "outputs": [
    {
     "data": {
      "text/html": [
       "<div>\n",
       "<style scoped>\n",
       "    .dataframe tbody tr th:only-of-type {\n",
       "        vertical-align: middle;\n",
       "    }\n",
       "\n",
       "    .dataframe tbody tr th {\n",
       "        vertical-align: top;\n",
       "    }\n",
       "\n",
       "    .dataframe thead th {\n",
       "        text-align: right;\n",
       "    }\n",
       "</style>\n",
       "<table border=\"1\" class=\"dataframe\">\n",
       "  <thead>\n",
       "    <tr style=\"text-align: right;\">\n",
       "      <th></th>\n",
       "      <th>소계</th>\n",
       "      <th>최근증가율</th>\n",
       "      <th>인구수</th>\n",
       "      <th>한국인</th>\n",
       "      <th>외국인</th>\n",
       "      <th>고령자</th>\n",
       "      <th>외국인비율</th>\n",
       "      <th>고령자비율</th>\n",
       "      <th>CCTV비율</th>\n",
       "      <th>오차</th>\n",
       "    </tr>\n",
       "    <tr>\n",
       "      <th>구별</th>\n",
       "      <th></th>\n",
       "      <th></th>\n",
       "      <th></th>\n",
       "      <th></th>\n",
       "      <th></th>\n",
       "      <th></th>\n",
       "      <th></th>\n",
       "      <th></th>\n",
       "      <th></th>\n",
       "      <th></th>\n",
       "    </tr>\n",
       "  </thead>\n",
       "  <tbody>\n",
       "    <tr>\n",
       "      <th>강서구</th>\n",
       "      <td>911</td>\n",
       "      <td>134.793814</td>\n",
       "      <td>565133</td>\n",
       "      <td>559335</td>\n",
       "      <td>5798</td>\n",
       "      <td>105023</td>\n",
       "      <td>1.025953</td>\n",
       "      <td>18.583767</td>\n",
       "      <td>0.161201</td>\n",
       "      <td>-812.343063</td>\n",
       "    </tr>\n",
       "    <tr>\n",
       "      <th>송파구</th>\n",
       "      <td>1081</td>\n",
       "      <td>104.347826</td>\n",
       "      <td>658768</td>\n",
       "      <td>652752</td>\n",
       "      <td>6016</td>\n",
       "      <td>111724</td>\n",
       "      <td>0.913220</td>\n",
       "      <td>16.959537</td>\n",
       "      <td>0.164094</td>\n",
       "      <td>-750.352351</td>\n",
       "    </tr>\n",
       "    <tr>\n",
       "      <th>도봉구</th>\n",
       "      <td>825</td>\n",
       "      <td>246.638655</td>\n",
       "      <td>308060</td>\n",
       "      <td>305400</td>\n",
       "      <td>2660</td>\n",
       "      <td>72365</td>\n",
       "      <td>0.863468</td>\n",
       "      <td>23.490554</td>\n",
       "      <td>0.267805</td>\n",
       "      <td>-601.805745</td>\n",
       "    </tr>\n",
       "    <tr>\n",
       "      <th>중랑구</th>\n",
       "      <td>916</td>\n",
       "      <td>79.960707</td>\n",
       "      <td>386782</td>\n",
       "      <td>381126</td>\n",
       "      <td>5656</td>\n",
       "      <td>81160</td>\n",
       "      <td>1.462322</td>\n",
       "      <td>20.983396</td>\n",
       "      <td>0.236826</td>\n",
       "      <td>-601.612678</td>\n",
       "    </tr>\n",
       "    <tr>\n",
       "      <th>강동구</th>\n",
       "      <td>1010</td>\n",
       "      <td>166.490765</td>\n",
       "      <td>466924</td>\n",
       "      <td>462646</td>\n",
       "      <td>4278</td>\n",
       "      <td>85571</td>\n",
       "      <td>0.916209</td>\n",
       "      <td>18.326537</td>\n",
       "      <td>0.216309</td>\n",
       "      <td>-600.057601</td>\n",
       "    </tr>\n",
       "  </tbody>\n",
       "</table>\n",
       "</div>"
      ],
      "text/plain": [
       "       소계       최근증가율     인구수     한국인   외국인     고령자     외국인비율      고령자비율  \\\n",
       "구별                                                                         \n",
       "강서구   911  134.793814  565133  559335  5798  105023  1.025953  18.583767   \n",
       "송파구  1081  104.347826  658768  652752  6016  111724  0.913220  16.959537   \n",
       "도봉구   825  246.638655  308060  305400  2660   72365  0.863468  23.490554   \n",
       "중랑구   916   79.960707  386782  381126  5656   81160  1.462322  20.983396   \n",
       "강동구  1010  166.490765  466924  462646  4278   85571  0.916209  18.326537   \n",
       "\n",
       "       CCTV비율          오차  \n",
       "구별                         \n",
       "강서구  0.161201 -812.343063  \n",
       "송파구  0.164094 -750.352351  \n",
       "도봉구  0.267805 -601.805745  \n",
       "중랑구  0.236826 -601.612678  \n",
       "강동구  0.216309 -600.057601  "
      ]
     },
     "execution_count": 550,
     "metadata": {},
     "output_type": "execute_result"
    }
   ],
   "source": [
    "# 경향 대비 CCTV를 적게 가진 구\n",
    "\n",
    "df_sort_t.head()"
   ]
  },
  {
   "cell_type": "code",
   "execution_count": 552,
   "id": "d068d76a-e6c5-4e6d-b997-a8c105a74fc2",
   "metadata": {},
   "outputs": [],
   "source": [
    "from matplotlib.colors import ListedColormap\n",
    "\n",
    "# colormap을 사용자 정의(user define)로 설정\n",
    "color_step = [\"#e74c3c\", \"#2ecc71\", \"#95a9a6\", '#2ecc71', \"#3498db\", \"#3489db\"]\n",
    "my_cmap =ListedColormap(color_step)"
   ]
  },
  {
   "cell_type": "code",
   "execution_count": 574,
   "id": "f15a1b31-3033-4cda-acd9-c5f5bf305570",
   "metadata": {},
   "outputs": [
    {
     "data": {
      "image/png": "[encoded data removed]",
      "text/plain": [
       "<Figure size 1400x1000 with 2 Axes>"
      ]
     },
     "metadata": {},
     "output_type": "display_data"
    }
   ],
   "source": [
    "def drawGraph():\n",
    "    plt.figure(figsize=(14, 10))\n",
    "    plt.scatter(data_result[\"인구수\"], data_result[\"소계\"], s=50, c=data_result[\"오차\"], cmap=my_cmap)\n",
    "    plt.plot(fx, f1(fx), ls=\"dashed\", lw=3, color=\"g\")\n",
    "\n",
    "    for n in range(5):\n",
    "        # 상위 5개\n",
    "        plt.text(\n",
    "            df_sort_f[\"인구수\"].iloc[n] * 1.02, # x 좌표\n",
    "            df_sort_f[\"소계\"].iloc[n] * 0.98, # y 좌표\n",
    "            df_sort_f.index[n], # title\n",
    "            fontsize=15,\n",
    "        )\n",
    "        \n",
    "        # 하위 5개\n",
    "        plt.text(\n",
    "            df_sort_t[\"인구수\"].iloc[n] * 1.02, # x 좌표\n",
    "            df_sort_t[\"소계\"].iloc[n] * 0.98, # y 좌표\n",
    "            df_sort_t.index[n], # title\n",
    "            fontsize=15,\n",
    "        )\n",
    "        \n",
    "    plt.xlabel(\"인구수\")\n",
    "    plt.ylabel(\"CCTV\")\n",
    "    plt.colorbar()\n",
    "    plt.grid()\n",
    "    plt.show()\n",
    "drawGraph()"
   ]
  },
  {
   "cell_type": "code",
   "execution_count": 576,
   "id": "e1839f3e-e57d-4f54-86af-384c961e70bd",
   "metadata": {},
   "outputs": [],
   "source": [
    "data_result.to_csv(\"../data/01. CCTV_result.csv\", sep=\",\", encoding=\"utf-8\")"
   ]
  },
  {
   "cell_type": "code",
   "execution_count": null,
   "id": "a50d8d7b-d86d-456f-af27-8311be498c4a",
   "metadata": {},
   "outputs": [],
   "source": []
  }
 ],
 "metadata": {
  "kernelspec": {
   "display_name": "ds_study",
   "language": "python",
   "name": "ds_study"
  },
  "language_info": {
   "codemirror_mode": {
    "name": "ipython",
    "version": 3
   },
   "file_extension": ".py",
   "mimetype": "text/x-python",
   "name": "python",
   "nbconvert_exporter": "python",
   "pygments_lexer": "ipython3",
   "version": "3.12.4"
  }
 },
 "nbformat": 4,
 "nbformat_minor": 5
}
